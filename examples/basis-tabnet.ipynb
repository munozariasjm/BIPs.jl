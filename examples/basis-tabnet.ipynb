{
 "cells": [
  {
   "cell_type": "code",
   "execution_count": 1,
   "metadata": {},
   "outputs": [],
   "source": [
    "import pandas as pd\n",
    "import matplotlib.pyplot as plt"
   ]
  },
  {
   "cell_type": "code",
   "execution_count": 3,
   "metadata": {},
   "outputs": [],
   "source": [
    "import numpy as np"
   ]
  },
  {
   "cell_type": "code",
   "execution_count": 2,
   "metadata": {},
   "outputs": [],
   "source": [
    "hyp_btrain = pd.read_csv(\"./storage_basis/normal_train_embedded_jets.csv\", header=None)"
   ]
  },
  {
   "cell_type": "code",
   "execution_count": 4,
   "metadata": {},
   "outputs": [],
   "source": [
    "scale = lambda A: (A - np.mean(A, axis=0)) / np.std(A, axis=0)"
   ]
  },
  {
   "cell_type": "code",
   "execution_count": 5,
   "metadata": {},
   "outputs": [],
   "source": [
    "labels = pd.read_csv(\"./normal_trailabels.csv\", header=None).astype(int)\n"
   ]
  },
  {
   "cell_type": "code",
   "execution_count": 6,
   "metadata": {},
   "outputs": [],
   "source": [
    "X_t = scale(hyp_btrain.values)"
   ]
  },
  {
   "cell_type": "code",
   "execution_count": 8,
   "metadata": {},
   "outputs": [
    {
     "name": "stderr",
     "output_type": "stream",
     "text": [
      "/home/josemm/anaconda3/envs/envJaxLips/lib/python3.9/site-packages/tqdm/auto.py:22: TqdmWarning: IProgress not found. Please update jupyter and ipywidgets. See https://ipywidgets.readthedocs.io/en/stable/user_install.html\n",
      "  from .autonotebook import tqdm as notebook_tqdm\n"
     ]
    }
   ],
   "source": [
    "import numpy as np\n",
    "from pytorch_tabnet.tab_model import TabNetClassifier, TabNetRegressor\n"
   ]
  },
  {
   "cell_type": "code",
   "execution_count": 11,
   "metadata": {},
   "outputs": [],
   "source": [
    "import tqdm\n",
    "import torch"
   ]
  },
  {
   "cell_type": "code",
   "execution_count": 21,
   "metadata": {},
   "outputs": [
    {
     "name": "stderr",
     "output_type": "stream",
     "text": [
      "/home/josemm/anaconda3/envs/envJaxLips/lib/python3.9/site-packages/pytorch_tabnet/abstract_model.py:75: UserWarning: Device used : cpu\n",
      "  warnings.warn(f\"Device used : {self.device}\")\n"
     ]
    }
   ],
   "source": [
    "tabnet_params = {\n",
    "                 \"optimizer_fn\":torch.optim.Adam,\n",
    "                 \"device_name\":'cpu',\n",
    "                }\n",
    "\n",
    "clf = TabNetClassifier(**tabnet_params\n",
    "                      )"
   ]
  },
  {
   "cell_type": "code",
   "execution_count": 22,
   "metadata": {},
   "outputs": [],
   "source": [
    "from sklearn.model_selection import train_test_split\n",
    "X_train, X_v, y_train, y_v = train_test_split(hyp_btrain.values, labels.values, test_size=0.2, random_state=42)"
   ]
  },
  {
   "cell_type": "code",
   "execution_count": 23,
   "metadata": {},
   "outputs": [
    {
     "name": "stdout",
     "output_type": "stream",
     "text": [
      "epoch 0  | loss: 0.24548 | val_0_auc: 0.97312 |  0:01:26s\n",
      "epoch 1  | loss: 0.20154 | val_0_auc: 0.97574 |  0:02:52s\n",
      "epoch 2  | loss: 0.19216 | val_0_auc: 0.97792 |  0:04:17s\n",
      "epoch 3  | loss: 0.18739 | val_0_auc: 0.97812 |  0:05:43s\n",
      "epoch 4  | loss: 0.18606 | val_0_auc: 0.9785  |  0:07:08s\n",
      "epoch 5  | loss: 0.18374 | val_0_auc: 0.97937 |  0:08:33s\n",
      "epoch 6  | loss: 0.18369 | val_0_auc: 0.97918 |  0:09:58s\n",
      "epoch 7  | loss: 0.18317 | val_0_auc: 0.9796  |  0:11:23s\n",
      "epoch 8  | loss: 0.18225 | val_0_auc: 0.97909 |  0:12:48s\n",
      "epoch 9  | loss: 0.18048 | val_0_auc: 0.98005 |  0:14:13s\n",
      "epoch 10 | loss: 0.18008 | val_0_auc: 0.98014 |  0:15:40s\n",
      "epoch 11 | loss: 0.17898 | val_0_auc: 0.97955 |  0:17:19s\n",
      "epoch 12 | loss: 0.17888 | val_0_auc: 0.97984 |  0:18:58s\n",
      "epoch 13 | loss: 0.17808 | val_0_auc: 0.9804  |  0:20:35s\n",
      "epoch 14 | loss: 0.17871 | val_0_auc: 0.97996 |  0:22:14s\n",
      "epoch 15 | loss: 0.17825 | val_0_auc: 0.98013 |  0:23:54s\n",
      "epoch 16 | loss: 0.17718 | val_0_auc: 0.98034 |  0:25:43s\n",
      "epoch 17 | loss: 0.17694 | val_0_auc: 0.9805  |  0:27:27s\n",
      "epoch 18 | loss: 0.17666 | val_0_auc: 0.98037 |  0:29:11s\n",
      "epoch 19 | loss: 0.17638 | val_0_auc: 0.98038 |  0:30:56s\n",
      "epoch 20 | loss: 0.17638 | val_0_auc: 0.98064 |  0:32:40s\n",
      "epoch 21 | loss: 0.17636 | val_0_auc: 0.9804  |  0:34:25s\n",
      "epoch 22 | loss: 0.17572 | val_0_auc: 0.98048 |  0:36:09s\n",
      "epoch 23 | loss: 0.17575 | val_0_auc: 0.98057 |  0:37:53s\n",
      "epoch 24 | loss: 0.17571 | val_0_auc: 0.98036 |  0:39:37s\n",
      "epoch 25 | loss: 0.17562 | val_0_auc: 0.98058 |  0:41:21s\n",
      "epoch 26 | loss: 0.17556 | val_0_auc: 0.98011 |  0:43:05s\n",
      "epoch 27 | loss: 0.17536 | val_0_auc: 0.98059 |  0:44:49s\n",
      "epoch 28 | loss: 0.17536 | val_0_auc: 0.98023 |  0:46:34s\n",
      "epoch 29 | loss: 0.17518 | val_0_auc: 0.9807  |  0:48:18s\n",
      "epoch 30 | loss: 0.17508 | val_0_auc: 0.98047 |  0:50:02s\n",
      "epoch 31 | loss: 0.17472 | val_0_auc: 0.98048 |  0:51:46s\n",
      "epoch 32 | loss: 0.17482 | val_0_auc: 0.98073 |  0:53:31s\n",
      "epoch 33 | loss: 0.17476 | val_0_auc: 0.98076 |  0:55:16s\n",
      "epoch 34 | loss: 0.17448 | val_0_auc: 0.98052 |  0:57:10s\n",
      "epoch 35 | loss: 0.17453 | val_0_auc: 0.98076 |  0:59:16s\n",
      "epoch 36 | loss: 0.17542 | val_0_auc: 0.98077 |  1:01:09s\n",
      "epoch 37 | loss: 0.1745  | val_0_auc: 0.98082 |  1:02:55s\n",
      "epoch 38 | loss: 0.17436 | val_0_auc: 0.98066 |  1:04:48s\n",
      "epoch 39 | loss: 0.17419 | val_0_auc: 0.98072 |  1:06:36s\n",
      "epoch 40 | loss: 0.17425 | val_0_auc: 0.97093 |  1:08:21s\n",
      "epoch 41 | loss: 0.17507 | val_0_auc: 0.98068 |  1:10:16s\n",
      "epoch 42 | loss: 0.17386 | val_0_auc: 0.98065 |  1:12:03s\n",
      "epoch 43 | loss: 0.17403 | val_0_auc: 0.9806  |  1:14:05s\n",
      "epoch 44 | loss: 0.17408 | val_0_auc: 0.98049 |  1:15:47s\n",
      "epoch 45 | loss: 0.17381 | val_0_auc: 0.98078 |  1:17:16s\n",
      "epoch 46 | loss: 0.17382 | val_0_auc: 0.98058 |  1:18:44s\n",
      "epoch 47 | loss: 0.1739  | val_0_auc: 0.98084 |  1:20:33s\n",
      "epoch 48 | loss: 0.17372 | val_0_auc: 0.98082 |  1:24:28s\n",
      "epoch 49 | loss: 0.1735  | val_0_auc: 0.98067 |  1:26:23s\n",
      "epoch 50 | loss: 0.17366 | val_0_auc: 0.98096 |  1:28:30s\n",
      "epoch 51 | loss: 0.17352 | val_0_auc: 0.98093 |  1:30:35s\n",
      "epoch 52 | loss: 0.17353 | val_0_auc: 0.98076 |  1:32:17s\n",
      "epoch 53 | loss: 0.17333 | val_0_auc: 0.98088 |  1:35:11s\n",
      "epoch 54 | loss: 0.17412 | val_0_auc: 0.98    |  1:38:45s\n",
      "epoch 55 | loss: 0.17389 | val_0_auc: 0.98068 |  1:42:29s\n",
      "epoch 56 | loss: 0.17328 | val_0_auc: 0.98095 |  1:46:28s\n",
      "epoch 57 | loss: 0.17343 | val_0_auc: 0.9808  |  1:50:58s\n",
      "epoch 58 | loss: 0.17326 | val_0_auc: 0.98105 |  1:54:42s\n",
      "epoch 59 | loss: 0.17326 | val_0_auc: 0.98057 |  1:58:20s\n",
      "epoch 60 | loss: 0.17337 | val_0_auc: 0.98089 |  2:01:44s\n",
      "epoch 61 | loss: 0.17301 | val_0_auc: 0.98095 |  2:06:00s\n",
      "epoch 62 | loss: 0.17324 | val_0_auc: 0.98098 |  2:09:47s\n",
      "epoch 63 | loss: 0.17318 | val_0_auc: 0.9804  |  2:12:33s\n",
      "epoch 64 | loss: 0.17301 | val_0_auc: 0.98085 |  2:16:50s\n",
      "epoch 65 | loss: 0.17293 | val_0_auc: 0.98066 |  2:19:55s\n",
      "epoch 66 | loss: 0.17278 | val_0_auc: 0.98084 |  2:23:03s\n",
      "epoch 67 | loss: 0.17285 | val_0_auc: 0.98111 |  2:26:18s\n",
      "epoch 68 | loss: 0.17296 | val_0_auc: 0.98104 |  2:30:52s\n",
      "epoch 69 | loss: 0.17264 | val_0_auc: 0.98092 |  2:34:46s\n",
      "epoch 70 | loss: 0.17272 | val_0_auc: 0.98095 |  2:38:20s\n",
      "epoch 71 | loss: 0.17269 | val_0_auc: 0.98098 |  2:41:46s\n",
      "epoch 72 | loss: 0.17367 | val_0_auc: 0.98105 |  2:45:19s\n",
      "epoch 73 | loss: 0.1728  | val_0_auc: 0.98093 |  2:48:22s\n",
      "epoch 74 | loss: 0.17261 | val_0_auc: 0.98107 |  2:53:15s\n",
      "epoch 75 | loss: 0.1749  | val_0_auc: 0.9809  |  2:56:22s\n",
      "epoch 76 | loss: 0.17289 | val_0_auc: 0.98088 |  2:59:17s\n",
      "epoch 77 | loss: 0.1724  | val_0_auc: 0.98103 |  3:02:11s\n",
      "\n",
      "Early stopping occurred at epoch 77 with best_epoch = 67 and best_val_0_auc = 0.98111\n"
     ]
    },
    {
     "name": "stderr",
     "output_type": "stream",
     "text": [
      "/home/josemm/anaconda3/envs/envJaxLips/lib/python3.9/site-packages/pytorch_tabnet/callbacks.py:172: UserWarning: Best weights from best epoch are automatically used!\n",
      "  warnings.warn(wrn_msg)\n"
     ]
    }
   ],
   "source": [
    "clf.fit(\n",
    " X_train, y_train.reshape(1 , -1).squeeze(),\n",
    " eval_set=[(X_v, y_v.reshape(1 , -1).squeeze())],\n",
    " eval_metric=['auc'],\n",
    ")"
   ]
  },
  {
   "cell_type": "code",
   "execution_count": 24,
   "metadata": {},
   "outputs": [
    {
     "name": "stdout",
     "output_type": "stream",
     "text": [
      "Successfully saved model at ./tabnet_model_test_1.zip\n"
     ]
    }
   ],
   "source": [
    "# save tabnet model\n",
    "saving_path_name = \"./tabnet_model_test_1\"\n",
    "saved_filepath = clf.save_model(saving_path_name)"
   ]
  },
  {
   "cell_type": "markdown",
   "metadata": {},
   "source": [
    "# Valid data data"
   ]
  },
  {
   "cell_type": "code",
   "execution_count": 25,
   "metadata": {},
   "outputs": [],
   "source": [
    "# define new model with basic parameters and #load state dict weights\n",
    "#loaded_clf = TabNetClassifier()#\n",
    "#loaded_clf.load_model(saved_filepath)"
   ]
  },
  {
   "cell_type": "code",
   "execution_count": 26,
   "metadata": {},
   "outputs": [],
   "source": [
    "hyp_bval = pd.read_csv(\"./storage_basis/normal_val_embedded_jets.csv\", header=None)\n",
    "#lab_bval = pd.read_csv(\"./storage_basis/beam_val_embedded_jets.csv\", header=None)\n",
    "val_labels = pd.read_csv(\"./normal_val_labels.csv\", header=None).astype(int)"
   ]
  },
  {
   "cell_type": "code",
   "execution_count": 28,
   "metadata": {},
   "outputs": [],
   "source": [
    "val_preds = clf.predict(hyp_bval.values)"
   ]
  },
  {
   "cell_type": "code",
   "execution_count": 34,
   "metadata": {},
   "outputs": [
    {
     "data": {
      "text/plain": [
       "0.9815855622470527"
      ]
     },
     "execution_count": 34,
     "metadata": {},
     "output_type": "execute_result"
    }
   ],
   "source": [
    "1 - np.mean(val_preds - val_labels.values.reshape(1 , -1).squeeze())"
   ]
  },
  {
   "cell_type": "markdown",
   "metadata": {},
   "source": []
  },
  {
   "cell_type": "markdown",
   "metadata": {},
   "source": [
    "# Test"
   ]
  },
  {
   "cell_type": "code",
   "execution_count": 37,
   "metadata": {},
   "outputs": [],
   "source": [
    "test_basis = pd.read_csv(\"./normal_test_basis.csv\", header=None)\n",
    "test_labels = pd.read_csv(\"./test_labels.csv\", header=None).astype(int)"
   ]
  },
  {
   "cell_type": "code",
   "execution_count": 38,
   "metadata": {},
   "outputs": [],
   "source": [
    "test_preds = clf.predict(test_basis.values)"
   ]
  },
  {
   "cell_type": "code",
   "execution_count": 39,
   "metadata": {},
   "outputs": [
    {
     "data": {
      "text/plain": [
       "0.9827077923845969"
      ]
     },
     "execution_count": 39,
     "metadata": {},
     "output_type": "execute_result"
    }
   ],
   "source": [
    "1 - np.mean(test_preds - test_labels.values.reshape(1 , -1).squeeze())"
   ]
  },
  {
   "cell_type": "code",
   "execution_count": 40,
   "metadata": {},
   "outputs": [],
   "source": [
    "test_probas = clf.predict_proba(test_basis.values)"
   ]
  },
  {
   "cell_type": "code",
   "execution_count": null,
   "metadata": {},
   "outputs": [],
   "source": []
  }
 ],
 "metadata": {
  "kernelspec": {
   "display_name": "Python 3",
   "language": "python",
   "name": "python3"
  },
  "language_info": {
   "codemirror_mode": {
    "name": "ipython",
    "version": 3
   },
   "file_extension": ".py",
   "mimetype": "text/x-python",
   "name": "python",
   "nbconvert_exporter": "python",
   "pygments_lexer": "ipython3",
   "version": "3.8.10 (default, Nov 14 2022, 12:59:47) \n[GCC 9.4.0]"
  },
  "orig_nbformat": 4,
  "vscode": {
   "interpreter": {
    "hash": "916dbcbb3f70747c44a77c7bcd40155683ae19c65e1c03b4aa3499c5328201f1"
   }
  }
 },
 "nbformat": 4,
 "nbformat_minor": 2
}
