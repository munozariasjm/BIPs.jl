{
 "cells": [
  {
   "cell_type": "markdown",
   "metadata": {},
   "source": [
    "# BIP Framework training example "
   ]
  },
  {
   "cell_type": "code",
   "execution_count": 1,
   "metadata": {},
   "outputs": [
    {
     "name": "stderr",
     "output_type": "stream",
     "text": [
      "\u001b[32m\u001b[1m  Activating\u001b[22m\u001b[39m project at `/z1-josemm/josemm/MyDocs/personal_BIP/BIPs.jl`\n"
     ]
    }
   ],
   "source": [
    "using Pkg\n",
    "Pkg.activate(\"..\")\n",
    "using BIPs"
   ]
  },
  {
   "cell_type": "code",
   "execution_count": 2,
   "metadata": {},
   "outputs": [],
   "source": [
    "using Statistics\n",
    "using Pkg.Artifacts\n",
    "using DelimitedFiles\n"
   ]
  },
  {
   "cell_type": "markdown",
   "metadata": {},
   "source": [
    "Lets begin by bringing in the dataset. It contains tree splits:\n",
    "* **train**: the training set with 1M jets\n",
    "* **validation**: the validation set with 400k jets\n",
    "\n",
    "And of course later we will use the **test** set with other 400k jets to report the results\n"
   ]
  },
  {
   "cell_type": "code",
   "execution_count": 3,
   "metadata": {},
   "outputs": [
    {
     "data": {
      "text/plain": [
       "\"../../../DataLake/raw/val.h5\""
      ]
     },
     "metadata": {},
     "output_type": "display_data"
    }
   ],
   "source": [
    "dataset_path = \"../../../DataLake/raw\"\n",
    "# dataset_path = \"/Users/ortner/datasets/toptagging\"\n",
    "\n",
    "train_data_path = dataset_path*\"/train.h5\"\n",
    "val_data_path = dataset_path*\"/val.h5\""
   ]
  },
  {
   "cell_type": "markdown",
   "metadata": {},
   "source": [
    "### Reading the data\n",
    "\n",
    "In order to read the datasets, we call the `read_dataset` function:\n",
    "to read the TopQuark format"
   ]
  },
  {
   "cell_type": "code",
   "execution_count": 4,
   "metadata": {},
   "outputs": [
    {
     "name": "stdout",
     "output_type": "stream",
     "text": [
      "Number of entries in the training data: 1210997"
     ]
    }
   ],
   "source": [
    "train_jets, train_labels = BIPs.read_data(\"TQ\", train_data_path)\n",
    "train_labels = [reinterpret(Bool, b == 1.0) for b in train_labels]\n",
    "print(\"Number of entries in the training data: \", length(train_jets))"
   ]
  },
  {
   "cell_type": "code",
   "execution_count": 5,
   "metadata": {},
   "outputs": [
    {
     "name": "stdout",
     "output_type": "stream",
     "text": [
      "Number of entries in the validation data: 402999"
     ]
    }
   ],
   "source": [
    "val_jets, val_labels = BIPs.read_data(\"TQ\", val_data_path)\n",
    "val_labels = [reinterpret(Bool, b == 1.0) for b in val_labels]\n",
    "print(\"Number of entries in the validation data: \", length(val_jets))"
   ]
  },
  {
   "cell_type": "markdown",
   "metadata": {},
   "source": [
    "Lets examine how one of the jets looks like, each one of the entries is one detected particle's four momentum $(E, p_x, p_y, p_z)$."
   ]
  },
  {
   "cell_type": "markdown",
   "metadata": {},
   "source": [
    "However,in order to compute the embeddings, it is necesary to convert the jets to a format that can be used by the framework. The function `data2hyp` allows to convert each detected four momentum to the jet basis, a.k.a $(\\tilde p_T, \\cos(\\theta), \\sin(\\theta), \\tilde y, E_T)$"
   ]
  },
  {
   "cell_type": "code",
   "execution_count": 6,
   "metadata": {},
   "outputs": [
    {
     "name": "stdout",
     "output_type": "stream",
     "text": [
      "Transformed jets\n"
     ]
    }
   ],
   "source": [
    "train_transf_jets = data2basis(train_jets; basis=\"lab\")\n",
    "val_transf_jets = data2basis(val_jets;  basis=\"lab\")\n",
    "println(\"Transformed jets\")"
   ]
  },
  {
   "cell_type": "markdown",
   "metadata": {},
   "source": [
    "### The embeddings"
   ]
  },
  {
   "cell_type": "markdown",
   "metadata": {},
   "source": [
    "Once the jets are converted to the jet basis, it is moment to embed the model using the *Invariant Polynomials*. \n",
    "\n",
    "The function `build_ip` allocates efficiently the sparse basis, while the `bip_data` computes the invariant representation of each one of the jets."
   ]
  },
  {
   "cell_type": "code",
   "execution_count": 7,
   "metadata": {},
   "outputs": [
    {
     "data": {
      "text/plain": [
       "bip_data (generic function with 1 method)"
      ]
     },
     "metadata": {},
     "output_type": "display_data"
    }
   ],
   "source": [
    "f_bip, specs = build_ip(order=3, levels=6)\n",
    "    \n",
    "function bip_data(dataset_jets)\n",
    "    storage = zeros(length(dataset_jets), length(specs))\n",
    "    for i = 1:length(dataset_jets)\n",
    "        storage[i, :] = f_bip(dataset_jets[i])\n",
    "    end\n",
    "    storage[:, 2:end]\n",
    "end"
   ]
  },
  {
   "cell_type": "code",
   "execution_count": 8,
   "metadata": {},
   "outputs": [
    {
     "name": "stdout",
     "output_type": "stream",
     "text": [
      "Embedded train jets correclty\n"
     ]
    },
    {
     "name": "stdout",
     "output_type": "stream",
     "text": [
      "Embedded test jets correclty\n"
     ]
    }
   ],
   "source": [
    "train_embedded_jets = bip_data(train_transf_jets)\n",
    "println(\"Embedded train jets correclty\")\n",
    "val_embedded_jets = bip_data(val_transf_jets)\n",
    "println(\"Embedded test jets correclty\")"
   ]
  },
  {
   "cell_type": "markdown",
   "metadata": {},
   "source": [
    "## Test data"
   ]
  },
  {
   "cell_type": "code",
   "execution_count": 9,
   "metadata": {},
   "outputs": [
    {
     "name": "stdout",
     "output_type": "stream",
     "text": [
      "Embedded test jets correclty"
     ]
    }
   ],
   "source": [
    "test_data_path = \"../../../DataLake/raw/test.h5\"\n",
    "test_jets, test_labels = BIPs.read_data(\"TQ\", test_data_path)\n",
    "test_labels = [reinterpret(Bool, b == 1.0) for b in test_labels]\n",
    "test_transf_jets = data2basis(test_jets; basis=\"lab\")\n",
    "test_embedded_jets = bip_data(test_transf_jets)\n",
    "print(\"Embedded test jets correclty\")"
   ]
  },
  {
   "cell_type": "code",
   "execution_count": 10,
   "metadata": {},
   "outputs": [
    {
     "data": {
      "text/plain": [
       "([-1.5684881899977778 0.21517065062201138 … 1.0583723074179052 0.9999980443685902; -1.0464540047230453 -1.2129042835958876 … 1.3602321530710515 0.8849767488171001; … ; 0.20940060839779454 -1.256219961289861 … 0.9333375308164582 0.11691180598158092; -0.03474706067294569 1.3757871735615792 … -1.0559815524034395 0.345823366471957], Bool[0, 0, 0, 0, 0, 0, 0, 0, 0, 0  …  1, 1, 1, 1, 1, 1, 1, 1, 1, 1])"
      ]
     },
     "metadata": {},
     "output_type": "display_data"
    }
   ],
   "source": [
    "scale(A) = (A .- mean(A, dims=1)) ./ std(A, dims=1)\n",
    "\n",
    "##\n",
    "X_train, y_train = scale(train_embedded_jets), train_labels\n",
    "X_test, y_test = scale(test_embedded_jets), test_labels\n",
    "X_val, y_val = scale(val_embedded_jets), val_labels\n"
   ]
  },
  {
   "cell_type": "markdown",
   "metadata": {},
   "source": [
    "# CLASSIFIERS"
   ]
  },
  {
   "cell_type": "markdown",
   "metadata": {},
   "source": [
    "### MLP"
   ]
  },
  {
   "cell_type": "code",
   "execution_count": 11,
   "metadata": {},
   "outputs": [],
   "source": [
    "using PyCall\n",
    "@pyimport sklearn.neural_network as sk_nn"
   ]
  },
  {
   "cell_type": "code",
   "execution_count": 12,
   "metadata": {},
   "outputs": [
    {
     "data": {
      "text/html": [
       "<style>#sk-container-id-3 {color: black;background-color: white;}#sk-container-id-3 pre{padding: 0;}#sk-container-id-3 div.sk-toggleable {background-color: white;}#sk-container-id-3 label.sk-toggleable__label {cursor: pointer;display: block;width: 100%;margin-bottom: 0;padding: 0.3em;box-sizing: border-box;text-align: center;}#sk-container-id-3 label.sk-toggleable__label-arrow:before {content: \"▸\";float: left;margin-right: 0.25em;color: #696969;}#sk-container-id-3 label.sk-toggleable__label-arrow:hover:before {color: black;}#sk-container-id-3 div.sk-estimator:hover label.sk-toggleable__label-arrow:before {color: black;}#sk-container-id-3 div.sk-toggleable__content {max-height: 0;max-width: 0;overflow: hidden;text-align: left;background-color: #f0f8ff;}#sk-container-id-3 div.sk-toggleable__content pre {margin: 0.2em;color: black;border-radius: 0.25em;background-color: #f0f8ff;}#sk-container-id-3 input.sk-toggleable__control:checked~div.sk-toggleable__content {max-height: 200px;max-width: 100%;overflow: auto;}#sk-container-id-3 input.sk-toggleable__control:checked~label.sk-toggleable__label-arrow:before {content: \"▾\";}#sk-container-id-3 div.sk-estimator input.sk-toggleable__control:checked~label.sk-toggleable__label {background-color: #d4ebff;}#sk-container-id-3 div.sk-label input.sk-toggleable__control:checked~label.sk-toggleable__label {background-color: #d4ebff;}#sk-container-id-3 input.sk-hidden--visually {border: 0;clip: rect(1px 1px 1px 1px);clip: rect(1px, 1px, 1px, 1px);height: 1px;margin: -1px;overflow: hidden;padding: 0;position: absolute;width: 1px;}#sk-container-id-3 div.sk-estimator {font-family: monospace;background-color: #f0f8ff;border: 1px dotted black;border-radius: 0.25em;box-sizing: border-box;margin-bottom: 0.5em;}#sk-container-id-3 div.sk-estimator:hover {background-color: #d4ebff;}#sk-container-id-3 div.sk-parallel-item::after {content: \"\";width: 100%;border-bottom: 1px solid gray;flex-grow: 1;}#sk-container-id-3 div.sk-label:hover label.sk-toggleable__label {background-color: #d4ebff;}#sk-container-id-3 div.sk-serial::before {content: \"\";position: absolute;border-left: 1px solid gray;box-sizing: border-box;top: 0;bottom: 0;left: 50%;z-index: 0;}#sk-container-id-3 div.sk-serial {display: flex;flex-direction: column;align-items: center;background-color: white;padding-right: 0.2em;padding-left: 0.2em;position: relative;}#sk-container-id-3 div.sk-item {position: relative;z-index: 1;}#sk-container-id-3 div.sk-parallel {display: flex;align-items: stretch;justify-content: center;background-color: white;position: relative;}#sk-container-id-3 div.sk-item::before, #sk-container-id-3 div.sk-parallel-item::before {content: \"\";position: absolute;border-left: 1px solid gray;box-sizing: border-box;top: 0;bottom: 0;left: 50%;z-index: -1;}#sk-container-id-3 div.sk-parallel-item {display: flex;flex-direction: column;z-index: 1;position: relative;background-color: white;}#sk-container-id-3 div.sk-parallel-item:first-child::after {align-self: flex-end;width: 50%;}#sk-container-id-3 div.sk-parallel-item:last-child::after {align-self: flex-start;width: 50%;}#sk-container-id-3 div.sk-parallel-item:only-child::after {width: 0;}#sk-container-id-3 div.sk-dashed-wrapped {border: 1px dashed gray;margin: 0 0.4em 0.5em 0.4em;box-sizing: border-box;padding-bottom: 0.4em;background-color: white;}#sk-container-id-3 div.sk-label label {font-family: monospace;font-weight: bold;display: inline-block;line-height: 1.2em;}#sk-container-id-3 div.sk-label-container {text-align: center;}#sk-container-id-3 div.sk-container {/* jupyter's `normalize.less` sets `[hidden] { display: none; }` but bootstrap.min.css set `[hidden] { display: none !important; }` so we also need the `!important` here to be able to override the default hidden behavior on the sphinx rendered scikit-learn.org. See: https://github.com/scikit-learn/scikit-learn/issues/21755 */display: inline-block !important;position: relative;}#sk-container-id-3 div.sk-text-repr-fallback {display: none;}</style><div id=\"sk-container-id-3\" class=\"sk-top-container\"><div class=\"sk-text-repr-fallback\"><pre>MLPClassifier(hidden_layer_sizes=(50,), max_iter=2000, n_iter_no_change=50,\n",
       "              verbose=True)</pre><b>In a Jupyter environment, please rerun this cell to show the HTML representation or trust the notebook. <br />On GitHub, the HTML representation is unable to render, please try loading this page with nbviewer.org.</b></div><div class=\"sk-container\" hidden><div class=\"sk-item\"><div class=\"sk-estimator sk-toggleable\"><input class=\"sk-toggleable__control sk-hidden--visually\" id=\"sk-estimator-id-3\" type=\"checkbox\" checked><label for=\"sk-estimator-id-3\" class=\"sk-toggleable__label sk-toggleable__label-arrow\">MLPClassifier</label><div class=\"sk-toggleable__content\"><pre>MLPClassifier(hidden_layer_sizes=(50,), max_iter=2000, n_iter_no_change=50,\n",
       "              verbose=True)</pre></div></div></div></div></div>"
      ],
      "text/plain": [
       "PyObject MLPClassifier(hidden_layer_sizes=(50,), max_iter=2000, n_iter_no_change=50,\n",
       "              verbose=True)"
      ]
     },
     "metadata": {},
     "output_type": "display_data"
    }
   ],
   "source": [
    "mlp = sk_nn.MLPClassifier(verbose=true, max_iter=2000, hidden_layer_sizes=(50,), n_iter_no_change=50)"
   ]
  },
  {
   "cell_type": "code",
   "execution_count": 13,
   "metadata": {},
   "outputs": [
    {
     "name": "stdout",
     "output_type": "stream",
     "text": [
      "Iteration 1, loss = 0.26617843\n",
      "Iteration 2, loss = 0.23981651\n",
      "Iteration 3, loss = 0.23579456\n",
      "Iteration 4, loss = 0.23384599\n",
      "Iteration 5, loss = 0.23238238\n",
      "Iteration 6, loss = 0.23154185\n",
      "Iteration 7, loss = 0.23021646\n",
      "Iteration 8, loss = 0.22962900\n",
      "Iteration 9, loss = 0.22926098\n",
      "Iteration 10, loss = 0.22867599\n",
      "Iteration 11, loss = 0.22806906\n",
      "Iteration 12, loss = 0.22778734\n",
      "Iteration 13, loss = 0.22702670\n",
      "Iteration 14, loss = 0.22667369\n",
      "Iteration 15, loss = 0.22623597\n",
      "Iteration 16, loss = 0.22589829\n",
      "Iteration 17, loss = 0.22561057\n",
      "Iteration 18, loss = 0.22543174\n",
      "Iteration 19, loss = 0.22528023\n",
      "Iteration 20, loss = 0.22522938\n",
      "Iteration 21, loss = 0.22482692\n",
      "Iteration 22, loss = 0.22443516\n",
      "Iteration 23, loss = 0.22437161\n",
      "Iteration 24, loss = 0.22415949\n",
      "Iteration 25, loss = 0.22404283\n",
      "Iteration 26, loss = 0.22387212\n",
      "Iteration 27, loss = 0.22376232\n",
      "Iteration 28, loss = 0.22346804\n",
      "Iteration 29, loss = 0.22338139\n",
      "Iteration 30, loss = 0.22334900\n",
      "Iteration 31, loss = 0.22312686\n",
      "Iteration 32, loss = 0.22290031\n",
      "Iteration 33, loss = 0.22278817\n",
      "Iteration 34, loss = 0.22258081\n",
      "Iteration 35, loss = 0.22251521\n",
      "Iteration 36, loss = 0.22244875\n",
      "Iteration 37, loss = 0.22241352\n",
      "Iteration 38, loss = 0.22218198\n",
      "Iteration 39, loss = 0.22225148\n",
      "Iteration 40, loss = 0.22215808\n",
      "Iteration 41, loss = 0.22196957\n",
      "Iteration 42, loss = 0.22183319\n",
      "Iteration 43, loss = 0.22160394\n",
      "Iteration 44, loss = 0.22175787\n",
      "Iteration 45, loss = 0.22146218\n",
      "Iteration 46, loss = 0.22152430\n",
      "Iteration 47, loss = 0.22134753\n",
      "Iteration 48, loss = 0.22123275\n",
      "Iteration 49, loss = 0.22125812\n",
      "Iteration 50, loss = 0.22110327\n",
      "Iteration 51, loss = 0.22126051\n",
      "Iteration 52, loss = 0.22076107\n",
      "Iteration 53, loss = 0.22082135\n",
      "Iteration 54, loss = 0.22066458\n",
      "Iteration 55, loss = 0.22086644\n",
      "Iteration 56, loss = 0.22053956\n",
      "Iteration 57, loss = 0.22057515\n",
      "Iteration 58, loss = 0.22057020\n",
      "Iteration 59, loss = 0.22042855\n",
      "Iteration 60, loss = 0.22011922\n",
      "Iteration 61, loss = 0.22030322\n",
      "Iteration 62, loss = 0.22017403\n",
      "Iteration 63, loss = 0.22000312\n",
      "Iteration 64, loss = 0.22014901\n",
      "Iteration 65, loss = 0.22011811\n",
      "Iteration 66, loss = 0.21998464\n",
      "Iteration 67, loss = 0.21975506\n",
      "Iteration 68, loss = 0.21981832\n",
      "Iteration 69, loss = 0.21974004\n",
      "Iteration 70, loss = 0.21967332\n",
      "Iteration 71, loss = 0.21972930\n",
      "Iteration 72, loss = 0.21979657\n",
      "Iteration 73, loss = 0.21949165\n",
      "Iteration 74, loss = 0.21944570\n",
      "Iteration 75, loss = 0.21936142\n",
      "Iteration 76, loss = 0.21950796\n",
      "Iteration 77, loss = 0.21947680\n",
      "Iteration 78, loss = 0.21928323\n",
      "Iteration 79, loss = 0.21927791\n",
      "Iteration 80, loss = 0.21915046\n",
      "Iteration 81, loss = 0.21901606\n",
      "Iteration 82, loss = 0.21908072\n",
      "Iteration 83, loss = 0.21906151\n",
      "Iteration 84, loss = 0.21884774\n",
      "Iteration 85, loss = 0.21887806\n",
      "Iteration 86, loss = 0.21898496\n",
      "Iteration 87, loss = 0.21868872\n",
      "Iteration 88, loss = 0.21887481\n",
      "Iteration 89, loss = 0.21873664\n",
      "Iteration 90, loss = 0.21864211\n",
      "Iteration 91, loss = 0.21869090\n",
      "Iteration 92, loss = 0.21861954\n",
      "Iteration 93, loss = 0.21860296\n",
      "Iteration 94, loss = 0.21844029\n",
      "Iteration 95, loss = 0.21844419\n",
      "Iteration 96, loss = 0.21823184\n",
      "Iteration 97, loss = 0.21831252\n",
      "Iteration 98, loss = 0.21830821\n",
      "Iteration 99, loss = 0.21820756\n",
      "Iteration 100, loss = 0.21833521\n",
      "Iteration 101, loss = 0.21825944\n",
      "Iteration 102, loss = 0.21815737\n",
      "Iteration 103, loss = 0.21809771\n",
      "Iteration 104, loss = 0.21789856\n",
      "Iteration 105, loss = 0.21798560\n",
      "Iteration 106, loss = 0.21802035\n",
      "Iteration 107, loss = 0.21784671\n",
      "Iteration 108, loss = 0.21784325\n",
      "Iteration 109, loss = 0.21785862\n",
      "Iteration 110, loss = 0.21799152\n",
      "Iteration 111, loss = 0.21782713\n",
      "Iteration 112, loss = 0.21755953\n",
      "Iteration 113, loss = 0.21773973\n",
      "Iteration 114, loss = 0.21783161\n",
      "Iteration 115, loss = 0.21760055\n",
      "Iteration 116, loss = 0.21759201\n",
      "Iteration 117, loss = 0.21755660\n",
      "Iteration 118, loss = 0.21747691\n",
      "Iteration 119, loss = 0.21746629\n",
      "Iteration 120, loss = 0.21763934\n",
      "Iteration 121, loss = 0.21743003\n",
      "Iteration 122, loss = 0.21729832\n",
      "Iteration 123, loss = 0.21722018\n",
      "Iteration 124, loss = 0.21741181\n",
      "Iteration 125, loss = 0.21713178\n",
      "Iteration 126, loss = 0.21721795\n",
      "Iteration 127, loss = 0.21707161\n",
      "Iteration 128, loss = 0.21708040\n",
      "Iteration 129, loss = 0.21717872\n",
      "Iteration 130, loss = 0.21708456\n",
      "Iteration 131, loss = 0.21717912\n",
      "Iteration 132, loss = 0.21705393\n",
      "Iteration 133, loss = 0.21705727\n",
      "Iteration 134, loss = 0.21703809\n",
      "Iteration 135, loss = 0.21686046\n",
      "Iteration 136, loss = 0.21691089\n",
      "Iteration 137, loss = 0.21682846\n",
      "Iteration 138, loss = 0.21671927\n",
      "Iteration 139, loss = 0.21688541\n",
      "Iteration 140, loss = 0.21669511\n",
      "Iteration 141, loss = 0.21668067\n",
      "Iteration 142, loss = 0.21667434\n",
      "Iteration 143, loss = 0.21674736\n",
      "Iteration 144, loss = 0.21692195\n",
      "Iteration 145, loss = 0.21649748\n",
      "Iteration 146, loss = 0.21665865\n",
      "Iteration 147, loss = 0.21672715\n",
      "Iteration 148, loss = 0.21668143\n",
      "Iteration 149, loss = 0.21645307\n",
      "Iteration 150, loss = 0.21657317\n",
      "Iteration 151, loss = 0.21648552\n",
      "Iteration 152, loss = 0.21623365\n",
      "Iteration 153, loss = 0.21621606\n",
      "Iteration 154, loss = 0.21641266\n",
      "Iteration 155, loss = 0.21617029\n",
      "Iteration 156, loss = 0.21643120\n",
      "Iteration 157, loss = 0.21629113\n",
      "Iteration 158, loss = 0.21616664\n",
      "Iteration 159, loss = 0.21622360\n",
      "Iteration 160, loss = 0.21621189\n",
      "Iteration 161, loss = 0.21600706\n",
      "Iteration 162, loss = 0.21621390\n",
      "Iteration 163, loss = 0.21622586\n",
      "Iteration 164, loss = 0.21594121\n",
      "Iteration 165, loss = 0.21601092\n",
      "Iteration 166, loss = 0.21598799\n",
      "Iteration 167, loss = 0.21584494\n",
      "Iteration 168, loss = 0.21608192\n",
      "Iteration 169, loss = 0.21604050\n",
      "Iteration 170, loss = 0.21582127\n",
      "Iteration 171, loss = 0.21578470\n",
      "Iteration 172, loss = 0.21578019\n",
      "Iteration 173, loss = 0.21592893\n",
      "Iteration 174, loss = 0.21596612\n",
      "Iteration 175, loss = 0.21589648\n",
      "Iteration 176, loss = 0.21573829\n",
      "Iteration 177, loss = 0.21570867\n",
      "Iteration 178, loss = 0.21572304\n",
      "Iteration 179, loss = 0.21567440\n",
      "Iteration 180, loss = 0.21555338\n",
      "Iteration 181, loss = 0.21568062\n",
      "Iteration 182, loss = 0.21571531\n",
      "Iteration 183, loss = 0.21564024\n",
      "Iteration 184, loss = 0.21570318\n",
      "Iteration 185, loss = 0.21546926\n",
      "Iteration 186, loss = 0.21557759\n",
      "Iteration 187, loss = 0.21553997\n",
      "Iteration 188, loss = 0.21553136\n",
      "Iteration 189, loss = 0.21547425\n",
      "Iteration 190, loss = 0.21560228\n",
      "Iteration 191, loss = 0.21543230\n",
      "Iteration 192, loss = 0.21549243\n",
      "Iteration 193, loss = 0.21536675\n",
      "Iteration 194, loss = 0.21536804\n",
      "Iteration 195, loss = 0.21532222\n",
      "Iteration 196, loss = 0.21529029\n",
      "Iteration 197, loss = 0.21539177\n",
      "Iteration 198, loss = 0.21524649\n",
      "Iteration 199, loss = 0.21520671\n",
      "Iteration 200, loss = 0.21516315\n",
      "Iteration 201, loss = 0.21507286\n",
      "Iteration 202, loss = 0.21527914\n",
      "Iteration 203, loss = 0.21525799\n",
      "Iteration 204, loss = 0.21517308\n",
      "Iteration 205, loss = 0.21517909\n",
      "Iteration 206, loss = 0.21512149\n",
      "Iteration 207, loss = 0.21492885\n",
      "Iteration 208, loss = 0.21504668\n",
      "Iteration 209, loss = 0.21514653\n",
      "Iteration 210, loss = 0.21499391\n",
      "Iteration 211, loss = 0.21487221\n",
      "Iteration 212, loss = 0.21501384\n",
      "Iteration 213, loss = 0.21487161\n",
      "Iteration 214, loss = 0.21494231\n",
      "Iteration 215, loss = 0.21462115\n",
      "Iteration 216, loss = 0.21494223\n",
      "Iteration 217, loss = 0.21475424\n",
      "Iteration 218, loss = 0.21479087\n",
      "Iteration 219, loss = 0.21474067\n",
      "Iteration 220, loss = 0.21485456\n",
      "Iteration 221, loss = 0.21472960\n",
      "Iteration 222, loss = 0.21460423\n",
      "Iteration 223, loss = 0.21466996\n",
      "Iteration 224, loss = 0.21455205\n",
      "Iteration 225, loss = 0.21474940\n",
      "Iteration 226, loss = 0.21471055\n",
      "Iteration 227, loss = 0.21438327\n",
      "Iteration 228, loss = 0.21463843\n",
      "Iteration 229, loss = 0.21463454\n",
      "Iteration 230, loss = 0.21460140\n",
      "Iteration 231, loss = 0.21461901\n",
      "Iteration 232, loss = 0.21451714\n",
      "Iteration 233, loss = 0.21456069\n",
      "Iteration 234, loss = 0.21446142\n",
      "Iteration 235, loss = 0.21449755\n",
      "Iteration 236, loss = 0.21462735\n",
      "Iteration 237, loss = 0.21436426\n",
      "Iteration 238, loss = 0.21444284\n",
      "Iteration 239, loss = 0.21456946\n",
      "Iteration 240, loss = 0.21438999\n",
      "Iteration 241, loss = 0.21455491\n",
      "Iteration 242, loss = 0.21427256\n",
      "Iteration 243, loss = 0.21438089\n",
      "Iteration 244, loss = 0.21426859\n",
      "Iteration 245, loss = 0.21428972\n",
      "Iteration 246, loss = 0.21436332\n",
      "Iteration 247, loss = 0.21429318\n",
      "Iteration 248, loss = 0.21425718\n",
      "Iteration 249, loss = 0.21431625\n",
      "Iteration 250, loss = 0.21439163\n",
      "Iteration 251, loss = 0.21436851\n"
     ]
    },
    {
     "data": {
      "text/html": [
       "<style>#sk-container-id-6 {color: black;background-color: white;}#sk-container-id-6 pre{padding: 0;}#sk-container-id-6 div.sk-toggleable {background-color: white;}#sk-container-id-6 label.sk-toggleable__label {cursor: pointer;display: block;width: 100%;margin-bottom: 0;padding: 0.3em;box-sizing: border-box;text-align: center;}#sk-container-id-6 label.sk-toggleable__label-arrow:before {content: \"▸\";float: left;margin-right: 0.25em;color: #696969;}#sk-container-id-6 label.sk-toggleable__label-arrow:hover:before {color: black;}#sk-container-id-6 div.sk-estimator:hover label.sk-toggleable__label-arrow:before {color: black;}#sk-container-id-6 div.sk-toggleable__content {max-height: 0;max-width: 0;overflow: hidden;text-align: left;background-color: #f0f8ff;}#sk-container-id-6 div.sk-toggleable__content pre {margin: 0.2em;color: black;border-radius: 0.25em;background-color: #f0f8ff;}#sk-container-id-6 input.sk-toggleable__control:checked~div.sk-toggleable__content {max-height: 200px;max-width: 100%;overflow: auto;}#sk-container-id-6 input.sk-toggleable__control:checked~label.sk-toggleable__label-arrow:before {content: \"▾\";}#sk-container-id-6 div.sk-estimator input.sk-toggleable__control:checked~label.sk-toggleable__label {background-color: #d4ebff;}#sk-container-id-6 div.sk-label input.sk-toggleable__control:checked~label.sk-toggleable__label {background-color: #d4ebff;}#sk-container-id-6 input.sk-hidden--visually {border: 0;clip: rect(1px 1px 1px 1px);clip: rect(1px, 1px, 1px, 1px);height: 1px;margin: -1px;overflow: hidden;padding: 0;position: absolute;width: 1px;}#sk-container-id-6 div.sk-estimator {font-family: monospace;background-color: #f0f8ff;border: 1px dotted black;border-radius: 0.25em;box-sizing: border-box;margin-bottom: 0.5em;}#sk-container-id-6 div.sk-estimator:hover {background-color: #d4ebff;}#sk-container-id-6 div.sk-parallel-item::after {content: \"\";width: 100%;border-bottom: 1px solid gray;flex-grow: 1;}#sk-container-id-6 div.sk-label:hover label.sk-toggleable__label {background-color: #d4ebff;}#sk-container-id-6 div.sk-serial::before {content: \"\";position: absolute;border-left: 1px solid gray;box-sizing: border-box;top: 0;bottom: 0;left: 50%;z-index: 0;}#sk-container-id-6 div.sk-serial {display: flex;flex-direction: column;align-items: center;background-color: white;padding-right: 0.2em;padding-left: 0.2em;position: relative;}#sk-container-id-6 div.sk-item {position: relative;z-index: 1;}#sk-container-id-6 div.sk-parallel {display: flex;align-items: stretch;justify-content: center;background-color: white;position: relative;}#sk-container-id-6 div.sk-item::before, #sk-container-id-6 div.sk-parallel-item::before {content: \"\";position: absolute;border-left: 1px solid gray;box-sizing: border-box;top: 0;bottom: 0;left: 50%;z-index: -1;}#sk-container-id-6 div.sk-parallel-item {display: flex;flex-direction: column;z-index: 1;position: relative;background-color: white;}#sk-container-id-6 div.sk-parallel-item:first-child::after {align-self: flex-end;width: 50%;}#sk-container-id-6 div.sk-parallel-item:last-child::after {align-self: flex-start;width: 50%;}#sk-container-id-6 div.sk-parallel-item:only-child::after {width: 0;}#sk-container-id-6 div.sk-dashed-wrapped {border: 1px dashed gray;margin: 0 0.4em 0.5em 0.4em;box-sizing: border-box;padding-bottom: 0.4em;background-color: white;}#sk-container-id-6 div.sk-label label {font-family: monospace;font-weight: bold;display: inline-block;line-height: 1.2em;}#sk-container-id-6 div.sk-label-container {text-align: center;}#sk-container-id-6 div.sk-container {/* jupyter's `normalize.less` sets `[hidden] { display: none; }` but bootstrap.min.css set `[hidden] { display: none !important; }` so we also need the `!important` here to be able to override the default hidden behavior on the sphinx rendered scikit-learn.org. See: https://github.com/scikit-learn/scikit-learn/issues/21755 */display: inline-block !important;position: relative;}#sk-container-id-6 div.sk-text-repr-fallback {display: none;}</style><div id=\"sk-container-id-6\" class=\"sk-top-container\"><div class=\"sk-text-repr-fallback\"><pre>MLPClassifier(hidden_layer_sizes=(50,), max_iter=2000, n_iter_no_change=50,\n",
       "              verbose=True)</pre><b>In a Jupyter environment, please rerun this cell to show the HTML representation or trust the notebook. <br />On GitHub, the HTML representation is unable to render, please try loading this page with nbviewer.org.</b></div><div class=\"sk-container\" hidden><div class=\"sk-item\"><div class=\"sk-estimator sk-toggleable\"><input class=\"sk-toggleable__control sk-hidden--visually\" id=\"sk-estimator-id-6\" type=\"checkbox\" checked><label for=\"sk-estimator-id-6\" class=\"sk-toggleable__label sk-toggleable__label-arrow\">MLPClassifier</label><div class=\"sk-toggleable__content\"><pre>MLPClassifier(hidden_layer_sizes=(50,), max_iter=2000, n_iter_no_change=50,\n",
       "              verbose=True)</pre></div></div></div></div></div>"
      ],
      "text/plain": [
       "PyObject MLPClassifier(hidden_layer_sizes=(50,), max_iter=2000, n_iter_no_change=50,\n",
       "              verbose=True)"
      ]
     },
     "metadata": {},
     "output_type": "display_data"
    }
   ],
   "source": [
    "mlp.fit(X_train, train_labels)"
   ]
  },
  {
   "cell_type": "code",
   "execution_count": 14,
   "metadata": {},
   "outputs": [
    {
     "data": {
      "text/plain": [
       "0.9131288166968157"
      ]
     },
     "metadata": {},
     "output_type": "display_data"
    }
   ],
   "source": [
    "mlp.score(X_val, val_labels)"
   ]
  },
  {
   "cell_type": "code",
   "execution_count": 15,
   "metadata": {},
   "outputs": [],
   "source": [
    "mlp_test_scores = mlp.predict_proba(X_test)\n",
    "writedlm( \"../foo/lab_mlp_test_probas.csv\",  mlp_test_scores, ',')\n"
   ]
  },
  {
   "cell_type": "markdown",
   "metadata": {},
   "source": [
    "## XGboost"
   ]
  },
  {
   "cell_type": "code",
   "execution_count": 16,
   "metadata": {},
   "outputs": [
    {
     "data": {
      "text/plain": [
       "fit_xgb_clf (generic function with 1 method)"
      ]
     },
     "metadata": {},
     "output_type": "display_data"
    }
   ],
   "source": [
    "using XGBoost\n",
    "function fit_xgb_clf(X_train, y_train, X_val, y_val)\n",
    "    dtrain = DMatrix(X_train, label=y_train)\n",
    "    dtest = DMatrix(X_val, label=y_val)\n",
    "    param = [\"silent\" => 0, \"subsample\" => 0.5, \"colsample_bytree\" => 0.5, \"eta\" => 0.05]\n",
    "    watchlist = [(dtest, \"test\"), (dtrain, \"train\")]\n",
    "    bst = xgboost(X_train, 500, label=y_train, param=param, objective = \"binary:logistic\",\n",
    "        watchlist=watchlist, metrics=[\"logloss\", \"auc\", \"error\"],\n",
    "        early_stopping_rounds=50, verbose_eval=10, seed=137)\n",
    "    \n",
    "    bst\n",
    "end"
   ]
  },
  {
   "cell_type": "code",
   "execution_count": 17,
   "metadata": {},
   "outputs": [
    {
     "name": "stderr",
     "output_type": "stream",
     "text": [
      "[1]\ttest-logloss:0.66997270397302366\ttest-auc:0.88351529804711926\ttest-error:0.19104017627835304\ttrain-logloss:0.66991185481309434\ttrain-auc:0.88414394392901396\ttrain-error:0.19012103250462223\n",
      "[2]\ttest-logloss:0.65016633669275015\ttest-auc:0.89363516203774329\ttest-error:0.18348680765957234\ttrain-logloss:0.65003061912279847\ttrain-auc:0.89480034394579533\ttrain-error:0.18226139288536636\n"
     ]
    },
    {
     "name": "stderr",
     "output_type": "stream",
     "text": [
      "[3]\ttest-logloss:0.63178779897786985\ttest-auc:0.90201458337532125\ttest-error:0.18010962806359321\ttrain-logloss:0.63160674549174789\ttrain-auc:0.90304050286213988\ttrain-error:0.17899796613864444\n",
      "[4]\ttest-logloss:0.61365271583505110\ttest-auc:0.90442420403804369\ttest-error:0.17800540447991187\ttrain-logloss:0.61339257761716948\ttrain-auc:0.90550643117954721\ttrain-error:0.17710365921633167\n"
     ]
    },
    {
     "name": "stderr",
     "output_type": "stream",
     "text": [
      "[5]\ttest-logloss:0.59857038044368416\ttest-auc:0.90578615990113698\ttest-error:0.17576470413077949\ttrain-logloss:0.59825373828219486\ttrain-auc:0.90687601544047447\ttrain-error:0.17477747674023966\n",
      "[6]\ttest-logloss:0.58472345621543331\ttest-auc:0.90913941483654048\ttest-error:0.17435527135303067\ttrain-logloss:0.58434749304007094\ttrain-auc:0.91034633504975904\ttrain-error:0.17347524395188427\n"
     ]
    },
    {
     "name": "stderr",
     "output_type": "stream",
     "text": [
      "[7]\ttest-logloss:0.57041051022768885\ttest-auc:0.90890190908602586\ttest-error:0.17482425514703512\ttrain-logloss:0.56999176944422403\ttrain-auc:0.91008487975371133\ttrain-error:0.17418209954277344\n",
      "[8]\ttest-logloss:0.55665425448502925\ttest-auc:0.91287289255805004\ttest-error:0.16886146119469278\ttrain-logloss:0.55619014466035677\ttrain-auc:0.91406775521263861\ttrain-error:0.16819447116714575\n"
     ]
    },
    {
     "name": "stderr",
     "output_type": "stream",
     "text": [
      "[9]\ttest-logloss:0.54495646703448219\ttest-auc:0.91372674629907802\ttest-error:0.16870761465909345\ttrain-logloss:0.54443684666872538\ttrain-auc:0.91499320434293829\ttrain-error:0.16804087871398526\n",
      "[10]\ttest-logloss:0.53320182673506922\ttest-auc:0.91702679428852363\ttest-error:0.16537261879061735\ttrain-logloss:0.53261862165284513\ttrain-auc:0.91838969507928048\ttrain-error:0.16449669156901298\n"
     ]
    },
    {
     "name": "stderr",
     "output_type": "stream",
     "text": [
      "[11]\ttest-logloss:0.52351327760186106\ttest-auc:0.91733767283943879\ttest-error:0.16559098161533900\ttrain-logloss:0.52289750388287326\ttrain-auc:0.91868977188207446\ttrain-error:0.16475267899094712\n",
      "[12]\ttest-logloss:0.51307343527672422\ttest-auc:0.91740393340016879\ttest-error:0.16435028374760235\ttrain-logloss:0.51239826990393822\ttrain-auc:0.91878894550098478\ttrain-error:0.16345374926610057\n"
     ]
    },
    {
     "name": "stderr",
     "output_type": "stream",
     "text": [
      "[13]\ttest-logloss:0.50432695547090367\ttest-auc:0.91741246404117949\ttest-error:0.16400040694890061\ttrain-logloss:0.50359074475862198\ttrain-auc:0.91886296264492251\ttrain-error:0.16311766255407734\n",
      "[14]\ttest-logloss:0.49656785224250405\ttest-auc:0.91754210118253643\ttest-error:0.16396814880433946\ttrain-logloss:0.49579255055276916\ttrain-auc:0.91895275098792428\ttrain-error:0.16311518525644572\n"
     ]
    },
    {
     "name": "stderr",
     "output_type": "stream",
     "text": [
      "[15]\ttest-logloss:0.48770775862462046\ttest-auc:0.91792381331467898\ttest-error:0.16208725083685072\ttrain-logloss:0.48687263243996520\ttrain-auc:0.91931644723317829\ttrain-error:0.16119527959193952\n",
      "[16]\ttest-logloss:0.47960273716958751\ttest-auc:0.91841365879631620\ttest-error:0.16156367633666585\ttrain-logloss:0.47875607181703250\ttrain-auc:0.91973919318257136\ttrain-error:0.16068413051394842\n"
     ]
    },
    {
     "name": "stderr",
     "output_type": "stream",
     "text": [
      "[17]\ttest-logloss:0.47147856772075664\ttest-auc:0.91974044500534113\ttest-error:0.15924357132399833\ttrain-logloss:0.47058449492134863\ttrain-auc:0.92112852623232000\ttrain-error:0.15853961653084195\n",
      "[18]\ttest-logloss:0.46581337883179924\ttest-auc:0.91970752226992303\ttest-error:0.15976714582418319\ttrain-logloss:0.46487853120547179\ttrain-auc:0.92111199174275582\ttrain-error:0.15892772649312922\n"
     ]
    },
    {
     "name": "stderr",
     "output_type": "stream",
     "text": [
      "[19]\ttest-logloss:0.45918360164413508\ttest-auc:0.92022641020246454\ttest-error:0.15907235501825068\ttrain-logloss:0.45823125579790863\ttrain-auc:0.92159042329959273\ttrain-error:0.15828362910890778\n",
      "[20]\ttest-logloss:0.45293873310465671\ttest-auc:0.92048029635802442\ttest-error:0.15844704329291140\ttrain-logloss:0.45192878283492199\ttrain-auc:0.92188412652279106\ttrain-error:0.15746777242222731\n"
     ]
    },
    {
     "name": "stderr",
     "output_type": "stream",
     "text": [
      "[21]\ttest-logloss:0.44600913340793491\ttest-auc:0.92236512144292893\ttest-error:0.15475720783426261\ttrain-logloss:0.44493425441924139\ttrain-auc:0.92378344676161184\ttrain-error:0.15398634348392276\n",
      "[22]\ttest-logloss:0.44138349646721953\ttest-auc:0.92228004089581050\ttest-error:0.15517160092208665\ttrain-logloss:0.44026392890618010\ttrain-auc:0.92372374623233611\ttrain-error:0.15443638588700054\n"
     ]
    },
    {
     "name": "stderr",
     "output_type": "stream",
     "text": [
      "[23]\ttest-logloss:0.43412145934728974\ttest-auc:0.92419158410308166\ttest-error:0.15055124206263540\ttrain-logloss:0.43296187154288018\ttrain-auc:0.92561593682908760\ttrain-error:0.14977493751016724\n",
      "[24]\ttest-logloss:0.42801287022597212\ttest-auc:0.92513857776291342\ttest-error:0.14722865317283665\ttrain-logloss:0.42678393479745014\ttrain-auc:0.92659318794278089\ttrain-error:0.14657922356537631\n"
     ]
    },
    {
     "name": "stderr",
     "output_type": "stream",
     "text": [
      "[25]\ttest-logloss:0.42307878101176633\ttest-auc:0.92525850512324648\ttest-error:0.14636016466542101\ttrain-logloss:0.42183049603863759\ttrain-auc:0.92669496925496830\ttrain-error:0.14570638903316854\n",
      "[26]\ttest-logloss:0.41892231353912424\ttest-auc:0.92552292720041296\ttest-error:0.14583410876950068\ttrain-logloss:0.41762503218100133\ttrain-auc:0.92695429003026020\ttrain-error:0.14513165598263250\n"
     ]
    },
    {
     "name": "stderr",
     "output_type": "stream",
     "text": [
      "[27]\ttest-logloss:0.41448010557904863\ttest-auc:0.92619617803414966\ttest-error:0.14317653393680876\ttrain-logloss:0.41314458126504677\ttrain-auc:0.92764916012908916\ttrain-error:0.14241323471486717\n",
      "[28]\ttest-logloss:0.40964681536877795\ttest-auc:0.92679846599515270\ttest-error:0.14092094521326357\ttrain-logloss:0.40827547309033435\ttrain-auc:0.92826266445453098\ttrain-error:0.13995080086903600\n"
     ]
    },
    {
     "name": "stderr",
     "output_type": "stream",
     "text": [
      "[29]\ttest-logloss:0.40555991426744881\ttest-auc:0.92684651802879059\ttest-error:0.14113186385077878\ttrain-logloss:0.40415287514728621\ttrain-auc:0.92832874612828198\ttrain-error:0.14008540070702075\n",
      "[30]\ttest-logloss:0.40040061536980187\ttest-auc:0.92785113222962401\ttest-error:0.13888371931443999\ttrain-logloss:0.39895181463462809\ttrain-auc:0.92934760076648526\ttrain-error:0.13783518869163178\n"
     ]
    },
    {
     "name": "stderr",
     "output_type": "stream",
     "text": [
      "[31]\ttest-logloss:0.39620722037228284\ttest-auc:0.92857956176943823\ttest-error:0.13786386566716047\ttrain-logloss:0.39470343387041024\ttrain-auc:0.93010788554769752\ttrain-error:0.13684757270249223\n",
      "[32]\ttest-logloss:0.39221086072941397\ttest-auc:0.92898449704019015\ttest-error:0.13645443288941164\ttrain-logloss:0.39064834608642335\ttrain-auc:0.93052796865397203\ttrain-error:0.13542064926667860\n"
     ]
    },
    {
     "name": "stderr",
     "output_type": "stream",
     "text": [
      "[33]\ttest-logloss:0.38876589675483181\ttest-auc:0.92948421198691256\ttest-error:0.13438743024176239\ttrain-logloss:0.38718434519701184\ttrain-auc:0.93100940295391554\ttrain-error:0.13321998320392206\n",
      "[34]\ttest-logloss:0.38521997945100184\ttest-auc:0.93020009048511920\ttest-error:0.13285392767723989\ttrain-logloss:0.38357110678360540\ttrain-auc:0.93175229382094849\ttrain-error:0.13153707234617426\n"
     ]
    },
    {
     "name": "stderr",
     "output_type": "stream",
     "text": [
      "[35]\ttest-logloss:0.38221998753891029\ttest-auc:0.93032035220050346\ttest-error:0.13266782299707941\ttrain-logloss:0.38054312176334049\ttrain-auc:0.93187642674245330\ttrain-error:0.13129594871002984\n",
      "[36]\ttest-logloss:0.37920039542070266\ttest-auc:0.93055774763638699\ttest-error:0.13213680430968811\ttrain-logloss:0.37748333797509676\ttrain-auc:0.93212303580997791\ttrain-error:0.13083847441405719\n"
     ]
    },
    {
     "name": "stderr",
     "output_type": "stream",
     "text": [
      "[37]\ttest-logloss:0.37617976583920348\ttest-auc:0.93065681627083274\ttest-error:0.13186136938305057\ttrain-logloss:0.37442944743380402\ttrain-auc:0.93223514598691970\ttrain-error:0.13055193365466636\n",
      "[38]\ttest-logloss:0.37315177269006577\ttest-auc:0.93116091195711381\ttest-error:0.13131794371698194\ttrain-logloss:0.37137629322677462\ttrain-auc:0.93272651463093414\ttrain-error:0.13002757232263995\n"
     ]
    },
    {
     "name": "stderr",
     "output_type": "stream",
     "text": [
      "[39]\ttest-logloss:0.37043002230322719\ttest-auc:0.93165613900219679\ttest-error:0.13044945520956627\ttrain-logloss:0.36861292937111056\ttrain-auc:0.93322703939923535\ttrain-error:0.12908207039323796\n",
      "[40]\ttest-logloss:0.36788020456403409\ttest-auc:0.93192503443740160\ttest-error:0.12982910627569796\ttrain-logloss:0.36603434199026025\ttrain-auc:0.93350076212354205\ttrain-error:0.12846935211235042\n"
     ]
    },
    {
     "name": "stderr",
     "output_type": "stream",
     "text": [
      "[41]\ttest-logloss:0.36537067099337722\ttest-auc:0.93213338764404463\ttest-error:0.12955118995332496\ttrain-logloss:0.36348315531117414\ttrain-auc:0.93373589047074956\ttrain-error:0.12820675856339858\n",
      "[42]\ttest-logloss:0.36325741890151292\ttest-auc:0.93227171735173975\ttest-error:0.12944945272817054\ttrain-logloss:0.36134428330207657\ttrain-auc:0.93388306257917719\ttrain-error:0.12808949980883519\n"
     ]
    },
    {
     "name": "stderr",
     "output_type": "stream",
     "text": [
      "[43]\ttest-logloss:0.36089074140837724\ttest-auc:0.93290863334389273\ttest-error:0.12881669681562485\ttrain-logloss:0.35894635267327024\ttrain-auc:0.93452772069267986\ttrain-error:0.12749907720663223\n",
      "[44]\ttest-logloss:0.35857715783584238\ttest-auc:0.93311048540072217\ttest-error:0.12829312231543999\ttrain-logloss:0.35662776614512126\ttrain-auc:0.93471059696319725\ttrain-error:0.12691195766793806\n"
     ]
    },
    {
     "name": "stderr",
     "output_type": "stream",
     "text": [
      "[45]\ttest-logloss:0.35645583760469662\ttest-auc:0.93332537952118233\ttest-error:0.12772984548348756\ttrain-logloss:0.35446360380498887\ttrain-auc:0.93494142694083504\ttrain-error:0.12639007363354327\n",
      "[46]\ttest-logloss:0.35404470756321366\ttest-auc:0.93348772811551428\ttest-error:0.12741967101655338\ttrain-logloss:0.35204748227374461\ttrain-auc:0.93509495297953660\ttrain-error:0.12602591088169501\n"
     ]
    },
    {
     "name": "stderr",
     "output_type": "stream",
     "text": [
      "[47]\ttest-logloss:0.35233767519004316\ttest-auc:0.93360815074642478\ttest-error:0.12734026635301823\ttrain-logloss:0.35031638441855972\ttrain-auc:0.93522703335065915\ttrain-error:0.12593342510344782\n",
      "[48]\ttest-logloss:0.35010459488960838\ttest-auc:0.93401911151364969\ttest-error:0.12692835466092969\ttrain-logloss:0.34803780686002334\ttrain-auc:0.93564702738582772\ttrain-error:0.12550650414493181\n"
     ]
    },
    {
     "name": "stderr",
     "output_type": "stream",
     "text": [
      "[49]\ttest-logloss:0.34821922502784530\ttest-auc:0.93411907183955789\ttest-error:0.12668269648311783\ttrain-logloss:0.34611046833807119\ttrain-auc:0.93575646945955704\ttrain-error:0.12523978176659398\n",
      "[50]\ttest-logloss:0.34638144696767947\ttest-auc:0.93430597031590257\ttest-error:0.12646681505413165\ttrain-logloss:0.34424483306108927\ttrain-auc:0.93595720208656519\ttrain-error:0.12502755993615178\n"
     ]
    },
    {
     "name": "stderr",
     "output_type": "stream",
     "text": [
      "[51]\ttest-logloss:0.34471519972004816\ttest-auc:0.93463362475683465\ttest-error:0.12620130571043600\ttrain-logloss:0.34253372461759968\ttrain-auc:0.93629943075104605\ttrain-error:0.12476744368483159\n",
      "[52]\ttest-logloss:0.34331267047037711\ttest-auc:0.93490898344967632\ttest-error:0.12585887309894070\ttrain-logloss:0.34108672955336694\ttrain-auc:0.93660181805385490\ttrain-error:0.12431162092061335\n"
     ]
    },
    {
     "name": "stderr",
     "output_type": "stream",
     "text": [
      "[53]\ttest-logloss:0.34178765406235656\ttest-auc:0.93500262734551476\ttest-error:0.12562810329554167\ttrain-logloss:0.33952100036770594\ttrain-auc:0.93670459491621538\ttrain-error:0.12408040647499539\n",
      "[54]\ttest-logloss:0.34041380124760034\ttest-auc:0.93527386627085185\ttest-error:0.12527822649683995\ttrain-logloss:0.33812510740430041\ttrain-auc:0.93698599971655927\ttrain-error:0.12375505471937585\n"
     ]
    },
    {
     "name": "stderr",
     "output_type": "stream",
     "text": [
      "[55]\ttest-logloss:0.33885022644178237\ttest-auc:0.93537265111419776\ttest-error:0.12517152648021460\ttrain-logloss:0.33653627214942544\ttrain-auc:0.93708444055678741\ttrain-error:0.12356347703586384\n",
      "[56]\ttest-logloss:0.33746292931618688\ttest-auc:0.93541108557890784\ttest-error:0.12502760552755715\ttrain-logloss:0.33511001155632281\ttrain-auc:0.93713374160349061\ttrain-error:0.12346108206709018\n"
     ]
    },
    {
     "name": "stderr",
     "output_type": "stream",
     "text": [
      "[57]\ttest-logloss:0.33589245579794325\ttest-auc:0.93581571331591540\ttest-error:0.12468517291606182\ttrain-logloss:0.33351066711707267\ttrain-auc:0.93754838084393211\ttrain-error:0.12304407029910065\n",
      "[58]\ttest-logloss:0.33475735068526979\ttest-auc:0.93590979122926421\ttest-error:0.12455614033781721\ttrain-logloss:0.33235573842621519\ttrain-auc:0.93764698432430127\ttrain-error:0.12296149371137996\n"
     ]
    },
    {
     "name": "stderr",
     "output_type": "stream",
     "text": [
      "[59]\ttest-logloss:0.33334127468291841\ttest-auc:0.93627989133646006\ttest-error:0.12429559378559252\ttrain-logloss:0.33091087043546602\ttrain-auc:0.93801918541865859\ttrain-error:0.12264687691216411\n",
      "[60]\ttest-logloss:0.33230356349626983\ttest-auc:0.93635376884045940\ttest-error:0.12408219375234182\ttrain-logloss:0.32984026609926953\ttrain-auc:0.93811253286505336\ttrain-error:0.12248420103435434\n"
     ]
    },
    {
     "name": "stderr",
     "output_type": "stream",
     "text": [
      "[61]\ttest-logloss:0.33097177789330817\ttest-auc:0.93642638011524360\ttest-error:0.12391594023806511\ttrain-logloss:0.32848928775659797\ttrain-auc:0.93818591823447739\ttrain-error:0.12233556317645708\n",
      "[62]\ttest-logloss:0.32977426175129609\ttest-auc:0.93661867744480209\ttest-error:0.12364794949863399\ttrain-logloss:0.32725832861458731\ttrain-auc:0.93839106594868038\ttrain-error:0.12199865069855664\n"
     ]
    },
    {
     "name": "stderr",
     "output_type": "stream",
     "text": [
      "[63]\ttest-logloss:0.32865128333151217\ttest-auc:0.93671237771710647\ttest-error:0.12337747736346741\ttrain-logloss:0.32613044555265791\ttrain-auc:0.93846752871717753\ttrain-error:0.12174183751074528\n",
      "[64]\ttest-logloss:0.32733382049153803\ttest-auc:0.93707164662202769\ttest-error:0.12302015637755925\ttrain-logloss:0.32479391173243305\ttrain-auc:0.93882837746505843\ttrain-error:0.12147016053714418\n"
     ]
    },
    {
     "name": "stderr",
     "output_type": "stream",
     "text": [
      "[65]\ttest-logloss:0.32635987803400673\ttest-auc:0.93713795408925804\ttest-error:0.12296308427564337\ttrain-logloss:0.32380194251163708\ttrain-auc:0.93889493138941627\ttrain-error:0.12138097782240584\n",
      "[66]\ttest-logloss:0.32518038741625438\ttest-auc:0.93746586226123041\ttest-error:0.12277449819974739\ttrain-logloss:0.32259595810224795\ttrain-auc:0.93922913840654265\ttrain-error:0.12113902842038420\n"
     ]
    },
    {
     "name": "stderr",
     "output_type": "stream",
     "text": [
      "[67]\ttest-logloss:0.32444882579848966\ttest-auc:0.93762920972142016\ttest-error:0.12254124700061290\ttrain-logloss:0.32184890743205574\ttrain-auc:0.93939993371551733\ttrain-error:0.12094827650274939\n",
      "[68]\ttest-logloss:0.32342794493289451\ttest-auc:0.93767532487002603\ttest-error:0.12246928652428418\ttrain-logloss:0.32080021661397662\ttrain-auc:0.93945005731708209\ttrain-error:0.12083597234344924\n"
     ]
    },
    {
     "name": "stderr",
     "output_type": "stream",
     "text": [
      "[69]\ttest-logloss:0.32259080146073676\ttest-auc:0.93783734814825970\ttest-error:0.12240477023516187\ttrain-logloss:0.31994494713407379\ttrain-auc:0.93961150522227921\ttrain-error:0.12060888672721733\n",
      "[70]\ttest-logloss:0.32166305956269958\ttest-auc:0.93789432588918187\ttest-error:0.12232040278015578\ttrain-logloss:0.31899421290270402\ttrain-auc:0.93967399739810420\ttrain-error:0.12048997644089952\n"
     ]
    },
    {
     "name": "stderr",
     "output_type": "stream",
     "text": [
      "[71]\ttest-logloss:0.32080770814501919\ttest-auc:0.93806473060413165\ttest-error:0.12211196553837603\ttrain-logloss:0.31811801381086796\ttrain-auc:0.93985085895508269\ttrain-error:0.12029509569387868\n",
      "[72]\ttest-logloss:0.31976791438313523\ttest-auc:0.93816232066785921\ttest-error:0.12199037714733783\ttrain-logloss:0.31705524705785670\ttrain-auc:0.93995271611927023\ttrain-error:0.12008122233168207\n"
     ]
    },
    {
     "name": "stderr",
     "output_type": "stream",
     "text": [
      "[73]\ttest-logloss:0.31882464903778446\ttest-auc:0.93836453760775607\ttest-error:0.12171990501217124\ttrain-logloss:0.31608857359337689\ttrain-auc:0.94015634216071220\ttrain-error:0.11992515258088995\n",
      "[74]\ttest-logloss:0.31788196734646690\ttest-auc:0.93846383270860789\ttest-error:0.12154372591495265\ttrain-logloss:0.31512015669784932\ttrain-auc:0.94026254567083589\ttrain-error:0.11980046193343170\n"
     ]
    },
    {
     "name": "stderr",
     "output_type": "stream",
     "text": [
      "[75]\ttest-logloss:0.31686282872334831\ttest-auc:0.93880576105988434\ttest-error:0.12131295611155363\ttrain-logloss:0.31408891802019451\ttrain-auc:0.94060463779926151\ttrain-error:0.11952465613044458\n",
      "[76]\ttest-logloss:0.31576845297266282\ttest-auc:0.93899757535962713\ttest-error:0.12109707468256745\ttrain-logloss:0.31298685172224516\ttrain-auc:0.94078752283205624\ttrain-error:0.11921747122412360\n"
     ]
    },
    {
     "name": "stderr",
     "output_type": "stream",
     "text": [
      "[77]\ttest-logloss:0.31493599355157048\ttest-auc:0.93907370459730477\ttest-error:0.12100278164461946\ttrain-logloss:0.31214017236067720\ttrain-auc:0.94086487901053051\ttrain-error:0.11911590202122714\n",
      "[78]\ttest-logloss:0.31399089841235878\ttest-auc:0.93927229866580830\ttest-error:0.12080675138151707\ttrain-logloss:0.31117763946545418\ttrain-auc:0.94107118631973952\ttrain-error:0.11886899802394225\n"
     ]
    },
    {
     "name": "stderr",
     "output_type": "stream",
     "text": [
      "[79]\ttest-logloss:0.31307619592585240\ttest-auc:0.93936245997874157\ttest-error:0.12078690021563329\ttrain-logloss:0.31024401837140964\ttrain-auc:0.94116203165523038\ttrain-error:0.11873026935657148\n",
      "[80]\ttest-logloss:0.31233440239564558\ttest-auc:0.93946391210130153\ttest-error:0.12065786763738867\ttrain-logloss:0.30949195295723958\ttrain-auc:0.94126712215156894\ttrain-error:0.11859732105034117\n"
     ]
    },
    {
     "name": "stderr",
     "output_type": "stream",
     "text": [
      "[81]\ttest-logloss:0.31174653955520348\ttest-auc:0.93963295268557190\ttest-error:0.12051890947620217\ttrain-logloss:0.30888522364311238\ttrain-auc:0.94144161731134024\ttrain-error:0.11845611508533878\n",
      "[82]\ttest-logloss:0.31092084448030211\ttest-auc:0.93989106333241645\ttest-error:0.12034769317045452\ttrain-logloss:0.30803406241879683\ttrain-auc:0.94171364872792462\ttrain-error:0.11826784046533559\n"
     ]
    },
    {
     "name": "stderr",
     "output_type": "stream",
     "text": [
      "[83]\ttest-logloss:0.31025770076663212\ttest-auc:0.94005177989086708\ttest-error:0.12016158849029403\ttrain-logloss:0.30734900602942422\ttrain-auc:0.94188065057497816\ttrain-error:0.11814645288138616\n",
      "[84]\ttest-logloss:0.30910551686312832\ttest-auc:0.94043661285076829\ttest-error:0.11983156285747608\ttrain-logloss:0.30617797428022503\ttrain-auc:0.94226105663171400\ttrain-error:0.11779385085181879\n"
     ]
    },
    {
     "name": "stderr",
     "output_type": "stream",
     "text": [
      "[85]\ttest-logloss:0.30869143300857377\ttest-auc:0.94054245746106269\ttest-error:0.11980923029585681\ttrain-logloss:0.30574533788209635\ttrain-auc:0.94237617902729587\ttrain-error:0.11775999445085331\n",
      "[86]\ttest-logloss:0.30755808529918943\ttest-auc:0.94091708402706586\ttest-error:0.11947424187156792\ttrain-logloss:0.30457908951367829\ttrain-auc:0.94276056142047659\ttrain-error:0.11739418016725062\n"
     ]
    },
    {
     "name": "stderr",
     "output_type": "stream",
     "text": [
      "[87]\ttest-logloss:0.30677308737132536\ttest-auc:0.94118543118944142\ttest-error:0.11927076742125911\ttrain-logloss:0.30377005023915515\ttrain-auc:0.94303826656777179\ttrain-error:0.11721911780128275\n",
      "[88]\ttest-logloss:0.30600246499840350\ttest-auc:0.94133686724323828\ttest-error:0.11906729297095030\ttrain-logloss:0.30299457920997525\ttrain-auc:0.94319021086744903\ttrain-error:0.11705561615759577\n"
     ]
    },
    {
     "name": "stderr",
     "output_type": "stream",
     "text": [
      "[89]\ttest-logloss:0.30523308800945037\ttest-auc:0.94155659230221700\ttest-error:0.11881667200166750\ttrain-logloss:0.30219571182296301\ttrain-auc:0.94342027694770525\ttrain-error:0.11678724224750350\n",
      "[90]\ttest-logloss:0.30429024437810681\ttest-auc:0.94185412959277470\ttest-error:0.11845686962002387\ttrain-logloss:0.30121419559553997\ttrain-auc:0.94373165973395945\ttrain-error:0.11647510274591927\n"
     ]
    },
    {
     "name": "stderr",
     "output_type": "stream",
     "text": [
      "[91]\ttest-logloss:0.30389869652394369\ttest-auc:0.94196503255622166\ttest-error:0.11840227891384346\ttrain-logloss:0.30082147262971182\ttrain-auc:0.94383495858529498\ttrain-error:0.11637766237240885\n",
      "[92]\ttest-logloss:0.30312776896958982\ttest-auc:0.94219393734907642\ttest-error:0.11817150911044444\ttrain-logloss:0.30002396895245298\ttrain-auc:0.94406985732537885\ttrain-error:0.11620012270880935\n"
     ]
    },
    {
     "name": "stderr",
     "output_type": "stream",
     "text": [
      "[93]\ttest-logloss:0.30276068369435694\ttest-auc:0.94229402543947416\ttest-error:0.11813676957014782\ttrain-logloss:0.29964106637084142\ttrain-auc:0.94417383068250205\ttrain-error:0.11610763693056217\n",
      "[94]\ttest-logloss:0.30218013423512563\ttest-auc:0.94235999809601134\ttest-error:0.11809706723838025\ttrain-logloss:0.29904090603925981\ttrain-auc:0.94424392883142871\ttrain-error:0.11599533277126203\n"
     ]
    },
    {
     "name": "stderr",
     "output_type": "stream",
     "text": [
      "[95]\ttest-logloss:0.30130958702368443\ttest-auc:0.94264770014389510\ttest-error:0.11787622301792312\ttrain-logloss:0.29813750031243863\ttrain-auc:0.94454123234004150\ttrain-error:0.11580623238538164\n",
      "[96]\ttest-logloss:0.30071147985241137\ttest-auc:0.94279514876341208\ttest-error:0.11759830669555012\ttrain-logloss:0.29751928429892455\ttrain-auc:0.94470062075821593\ttrain-error:0.11554281307055261\n"
     ]
    },
    {
     "name": "stderr",
     "output_type": "stream",
     "text": [
      "[97]\ttest-logloss:0.29977339785590668\ttest-auc:0.94310787537379170\ttest-error:0.11730550199876426\ttrain-logloss:0.29655789293175377\ttrain-auc:0.94501713574325896\ttrain-error:0.11520837789028379\n",
      "[98]\ttest-logloss:0.29938176970088398\ttest-auc:0.94324933063807104\ttest-error:0.11723106012670007\ttrain-logloss:0.29616294178267255\ttrain-auc:0.94515648168426081\ttrain-error:0.11512827860019471\n"
     ]
    },
    {
     "name": "stderr",
     "output_type": "stream",
     "text": [
      "[99]\ttest-logloss:0.29879990494059544\ttest-auc:0.94335735685011424\ttest-error:0.11717895081625512\ttrain-logloss:0.29556183197676983\ttrain-auc:0.94526967070415191\ttrain-error:0.11503909588545637\n",
      "[100]\ttest-logloss:0.29826181449080469\ttest-auc:0.94342897179585838\ttest-error:0.11711195313139734\ttrain-logloss:0.29501536811664764\ttrain-auc:0.94534299440896408\ttrain-error:0.11493917821431432\n"
     ]
    },
    {
     "name": "stderr",
     "output_type": "stream",
     "text": [
      "[101]\ttest-logloss:0.29749362827743886\ttest-auc:0.94364044575637218\ttest-error:0.11684892518343717\ttrain-logloss:0.29420949598569096\ttrain-auc:0.94557091676432292\ttrain-error:0.11465263745492350\n",
      "[102]\ttest-logloss:0.29708295150764025\ttest-auc:0.94377482699333870\ttest-error:0.11678192749857941\ttrain-logloss:0.29377550660370721\ttrain-auc:0.94571636197313524\ttrain-error:0.11457997005772930\n"
     ]
    },
    {
     "name": "stderr",
     "output_type": "stream",
     "text": [
      "[103]\ttest-logloss:0.29651271735441981\ttest-auc:0.94383787931692731\ttest-error:0.11675463214548920\ttrain-logloss:0.29318228703746058\ttrain-auc:0.94579018198697207\ttrain-error:0.11453290140272850\n",
      "[104]\ttest-logloss:0.29611291439949883\ttest-auc:0.94396236233410180\ttest-error:0.11663552515018648\ttrain-logloss:0.29275144271272685\ttrain-auc:0.94592975238819732\ttrain-error:0.11446188553728870\n"
     ]
    },
    {
     "name": "stderr",
     "output_type": "stream",
     "text": [
      "[105]\ttest-logloss:0.29577896329148845\ttest-auc:0.94408352799402473\ttest-error:0.11654867629944492\ttrain-logloss:0.29238998543445555\ttrain-auc:0.94607030495138167\ttrain-error:0.11439830156474376\n",
      "[106]\ttest-logloss:0.29554706297355304\ttest-auc:0.94414214644034167\ttest-error:0.11654371350797396\ttrain-logloss:0.29214209361903343\ttrain-auc:0.94613383061633582\ttrain-error:0.11436527092965548\n"
     ]
    },
    {
     "name": "stderr",
     "output_type": "stream",
     "text": [
      "[107]\ttest-logloss:0.29478805056249080\ttest-auc:0.94433978912827610\ttest-error:0.11634520184913610\ttrain-logloss:0.29134751548557003\ttrain-auc:0.94634262465166274\ttrain-error:0.11409607125368601\n",
      "[108]\ttest-logloss:0.29450053812273619\ttest-auc:0.94441546018710099\ttest-error:0.11632286928751684\ttrain-logloss:0.29104739308122668\ttrain-auc:0.94642202501829176\ttrain-error:0.11404404800342198\n"
     ]
    },
    {
     "name": "stderr",
     "output_type": "stream",
     "text": [
      "[109]\ttest-logloss:0.29414838533338789\ttest-auc:0.94451278414356543\ttest-error:0.11615165298176919\ttrain-logloss:0.29068427253544771\ttrain-auc:0.94652022828147431\ttrain-error:0.11396229718157848\n",
      "[110]\ttest-logloss:0.29382069582598330\ttest-auc:0.94455653060626577\ttest-error:0.11611443204573708\ttrain-logloss:0.29033884384071179\ttrain-auc:0.94656734895582229\ttrain-error:0.11390697086780562\n"
     ]
    },
    {
     "name": "stderr",
     "output_type": "stream",
     "text": [
      "[111]\ttest-logloss:0.29358649518473035\ttest-auc:0.94461428303716466\ttest-error:0.11602758319499552\ttrain-logloss:0.29008873920709144\ttrain-auc:0.94663209151903038\ttrain-error:0.11375833300990837\n",
      "[112]\ttest-logloss:0.29316149266198865\ttest-auc:0.94472964583716457\ttest-error:0.11599036225896342\ttrain-logloss:0.28964074265430478\ttrain-auc:0.94675862379072395\ttrain-error:0.11370878705727595\n"
     ]
    },
    {
     "name": "stderr",
     "output_type": "stream",
     "text": [
      "[113]\ttest-logloss:0.29272557018693718\ttest-auc:0.94488435050682984\ttest-error:0.11594073434425396\ttrain-logloss:0.28917612203960108\ttrain-auc:0.94692833623223893\ttrain-error:0.11360886938613390\n",
      "[114]\ttest-logloss:0.29243604568070025\ttest-auc:0.94496324582415536\ttest-error:0.11589358782527996\ttrain-logloss:0.28887097489905084\ttrain-auc:0.94701361808078710\ttrain-error:0.11354858847709780\n"
     ]
    },
    {
     "name": "stderr",
     "output_type": "stream",
     "text": [
      "[115]\ttest-logloss:0.29219591067318662\ttest-auc:0.94501520277160622\ttest-error:0.11582162734895124\ttrain-logloss:0.28860623010762121\ttrain-auc:0.94707470120059400\ttrain-error:0.11350399711972863\n",
      "[116]\ttest-logloss:0.29145294180519787\ttest-auc:0.94523424710138471\ttest-error:0.11553378544363634\ttrain-logloss:0.28782551197897777\ttrain-auc:0.94730458252158478\ttrain-error:0.11330003294805850\n"
     ]
    },
    {
     "name": "stderr",
     "output_type": "stream",
     "text": [
      "[117]\ttest-logloss:0.29102696090216001\ttest-auc:0.94536630849234604\ttest-error:0.11542708542701098\ttrain-logloss:0.28738159736005009\ttrain-auc:0.94744215643826601\ttrain-error:0.11320176680867088\n",
      "[118]\ttest-logloss:0.29085801922824722\ttest-auc:0.94540562122555061\ttest-error:0.11543204821848194\ttrain-logloss:0.28720705220438747\ttrain-auc:0.94748162848324624\ttrain-error:0.11318772878875835\n"
     ]
    },
    {
     "name": "stderr",
     "output_type": "stream",
     "text": [
      "[119]\ttest-logloss:0.29054268218270013\ttest-auc:0.94552062935132752\ttest-error:0.11537745751230152\ttrain-logloss:0.28687277091834912\ttrain-auc:0.94760455874980054\ttrain-error:0.11311671292331855\n",
      "[120]\ttest-logloss:0.29022997788705818\ttest-auc:0.94560848954883769\ttest-error:0.11529805284876637\ttrain-logloss:0.28653944237562184\ttrain-auc:0.94770251274017225\ttrain-error:0.11295238551375437\n"
     ]
    },
    {
     "name": "stderr",
     "output_type": "stream",
     "text": [
      "[121]\ttest-logloss:0.28989958621669792\ttest-auc:0.94572208076334696\ttest-error:0.11525338772552786\ttrain-logloss:0.28618087270632919\ttrain-auc:0.94783188350011771\ttrain-error:0.11289210460471825\n",
      "[122]\ttest-logloss:0.28959835508978343\ttest-auc:0.94581770196089754\ttest-error:0.11518639004067008\ttrain-logloss:0.28585380970725732\ttrain-auc:0.94794241889057829\ttrain-error:0.11282108873927846\n"
     ]
    },
    {
     "name": "stderr",
     "output_type": "stream",
     "text": [
      "[123]\ttest-logloss:0.28881271602069813\ttest-auc:0.94604799717620869\ttest-error:0.11492584348844538\ttrain-logloss:0.28503882113589496\ttrain-auc:0.94817460223570005\ttrain-error:0.11263116258752086\n",
      "[124]\ttest-logloss:0.28862082921846210\ttest-auc:0.94609411385183106\ttest-error:0.11478688532725888\ttrain-logloss:0.28482921333527622\ttrain-auc:0.94822712019875155\ttrain-error:0.11246518364620225\n"
     ]
    },
    {
     "name": "stderr",
     "output_type": "stream",
     "text": [
      "[125]\ttest-logloss:0.28827218622646061\ttest-auc:0.94614992077744298\ttest-error:0.11473973880828488\ttrain-logloss:0.28447636886208816\ttrain-auc:0.94827899435330709\ttrain-error:0.11239912237602570\n",
      "[126]\ttest-logloss:0.28761136509968949\ttest-auc:0.94635249244082142\ttest-error:0.11448663644326661\ttrain-logloss:0.28378640960039558\ttrain-auc:0.94849158608236017\ttrain-error:0.11215386991049524\n"
     ]
    },
    {
     "name": "stderr",
     "output_type": "stream",
     "text": [
      "[127]\ttest-logloss:0.28718876148607236\ttest-auc:0.94645993204453116\ttest-error:0.11443204573708619\ttrain-logloss:0.28334044744104053\ttrain-auc:0.94860697671136629\ttrain-error:0.11211340738251209\n",
      "[128]\ttest-logloss:0.28672082795209208\ttest-auc:0.94656595311143954\ttest-error:0.11433775269913821\ttrain-logloss:0.28284720617109937\ttrain-auc:0.94872559228801268\ttrain-error:0.11201018664786122\n"
     ]
    },
    {
     "name": "stderr",
     "output_type": "stream",
     "text": [
      "[129]\ttest-logloss:0.28648017026950268\ttest-auc:0.94664498455490176\ttest-error:0.11425586663986759\ttrain-logloss:0.28259043407066337\ttrain-auc:0.94880980184111252\ttrain-error:0.11197880754452737\n",
      "[130]\ttest-logloss:0.28606185925069733\ttest-auc:0.94675984125974721\ttest-error:0.11426827361854495\ttrain-logloss:0.28215147934211599\ttrain-auc:0.94893293292406122\ttrain-error:0.11196311799286043\n"
     ]
    },
    {
     "name": "stderr",
     "output_type": "stream",
     "text": [
      "[131]\ttest-logloss:0.28567595281356301\ttest-auc:0.94686014926515738\ttest-error:0.11417149918486150\ttrain-logloss:0.28175233909120695\ttrain-auc:0.94903649176341576\ttrain-error:0.11186898068285883\n",
      "[132]\ttest-logloss:0.28547624680231531\ttest-auc:0.94690536672506642\ttest-error:0.11418638755927434\ttrain-logloss:0.28153027406820014\ttrain-auc:0.94909050041008791\ttrain-error:0.11179879058329624\n"
     ]
    },
    {
     "name": "stderr",
     "output_type": "stream",
     "text": [
      "[133]\ttest-logloss:0.28514712158300048\ttest-auc:0.94702241897184414\ttest-error:0.11409705731279730\ttrain-logloss:0.28118466671724657\ttrain-auc:0.94921072628055436\ttrain-error:0.11171786552732996\n",
      "[134]\ttest-logloss:0.28488756191623066\ttest-auc:0.94708953297473497\ttest-error:0.11407720614691351\ttrain-logloss:0.28090919069809989\ttrain-auc:0.94928420411007408\ttrain-error:0.11166088768180268\n"
     ]
    },
    {
     "name": "stderr",
     "output_type": "stream",
     "text": [
      "[135]\ttest-logloss:0.28471207092096529\ttest-auc:0.94711664157001096\ttest-error:0.11405487358529426\ttrain-logloss:0.28071235595104477\ttrain-auc:0.94931869408373803\ttrain-error:0.11162868281259161\n",
      "[136]\ttest-logloss:0.28415078547367439\ttest-auc:0.94725352313648714\ttest-error:0.11379184563733409\ttrain-logloss:0.28011348736464797\ttrain-auc:0.94947037603605933\ttrain-error:0.11140655179162294\n"
     ]
    },
    {
     "name": "stderr",
     "output_type": "stream",
     "text": [
      "[137]\ttest-logloss:0.28388221752530707\ttest-auc:0.94728997887098576\ttest-error:0.11370003399512157\ttrain-logloss:0.27983275907309790\ttrain-auc:0.94950868796916155\ttrain-error:0.11138177881530673\n",
      "[138]\ttest-logloss:0.28343607120941272\ttest-auc:0.94741739230680699\ttest-error:0.11360574095717359\ttrain-logloss:0.27935510981888745\ttrain-auc:0.94964969059291160\ttrain-error:0.11121745140574255\n"
     ]
    },
    {
     "name": "stderr",
     "output_type": "stream",
     "text": [
      "[139]\ttest-logloss:0.28310715454145657\ttest-auc:0.94753054711476403\ttest-error:0.11355363164672866\ttrain-logloss:0.27901464847144603\ttrain-auc:0.94976277213886873\ttrain-error:0.11113900364740788\n",
      "[140]\ttest-logloss:0.28261993507959116\ttest-auc:0.94765571572542540\ttest-error:0.11341715488127763\ttrain-logloss:0.27851182085007908\ttrain-auc:0.94989009636359656\ttrain-error:0.11103330561512539\n"
     ]
    },
    {
     "name": "stderr",
     "output_type": "stream",
     "text": [
      "[141]\ttest-logloss:0.28201758816040984\ttest-auc:0.94781605453199969\ttest-error:0.11319879205655597\ttrain-logloss:0.27788074786993394\ttrain-auc:0.95005825467578420\ttrain-error:0.11084750829275382\n",
      "[142]\ttest-logloss:0.28185795666665681\ttest-auc:0.94786180412023224\ttest-error:0.11307224087404684\ttrain-logloss:0.27770651436273325\ttrain-auc:0.95011125609833857\ttrain-error:0.11071455998652351\n"
     ]
    },
    {
     "name": "stderr",
     "output_type": "stream",
     "text": [
      "[143]\ttest-logloss:0.28154622083943831\ttest-auc:0.94796736790725733\ttest-error:0.11306231529110494\ttrain-logloss:0.27739860840070646\ttrain-auc:0.95020744525286638\ttrain-error:0.11063693799406604\n",
      "[144]\ttest-logloss:0.28108005164817423\ttest-auc:0.94805564990614533\ttest-error:0.11290350596403465\ttrain-logloss:0.27690686787278407\ttrain-auc:0.95029908620450076\ttrain-error:0.11050068662432690\n"
     ]
    },
    {
     "name": "stderr",
     "output_type": "stream",
     "text": [
      "[145]\ttest-logloss:0.28069910366449979\ttest-auc:0.94815811015517970\ttest-error:0.11268514313931301\ttrain-logloss:0.27649777317316077\ttrain-auc:0.95041489926801015\ttrain-error:0.11035865489344730\n",
      "[146]\ttest-logloss:0.28035497571057905\ttest-auc:0.94824371772004223\ttest-error:0.11255114776959745\ttrain-logloss:0.27613475906645463\ttrain-auc:0.95050811916019529\ttrain-error:0.11018194099572501\n"
     ]
    },
    {
     "name": "stderr",
     "output_type": "stream",
     "text": [
      "[147]\ttest-logloss:0.27986691058727042\ttest-auc:0.94840191084670056\ttest-error:0.11243204077429472\ttrain-logloss:0.27562374617024143\ttrain-auc:0.95066569226362585\ttrain-error:0.11006881107054765\n",
      "[148]\ttest-logloss:0.27954002280386242\ttest-auc:0.94846824836167587\ttest-error:0.11241467100414641\ttrain-logloss:0.27527130963781138\ttrain-auc:0.95074289742271645\ttrain-error:0.11002917430844172\n"
     ]
    },
    {
     "name": "stderr",
     "output_type": "stream",
     "text": [
      "[149]\ttest-logloss:0.27936271051023115\ttest-auc:0.94852701382027960\ttest-error:0.11242707798282378\ttrain-logloss:0.27508587362537301\ttrain-auc:0.95080166348546113\ttrain-error:0.10997467376054607\n",
      "[150]\ttest-logloss:0.27901356531093835\ttest-auc:0.94860281094417231\ttest-error:0.11231789657046296\ttrain-logloss:0.27471094350119579\ttrain-auc:0.95088681995775415\ttrain-error:0.10988714257756213\n"
     ]
    },
    {
     "name": "stderr",
     "output_type": "stream",
     "text": [
      "[151]\ttest-logloss:0.27876708750303569\ttest-auc:0.94866349605961342\ttest-error:0.11226826865575348\ttrain-logloss:0.27444492303359586\ttrain-auc:0.95095614717356569\ttrain-error:0.10982025554150836\n",
      "[152]\ttest-logloss:0.27831019125549677\ttest-auc:0.94878522680186228\ttest-error:0.11211194072441867\ttrain-logloss:0.27395975624402513\ttrain-auc:0.95108165179582982\ttrain-error:0.10961381407220662\n"
     ]
    },
    {
     "name": "stderr",
     "output_type": "stream",
     "text": [
      "[153]\ttest-logloss:0.27805630554721672\ttest-auc:0.94885154045104669\ttest-error:0.11202757326941258\ttrain-logloss:0.27368190485189109\ttrain-auc:0.95115896645815690\ttrain-error:0.10946352468255495\n",
      "[154]\ttest-logloss:0.27775956936451618\ttest-auc:0.94892033876550641\ttest-error:0.11185139417219397\ttrain-logloss:0.27336999459985967\ttrain-auc:0.95122931665382005\ttrain-error:0.10929837150711356\n"
     ]
    },
    {
     "name": "stderr",
     "output_type": "stream",
     "text": [
      "[155]\ttest-logloss:0.27750261200260534\ttest-auc:0.94897960637857659\ttest-error:0.11170499182380104\ttrain-logloss:0.27310125580169381\ttrain-auc:0.95129260614096534\ttrain-error:0.10920753726062080\n",
      "[156]\ttest-logloss:0.27715641975970101\ttest-auc:0.94907591446265216\ttest-error:0.11162062436879495\ttrain-logloss:0.27273762852947475\ttrain-auc:0.95139449764373352\ttrain-error:0.10908614967667137\n"
     ]
    },
    {
     "name": "stderr",
     "output_type": "stream",
     "text": [
      "[157]\ttest-logloss:0.27702293005328998\ttest-auc:0.94910166804008944\ttest-error:0.11160325459864665\ttrain-logloss:0.27258652207354089\ttrain-auc:0.95142619051982513\ttrain-error:0.10903990678754778\n",
      "[158]\ttest-logloss:0.27684393608190383\ttest-auc:0.94913847947092700\ttest-error:0.11155610807967266\ttrain-logloss:0.27239101133189286\ttrain-auc:0.95147126619729772\ttrain-error:0.10896145902921311\n"
     ]
    },
    {
     "name": "stderr",
     "output_type": "stream",
     "text": [
      "[159]\ttest-logloss:0.27662427769051651\ttest-auc:0.94921760018328394\ttest-error:0.11149655458202129\ttrain-logloss:0.27215321011400628\ttrain-auc:0.95155680968540080\ttrain-error:0.10892264803298439\n",
      "[160]\ttest-logloss:0.27637062434776272\ttest-auc:0.94927158945430135\ttest-error:0.11146181504172467\ttrain-logloss:0.27188370575634452\ttrain-auc:0.95161301137938603\ttrain-error:0.10883016225473721\n"
     ]
    },
    {
     "name": "stderr",
     "output_type": "stream",
     "text": [
      "[161]\ttest-logloss:0.27605345140642379\ttest-auc:0.94936035231562665\ttest-error:0.11130548711038986\ttrain-logloss:0.27154965763181604\ttrain-auc:0.95170310773177780\ttrain-error:0.10872859305184075\n",
      "[162]\ttest-logloss:0.27595369445639611\ttest-auc:0.94938459441760203\ttest-error:0.11127571036156417\ttrain-logloss:0.27143902681684884\ttrain-auc:0.95173049204678239\ttrain-error:0.10867244097219068\n"
     ]
    },
    {
     "name": "stderr",
     "output_type": "stream",
     "text": [
      "[163]\ttest-logloss:0.27581149469519489\ttest-auc:0.94942095959016759\ttest-error:0.11115908476199693\ttrain-logloss:0.27128829819422978\ttrain-auc:0.95176979357580049\ttrain-error:0.10856591717403098\n",
      "[164]\ttest-logloss:0.27563100119207651\ttest-auc:0.94946301956160606\ttest-error:0.11106975451551988\ttrain-logloss:0.27108022644922103\ttrain-auc:0.95182386744245517\ttrain-error:0.10849077247920515\n"
     ]
    },
    {
     "name": "stderr",
     "output_type": "stream",
     "text": [
      "[165]\ttest-logloss:0.27537264946976742\ttest-auc:0.94952928156315008\ttest-error:0.11103005218375232\ttrain-logloss:0.27079775290849006\ttrain-auc:0.95189997985760155\ttrain-error:0.10843131733604625\n",
      "[166]\ttest-logloss:0.27512301497642255\ttest-auc:0.94958889575971850\ttest-error:0.11090846379271413\ttrain-logloss:0.27052937124865301\ttrain-auc:0.95196913282342521\ttrain-error:0.10834626345069394\n"
     ]
    },
    {
     "name": "stderr",
     "output_type": "stream",
     "text": [
      "[167]\ttest-logloss:0.27487175022162691\ttest-auc:0.94966067564787926\ttest-error:0.11078191261020499\ttrain-logloss:0.27026933034960776\ttrain-auc:0.95204232190419968\ttrain-error:0.10828845983928945\n",
      "[168]\ttest-logloss:0.27465212514399878\ttest-auc:0.94973361877784079\ttest-error:0.11076702423579216\ttrain-logloss:0.27002361695520305\ttrain-auc:0.95212785677049461\ttrain-error:0.10821826973972686\n"
     ]
    },
    {
     "name": "stderr",
     "output_type": "stream",
     "text": [
      "[169]\ttest-logloss:0.27440938505933310\ttest-auc:0.94980436629198217\ttest-error:0.11070995213387626\ttrain-logloss:0.26976381184692866\ttrain-auc:0.95220509971852563\ttrain-error:0.10819184523165623\n",
      "[170]\ttest-logloss:0.27417329836871573\ttest-auc:0.94985793775156802\ttest-error:0.11068017538505058\ttrain-logloss:0.26950645673577295\ttrain-auc:0.95226589437188947\ttrain-error:0.10808697296525095\n"
     ]
    },
    {
     "name": "stderr",
     "output_type": "stream",
     "text": [
      "[171]\ttest-logloss:0.27388777093848798\ttest-auc:0.94994649008164400\ttest-error:0.11060573351298639\ttrain-logloss:0.26919172586772311\ttrain-auc:0.95236681991847949\ttrain-error:0.10799118412349494\n",
      "[172]\ttest-logloss:0.27377012991309507\ttest-auc:0.94998802506725566\ttest-error:0.11057843815989618\ttrain-logloss:0.26906323861691916\ttrain-auc:0.95241099240768257\ttrain-error:0.10797053997656476\n"
     ]
    },
    {
     "name": "stderr",
     "output_type": "stream",
     "text": [
      "[173]\ttest-logloss:0.27369202835771061\ttest-auc:0.95000093665717400\ttest-error:0.11057099397268975\ttrain-logloss:0.26897131529066470\ttrain-auc:0.95242771142466987\ttrain-error:0.10796475961542432\n",
      "[174]\ttest-logloss:0.27328741125746331\ttest-auc:0.95015279345328885\ttest-error:0.11046181256032893\ttrain-logloss:0.26854338327603716\ttrain-auc:0.95258417654802197\ttrain-error:0.10782603094805354\n"
     ]
    },
    {
     "name": "stderr",
     "output_type": "stream",
     "text": [
      "[175]\ttest-logloss:0.27305157460548479\ttest-auc:0.95021645483481698\ttest-error:0.11032285439914243\ttrain-logloss:0.26830332564375853\ttrain-auc:0.95264847304517175\ttrain-error:0.10768730228068278\n",
      "[176]\ttest-logloss:0.27271276617887896\ttest-auc:0.95030117892208832\ttest-error:0.11021615438251708\ttrain-logloss:0.26794323321574831\ttrain-auc:0.95274127275445208\ttrain-error:0.10757830118489145\n"
     ]
    },
    {
     "name": "stderr",
     "output_type": "stream",
     "text": [
      "[177]\ttest-logloss:0.27235821667386773\ttest-auc:0.95043837286196609\ttest-error:0.11011937994883363\ttrain-logloss:0.26756193656136612\ttrain-auc:0.95288570191549915\ttrain-error:0.10749159576778472\n",
      "[178]\ttest-logloss:0.27207685911267493\ttest-auc:0.95053400928042353\ttest-error:0.11001267993220827\ttrain-logloss:0.26726185940680575\ttrain-auc:0.95298537808817618\ttrain-error:0.10737764007673016\n"
     ]
    },
    {
     "name": "stderr",
     "output_type": "stream",
     "text": [
      "[179]\ttest-logloss:0.27190089115804245\ttest-auc:0.95059951400490539\ttest-error:0.10996305201749880\ttrain-logloss:0.26707132160536295\ttrain-auc:0.95305473435519883\ttrain-error:0.10733717754874703\n",
      "[180]\ttest-logloss:0.27172366272906107\ttest-auc:0.95063511789814770\ttest-error:0.10995064503882143\ttrain-logloss:0.26687492473106922\ttrain-auc:0.95309619349783536\ttrain-error:0.10728019970321974\n"
     ]
    },
    {
     "name": "stderr",
     "output_type": "stream",
     "text": [
      "[181]\ttest-logloss:0.27150061542781312\ttest-auc:0.95070652141367296\ttest-error:0.10993823806014406\ttrain-logloss:0.26662913283892159\ttrain-auc:0.95317463709197103\ttrain-error:0.10727359357620209\n",
      "[182]\ttest-logloss:0.27132871053295127\ttest-auc:0.95073217739751215\ttest-error:0.10988861014543461\ttrain-logloss:0.26643021480646467\ttrain-auc:0.95321002133206512\ttrain-error:0.10720588077427112\n"
     ]
    },
    {
     "name": "stderr",
     "output_type": "stream",
     "text": [
      "[183]\ttest-logloss:0.27110276324520505\ttest-auc:0.95078941265007200\ttest-error:0.10975957756718999\ttrain-logloss:0.26618435680856750\ttrain-auc:0.95327528455592803\ttrain-error:0.10710348580549746\n",
      "[184]\ttest-logloss:0.27089178268880726\ttest-auc:0.95083680461849163\ttest-error:0.10969009848659673\ttrain-logloss:0.26595807960928608\ttrain-auc:0.95332690417076005\ttrain-error:0.10705889444812827\n"
     ]
    },
    {
     "name": "stderr",
     "output_type": "stream",
     "text": [
      "[185]\ttest-logloss:0.27068358251373525\ttest-auc:0.95090748211153542\ttest-error:0.10968017290365485\ttrain-logloss:0.26573075828676701\ttrain-auc:0.95340216022024649\ttrain-error:0.10698209822154803\n",
      "[186]\ttest-logloss:0.27050177233499945\ttest-auc:0.95094827628477141\ttest-error:0.10958091707423592\ttrain-logloss:0.26552873008862138\ttrain-auc:0.95344937303556598\ttrain-error:0.10688961244330085\n"
     ]
    },
    {
     "name": "stderr",
     "output_type": "stream",
     "text": [
      "[187]\ttest-logloss:0.27035169894432726\ttest-auc:0.95098243325594511\ttest-error:0.10955610311688119\ttrain-logloss:0.26535484387481850\ttrain-auc:0.95349456387322862\ttrain-error:0.10684006649066843\n",
      "[188]\ttest-logloss:0.27025901222736332\ttest-auc:0.95101418143239957\ttest-error:0.10953377055526192\ttrain-logloss:0.26524789735372528\ttrain-auc:0.95353274476084804\ttrain-error:0.10680786162145736\n"
     ]
    },
    {
     "name": "stderr",
     "output_type": "stream",
     "text": [
      "[189]\ttest-logloss:0.27008199633900570\ttest-auc:0.95107657982346527\ttest-error:0.10952136357658455\ttrain-logloss:0.26505923125935271\ttrain-auc:0.95359828728656204\ttrain-error:0.10677730828400070\n",
      "[190]\ttest-logloss:0.26994257464034044\ttest-auc:0.95109291899906379\ttest-error:0.10952136357658455\ttrain-logloss:0.26490180632882215\ttrain-auc:0.95362152638842157\ttrain-error:0.10675583837119332\n"
     ]
    },
    {
     "name": "stderr",
     "output_type": "stream",
     "text": [
      "[191]\ttest-logloss:0.26989396753396477\ttest-auc:0.95110926589594746\ttest-error:0.10951640078511361\ttrain-logloss:0.26484635626482317\ttrain-auc:0.95363972789408402\ttrain-error:0.10675088377593007\n",
      "[192]\ttest-logloss:0.26975419601623268\ttest-auc:0.95115146568791742\ttest-error:0.10948910543202341\ttrain-logloss:0.26470202235648765\ttrain-auc:0.95368061202676224\ttrain-error:0.10670959548206974\n"
     ]
    },
    {
     "name": "stderr",
     "output_type": "stream",
     "text": [
      "[193]\ttest-logloss:0.26968621955712024\ttest-auc:0.95117325104192807\ttest-error:0.10944940310025583\ttrain-logloss:0.26462652899405326\ttrain-auc:0.95370520661950897\ttrain-error:0.10668317097399911\n",
      "[194]\ttest-logloss:0.26941638313417493\ttest-auc:0.95125122090102199\ttest-error:0.10939729378981089\ttrain-logloss:0.26433131723114162\ttrain-auc:0.95379221483716270\ttrain-error:0.10654939690189158\n"
     ]
    },
    {
     "name": "stderr",
     "output_type": "stream",
     "text": [
      "[195]\ttest-logloss:0.26906350651769856\ttest-auc:0.95136121508027283\ttest-error:0.10928314958597912\ttrain-logloss:0.26396315653062458\ttrain-auc:0.95390233278454950\ttrain-error:0.10648003256820619\n",
      "[196]\ttest-logloss:0.26895388925624053\ttest-auc:0.95139414966238378\ttest-error:0.10927074260730175\ttrain-logloss:0.26384436814173462\ttrain-auc:0.95393468676048543\ttrain-error:0.10644287310373188\n"
     ]
    },
    {
     "name": "stderr",
     "output_type": "stream",
     "text": [
      "[197]\ttest-logloss:0.26882941105223668\ttest-auc:0.95141751906208638\ttest-error:0.10925585423288892\ttrain-logloss:0.26370841100050046\ttrain-auc:0.95396240697687928\ttrain-error:0.10638506949232740\n",
      "[198]\ttest-logloss:0.26859751657510456\ttest-auc:0.95147973374320949\ttest-error:0.10920622631817944\ttrain-logloss:0.26344881736670661\ttrain-auc:0.95403601844578856\ttrain-error:0.10632974317855454\n"
     ]
    },
    {
     "name": "stderr",
     "output_type": "stream",
     "text": [
      "[199]\ttest-logloss:0.26847781143279487\ttest-auc:0.95150406538500210\ttest-error:0.10918885654803114\ttrain-logloss:0.26330930667685859\ttrain-auc:0.95406793082204100\ttrain-error:0.10628597758706256\n",
      "[200]\ttest-logloss:0.26834966903043384\ttest-auc:0.95153812665903370\ttest-error:0.10922359608832777\ttrain-logloss:0.26316521253208025\ttrain-auc:0.95410798083092396\ttrain-error:0.10622817397565808\n"
     ]
    },
    {
     "name": "stderr",
     "output_type": "stream",
     "text": [
      "[201]\ttest-logloss:0.26827598517658657\ttest-auc:0.95157137292492588\ttest-error:0.10918885654803114\ttrain-logloss:0.26307373455464456\ttrain-auc:0.95414924036411009\ttrain-error:0.10618605991592052\n",
      "[202]\ttest-logloss:0.26809477188804365\ttest-auc:0.95161158435662840\ttest-error:0.10914667282052809\ttrain-logloss:0.26287078842748901\ttrain-auc:0.95419402099490802\ttrain-error:0.10614559738793737\n"
     ]
    },
    {
     "name": "stderr",
     "output_type": "stream",
     "text": [
      "[203]\ttest-logloss:0.26802316715807012\ttest-auc:0.95163497018407361\ttest-error:0.10914667282052809\ttrain-logloss:0.26277654402821315\ttrain-auc:0.95422681181775915\ttrain-error:0.10611917287986676\n",
      "[204]\ttest-logloss:0.26772140309957904\ttest-auc:0.95171515148331221\ttest-error:0.10905237978258010\ttrain-logloss:0.26247004197498586\ttrain-auc:0.95430050190304794\ttrain-error:0.10602586133574236\n"
     ]
    },
    {
     "name": "stderr",
     "output_type": "stream",
     "text": [
      "[205]\ttest-logloss:0.26769221382059916\ttest-auc:0.95172170127599176\ttest-error:0.10904741699110916\ttrain-logloss:0.26243480873773212\ttrain-auc:0.95430884988761266\ttrain-error:0.10601677791109310\n",
      "[206]\ttest-logloss:0.26755391068980722\ttest-auc:0.95175432822584127\ttest-error:0.10898041930625138\ttrain-logloss:0.26228872362706473\ttrain-auc:0.95434098262457012\ttrain-error:0.10599283070065409\n"
     ]
    },
    {
     "name": "stderr",
     "output_type": "stream",
     "text": [
      "[207]\ttest-logloss:0.26735034817895648\ttest-auc:0.95182337193432343\ttest-error:0.10895312395316117\ttrain-logloss:0.26206257039173736\ttrain-auc:0.95441933772447818\ttrain-error:0.10586731428731863\n",
      "[208]\ttest-logloss:0.26714262360357233\ttest-auc:0.95189940960026675\ttest-error:0.10889853324698076\ttrain-logloss:0.26182625509614132\ttrain-auc:0.95450502626406997\ttrain-error:0.10579382112424721\n"
     ]
    },
    {
     "name": "stderr",
     "output_type": "stream",
     "text": [
      "[209]\ttest-logloss:0.26691329238729700\ttest-auc:0.95194686576495469\ttest-error:0.10876701927300068\ttrain-logloss:0.26157415843030013\ttrain-auc:0.95455588726207108\ttrain-error:0.10570381264363166\n",
      "[210]\ttest-logloss:0.26680222276504867\ttest-auc:0.95197024098948657\ttest-error:0.10874468671138142\ttrain-logloss:0.26144678814185446\ttrain-auc:0.95458491531210998\ttrain-error:0.10565922128626247\n"
     ]
    },
    {
     "name": "stderr",
     "output_type": "stream",
     "text": [
      "[211]\ttest-logloss:0.26671125993750916\ttest-auc:0.95198732862485802\ttest-error:0.10872731694123311\ttrain-logloss:0.26134336843105604\ttrain-auc:0.95460539763787433\ttrain-error:0.10565096362749041\n",
      "[212]\ttest-logloss:0.26662080841563995\ttest-auc:0.95200876637325460\ttest-error:0.10874468671138142\ttrain-logloss:0.26123444477056668\ttrain-auc:0.95463550595737501\ttrain-error:0.10560719803599844\n"
     ]
    },
    {
     "name": "stderr",
     "output_type": "stream",
     "text": [
      "[213]\ttest-logloss:0.26644332154233125\ttest-auc:0.95204655087075918\ttest-error:0.10868761460946554\ttrain-logloss:0.26104686386819753\ttrain-auc:0.95467445103013338\ttrain-error:0.10553700793643585\n",
      "[214]\ttest-logloss:0.26626314958157349\ttest-auc:0.95208832548713718\ttest-error:0.10865287506916890\ttrain-logloss:0.26084584797028709\ttrain-auc:0.95472342127325149\ttrain-error:0.10550562883310198\n"
     ]
    },
    {
     "name": "stderr",
     "output_type": "stream",
     "text": [
      "[215]\ttest-logloss:0.26601758350326010\ttest-auc:0.95218214918917432\ttest-error:0.10857098900989828\ttrain-logloss:0.26057272352322780\ttrain-auc:0.95482715701787080\ttrain-error:0.10541479458660921\n",
      "[216]\ttest-logloss:0.26582102975167704\ttest-auc:0.95223047720642429\ttest-error:0.10850150992930503\ttrain-logloss:0.26035782851832079\ttrain-auc:0.95488085004254097\ttrain-error:0.10537433205862608\n"
     ]
    },
    {
     "name": "stderr",
     "output_type": "stream",
     "text": [
      "[217]\ttest-logloss:0.26576218055292966\ttest-auc:0.95224537955796673\ttest-error:0.10847669597195030\ttrain-logloss:0.26028301366801299\ttrain-auc:0.95490151362675124\ttrain-error:0.10530909655432673\n",
      "[218]\ttest-logloss:0.26560095308405690\ttest-auc:0.95231244331708720\ttest-error:0.10845188201459557\ttrain-logloss:0.26010550729692017\ttrain-auc:0.95497452346201694\ttrain-error:0.10524220951827296\n"
     ]
    },
    {
     "name": "stderr",
     "output_type": "stream",
     "text": [
      "[219]\ttest-logloss:0.26554595151915950\ttest-auc:0.95232704110271582\ttest-error:0.10843699364018274\ttrain-logloss:0.26003063029991086\ttrain-auc:0.95499843652006133\ttrain-error:0.10522239113722000\n",
      "[220]\ttest-logloss:0.26531558253713394\ttest-auc:0.95238230540792279\ttest-error:0.10838488432973779\ttrain-logloss:0.25978723885809385\ttrain-auc:0.95505457769500879\ttrain-error:0.10517036788695595\n"
     ]
    },
    {
     "name": "stderr",
     "output_type": "stream",
     "text": [
      "[221]\ttest-logloss:0.26515635156436251\ttest-auc:0.95241321054809536\ttest-error:0.10835014478944116\ttrain-logloss:0.25961193289845164\ttrain-auc:0.95509152566952260\ttrain-error:0.10508448823572643\n",
      "[222]\ttest-logloss:0.26507740045229738\ttest-auc:0.95243033864940541\ttest-error:0.10829555408326075\ttrain-logloss:0.25952119116845745\ttrain-auc:0.95511210099680266\ttrain-error:0.10501677543379546\n"
     ]
    },
    {
     "name": "stderr",
     "output_type": "stream",
     "text": [
      "[223]\ttest-logloss:0.26502150992165302\ttest-auc:0.95245026458984461\ttest-error:0.10829307268752528\ttrain-logloss:0.25945554330151599\ttrain-auc:0.95513569191534742\ttrain-error:0.10500604047739177\n",
      "[224]\ttest-logloss:0.26497012050091312\ttest-auc:0.95246130133593554\ttest-error:0.10828810989605434\ttrain-logloss:0.25939109701133628\ttrain-auc:0.95515033101181757\ttrain-error:0.10495236569537332\n"
     ]
    },
    {
     "name": "stderr",
     "output_type": "stream",
     "text": [
      "[225]\ttest-logloss:0.26472913452897417\ttest-auc:0.95255207719914214\ttest-error:0.10821863081546108\ttrain-logloss:0.25913127595651692\ttrain-auc:0.95524496433093120\ttrain-error:0.10486566027826659\n",
      "[226]\ttest-logloss:0.26454919225034801\ttest-auc:0.95259985456683549\ttest-error:0.10813674475619046\ttrain-logloss:0.25893098776437035\ttrain-auc:0.95530011689597460\ttrain-error:0.10484584189721362\n"
     ]
    },
    {
     "name": "stderr",
     "output_type": "stream",
     "text": [
      "[227]\ttest-logloss:0.26437243079565775\ttest-auc:0.95264547269618360\ttest-error:0.10803252613530058\ttrain-logloss:0.25873633961421483\ttrain-auc:0.95534871182450287\ttrain-error:0.10479381864694957\n",
      "[228]\ttest-logloss:0.26423051297087335\ttest-auc:0.95270927780198711\ttest-error:0.10802011915662321\ttrain-logloss:0.25857283253573110\ttrain-auc:0.95542213082607019\ttrain-error:0.10476574260712454\n"
     ]
    },
    {
     "name": "stderr",
     "output_type": "stream",
     "text": [
      "[229]\ttest-logloss:0.26409379236871988\ttest-auc:0.95274627471607687\ttest-error:0.10797049124191375\ttrain-logloss:0.25841707770960820\ttrain-auc:0.95546162788820455\ttrain-error:0.10472032548387816\n",
      "[230]\ttest-logloss:0.26400717127000350\ttest-auc:0.95276691592830842\ttest-error:0.10795312147176545\ttrain-logloss:0.25831108111748602\ttrain-auc:0.95548903595750423\ttrain-error:0.10469802980519358\n"
     ]
    },
    {
     "name": "stderr",
     "output_type": "stream",
     "text": [
      "[231]\ttest-logloss:0.26387676954115463\ttest-auc:0.95279600049531432\ttest-error:0.10786875401675934\ttrain-logloss:0.25817394264642834\ttrain-auc:0.95551734894979978\ttrain-error:0.10467160529712295\n",
      "[232]\ttest-logloss:0.26375795271588509\ttest-auc:0.95282470898523630\ttest-error:0.10783649587219819\ttrain-logloss:0.25803655501284317\ttrain-auc:0.95555129821253648\ttrain-error:0.10462536240799936\n"
     ]
    },
    {
     "name": "stderr",
     "output_type": "stream",
     "text": [
      "[233]\ttest-logloss:0.26360918273578693\ttest-auc:0.95288175065150449\ttest-error:0.10778686795748872\ttrain-logloss:0.25786425156701021\ttrain-auc:0.95561461733459008\ttrain-error:0.10458324834826180\n",
      "[234]\ttest-logloss:0.26358343052896249\ttest-auc:0.95289322999841641\ttest-error:0.10775460981292757\ttrain-logloss:0.25781552836428789\ttrain-auc:0.95563411222193628\ttrain-error:0.10454774041554191\n"
     ]
    },
    {
     "name": "stderr",
     "output_type": "stream",
     "text": [
      "[235]\ttest-logloss:0.26350619666673264\ttest-auc:0.95293266853808123\ttest-error:0.10773475864704379\ttrain-logloss:0.25773002503094600\ttrain-auc:0.95567687358763287\ttrain-error:0.10453865699089263\n",
      "[236]\ttest-logloss:0.26348274812813710\ttest-auc:0.95293815040434793\ttest-error:0.10771242608542453\ttrain-logloss:0.25769596375161707\ttrain-auc:0.95568575514647158\ttrain-error:0.10452379320510290\n"
     ]
    },
    {
     "name": "stderr",
     "output_type": "stream",
     "text": [
      "[237]\ttest-logloss:0.26335133764881585\ttest-auc:0.95300233914843024\ttest-error:0.10770746329395359\ttrain-logloss:0.25754667662320735\ttrain-auc:0.95575671876700774\ttrain-error:0.10447507301834769\n",
      "[238]\ttest-logloss:0.26320114421720425\ttest-auc:0.95307253883306986\ttest-error:0.10770498189821812\ttrain-logloss:0.25737345275664231\ttrain-auc:0.95583661336699033\ttrain-error:0.10446186076431238\n"
     ]
    },
    {
     "name": "stderr",
     "output_type": "stream",
     "text": [
      "[239]\ttest-logloss:0.26293026608354642\ttest-auc:0.95319686642705181\ttest-error:0.10762557723468297\ttrain-logloss:0.25708963056335754\ttrain-auc:0.95596173635082338\ttrain-error:0.10440901174817113\n",
      "[240]\ttest-logloss:0.26276097106954605\ttest-auc:0.95323557866099817\ttest-error:0.10758835629865086\ttrain-logloss:0.25689837635191770\ttrain-auc:0.95600793445351706\ttrain-error:0.10435120813676665\n"
     ]
    },
    {
     "name": "stderr",
     "output_type": "stream",
     "text": [
      "[241]\ttest-logloss:0.26265045436208595\ttest-auc:0.95325738031960494\ttest-error:0.10754617257114782\ttrain-logloss:0.25677591571626951\ttrain-auc:0.95603361339478721\ttrain-error:0.10432395786281881\n",
      "[242]\ttest-logloss:0.26251530428816949\ttest-auc:0.95328306127755347\ttest-error:0.10747917488629004\ttrain-logloss:0.25661967358212606\ttrain-auc:0.95606530685048474\ttrain-error:0.10429257875948496\n"
     ]
    },
    {
     "name": "stderr",
     "output_type": "stream",
     "text": [
      "[243]\ttest-logloss:0.26244841885087522\ttest-auc:0.95330728850343216\ttest-error:0.10749158186496741\ttrain-logloss:0.25652804949507169\ttrain-auc:0.95610137228842795\ttrain-error:0.10425129046562460\n",
      "[244]\ttest-logloss:0.26231697564032946\ttest-auc:0.95334491220855688\ttest-error:0.10749902605217383\ttrain-logloss:0.25638329567674700\ttrain-auc:0.95614220843246578\ttrain-error:0.10422073712816794\n"
     ]
    },
    {
     "name": "stderr",
     "output_type": "stream",
     "text": [
      "[245]\ttest-logloss:0.26226059610817598\ttest-auc:0.95335785706034382\ttest-error:0.10746924930334814\ttrain-logloss:0.25632211527247156\ttrain-auc:0.95615748833984648\ttrain-error:0.10421330523527308\n",
      "[246]\ttest-logloss:0.26212031190656299\ttest-auc:0.95341389144984845\ttest-error:0.10744691674172889\ttrain-logloss:0.25617183632823781\ttrain-auc:0.95621577791881562\ttrain-error:0.10415632738974580\n"
     ]
    },
    {
     "name": "stderr",
     "output_type": "stream",
     "text": [
      "[247]\ttest-logloss:0.26199532525300490\ttest-auc:0.95344945868237896\ttest-error:0.10740969580569679\ttrain-logloss:0.25603423800685621\ttrain-auc:0.95625339656826303\ttrain-error:0.10411091026649942\n",
      "[248]\ttest-logloss:0.26193464869634253\ttest-auc:0.95346688568486393\ttest-error:0.10743450976305152\ttrain-logloss:0.25595917624540399\ttrain-auc:0.95627510507961333\ttrain-error:0.10409356918307808\n"
     ]
    },
    {
     "name": "stderr",
     "output_type": "stream",
     "text": [
      "[249]\ttest-logloss:0.26175095389501629\ttest-auc:0.95351584954441637\ttest-error:0.10735510509951637\ttrain-logloss:0.25575079106376469\ttrain-auc:0.95632861694266591\ttrain-error:0.10404484899632287\n",
      "[250]\ttest-logloss:0.26166577052480711\ttest-auc:0.95354095804356387\ttest-error:0.10736254928672280\ttrain-logloss:0.25564562859134421\ttrain-auc:0.95636105862456544\ttrain-error:0.10400768953184855\n"
     ]
    },
    {
     "name": "stderr",
     "output_type": "stream",
     "text": [
      "[251]\ttest-logloss:0.26159898125182934\ttest-auc:0.95355606598818132\ttest-error:0.10730299578907143\ttrain-logloss:0.25557109942099987\ttrain-auc:0.95637894910415977\ttrain-error:0.10395566628158451\n",
      "[252]\ttest-logloss:0.26149695653888505\ttest-auc:0.95358852699812746\ttest-error:0.10728810741465859\ttrain-logloss:0.25545361838595881\ttrain-auc:0.95641661004710821\ttrain-error:0.10393667366640875\n"
     ]
    },
    {
     "name": "stderr",
     "output_type": "stream",
     "text": [
      "[253]\ttest-logloss:0.26141579293732337\ttest-auc:0.95361339671621936\ttest-error:0.10728314462318765\ttrain-logloss:0.25534719537003486\ttrain-auc:0.95645093666191994\ttrain-error:0.10386400626921453\n",
      "[254]\ttest-logloss:0.26128979558695276\ttest-auc:0.95363951326795338\ttest-error:0.10719381437671061\ttrain-logloss:0.25520093023261564\ttrain-auc:0.95648365525769430\ttrain-error:0.10381363455070491\n"
     ]
    },
    {
     "name": "stderr",
     "output_type": "stream",
     "text": [
      "[255]\ttest-logloss:0.26120648361301380\ttest-auc:0.95367408811213172\ttest-error:0.10718637018950419\ttrain-logloss:0.25509552488846388\ttrain-auc:0.95652846558340676\ttrain-error:0.10376491436394970\n",
      "[256]\ttest-logloss:0.26107163661038207\ttest-auc:0.95370892487659220\ttest-error:0.10719629577244609\ttrain-logloss:0.25493928991940834\ttrain-auc:0.95656983465801526\ttrain-error:0.10373023219710702\n"
     ]
    },
    {
     "name": "stderr",
     "output_type": "stream",
     "text": [
      "[257]\ttest-logloss:0.26095713630575162\ttest-auc:0.95374207704624692\ttest-error:0.10716651902362041\ttrain-logloss:0.25480655315549794\ttrain-auc:0.95660923322806124\ttrain-error:0.10372114877245774\n",
      "[258]\ttest-logloss:0.26086728411439919\ttest-auc:0.95376541091818534\ttest-error:0.10710448413023357\ttrain-logloss:0.25470427230827497\ttrain-auc:0.95663657233517008\ttrain-error:0.10366747399043928\n"
     ]
    },
    {
     "name": "stderr",
     "output_type": "stream",
     "text": [
      "[259]\ttest-logloss:0.26083841407423458\ttest-auc:0.95377052002000895\ttest-error:0.10711937250464641\ttrain-logloss:0.25466409183495686\ttrain-auc:0.95664598644681265\ttrain-error:0.10366086786342163\n",
      "[260]\ttest-logloss:0.26079302971961632\ttest-auc:0.95378794433790026\ttest-error:0.10712681669185284\ttrain-logloss:0.25459772188357915\ttrain-auc:0.95667229415546473\ttrain-error:0.10362618569657893\n"
     ]
    },
    {
     "name": "stderr",
     "output_type": "stream",
     "text": [
      "[261]\ttest-logloss:0.26072189670939894\ttest-auc:0.95381280691349546\ttest-error:0.10710696552596904\ttrain-logloss:0.25451423492685477\ttrain-auc:0.95670151411915161\ttrain-error:0.10359150352973624\n",
      "[262]\ttest-logloss:0.26067538032190846\ttest-auc:0.95383316716699651\ttest-error:0.10704493063258222\ttrain-logloss:0.25445379588923889\ttrain-auc:0.95672887132360207\ttrain-error:0.10357746550982372\n"
     ]
    },
    {
     "name": "stderr",
     "output_type": "stream",
     "text": [
      "[263]\ttest-logloss:0.26059375367620813\ttest-auc:0.95384650106319335\ttest-error:0.10702011667522748\ttrain-logloss:0.25435563008655510\ttrain-auc:0.95674919966103678\ttrain-error:0.10352544225955969\n",
      "[264]\ttest-logloss:0.26044985449948516\ttest-auc:0.95392080333640128\ttest-error:0.10697297015625348\ttrain-logloss:0.25419077981815058\ttrain-auc:0.95683192117488258\ttrain-error:0.10349323739034862\n"
     ]
    },
    {
     "name": "stderr",
     "output_type": "stream",
     "text": [
      "[265]\ttest-logloss:0.26033412917680321\ttest-auc:0.95394716097203036\ttest-error:0.10690597247139572\ttrain-logloss:0.25406264976972859\ttrain-auc:0.95686018077251955\ttrain-error:0.10342139575903161\n",
      "[266]\ttest-logloss:0.26020564426767945\ttest-auc:0.95398271446141192\ttest-error:0.10688363990977645\ttrain-logloss:0.25391086419135483\ttrain-auc:0.95690266743229890\ttrain-error:0.10337928169929406\n"
     ]
    },
    {
     "name": "stderr",
     "output_type": "stream",
     "text": [
      "[267]\ttest-logloss:0.26007828681612216\ttest-auc:0.95401614059507600\ttest-error:0.10688860270124739\ttrain-logloss:0.25376530719689838\ttrain-auc:0.95693938534827827\ttrain-error:0.10333551610780209\n",
      "[268]\ttest-logloss:0.25997916296939849\ttest-auc:0.95404821401374096\ttest-error:0.10683401199506698\ttrain-logloss:0.25365613072433402\ttrain-auc:0.95697586468347084\ttrain-error:0.10330083394095939\n"
     ]
    },
    {
     "name": "stderr",
     "output_type": "stream",
     "text": [
      "[269]\ttest-logloss:0.25990661172155616\ttest-auc:0.95407255411569780\ttest-error:0.10678934687182846\ttrain-logloss:0.25357546267044789\ttrain-auc:0.95700112894877398\ttrain-error:0.10326119717885346\n",
      "[270]\ttest-logloss:0.25979474643754547\ttest-auc:0.95410832972441406\ttest-error:0.10677693989315110\ttrain-logloss:0.25344174279540327\ttrain-auc:0.95704381857562648\ttrain-error:0.10322321194850194\n"
     ]
    },
    {
     "name": "stderr",
     "output_type": "stream",
     "text": [
      "[271]\ttest-logloss:0.25970859973429922\ttest-auc:0.95413123315009063\ttest-error:0.10675460733153185\ttrain-logloss:0.25333923611029091\ttrain-auc:0.95706936833842682\ttrain-error:0.10321825735323870\n",
      "[272]\ttest-logloss:0.25960803912987840\ttest-auc:0.95418032068566894\ttest-error:0.10670994220829332\ttrain-logloss:0.25321869417030735\ttrain-auc:0.95712820285740052\ttrain-error:0.10315962797595700\n"
     ]
    },
    {
     "name": "stderr",
     "output_type": "stream",
     "text": [
      "[273]\ttest-logloss:0.25949614619320110\ttest-auc:0.95424181447951950\ttest-error:0.10667520266799670\ttrain-logloss:0.25308943890220148\ttrain-auc:0.95719682670168715\ttrain-error:0.10312081697972827\n",
      "[274]\ttest-logloss:0.25937779501528346\ttest-auc:0.95428668903801050\ttest-error:0.10669505383388048\ttrain-logloss:0.25295156168133615\ttrain-auc:0.95724909484096132\ttrain-error:0.10310265013042973\n"
     ]
    },
    {
     "name": "stderr",
     "output_type": "stream",
     "text": [
      "[275]\ttest-logloss:0.25925137685094823\ttest-auc:0.95431993055044795\ttest-error:0.10662557475328723\ttrain-logloss:0.25280892353373036\ttrain-auc:0.95728773212798934\ttrain-error:0.10307539985648190\n",
      "[276]\ttest-logloss:0.25908161027328491\ttest-auc:0.95438405884191546\ttest-error:0.10655361427695850\ttrain-logloss:0.25262669977560259\ttrain-auc:0.95735203233598065\ttrain-error:0.10300438399104209\n"
     ]
    },
    {
     "name": "stderr",
     "output_type": "stream",
     "text": [
      "[277]\ttest-logloss:0.25901458228619084\ttest-auc:0.95440017603364025\ttest-error:0.10652135613239735\ttrain-logloss:0.25254539287177352\ttrain-auc:0.95737313888910813\ttrain-error:0.10299447480051561\n",
      "[278]\ttest-logloss:0.25895781584856498\ttest-auc:0.95442455109688729\ttest-error:0.10652631892386830\ttrain-logloss:0.25247662036307339\ttrain-auc:0.95740255405996810\ttrain-error:0.10294823191139202\n"
     ]
    },
    {
     "name": "stderr",
     "output_type": "stream",
     "text": [
      "[279]\ttest-logloss:0.25891383156144787\ttest-auc:0.95443633020699969\ttest-error:0.10646676542621694\ttrain-logloss:0.25241848562091690\ttrain-auc:0.95741965712518329\ttrain-error:0.10291850433981256\n",
      "[280]\ttest-logloss:0.25889140281438139\ttest-auc:0.95443889766366430\ttest-error:0.10646180263474599\ttrain-logloss:0.25238080830159088\ttrain-auc:0.95742789265393091\ttrain-error:0.10290529208577726\n"
     ]
    },
    {
     "name": "stderr",
     "output_type": "stream",
     "text": [
      "[281]\ttest-logloss:0.25876785096049060\ttest-auc:0.95450079099400620\ttest-error:0.10647917240489431\ttrain-logloss:0.25224137632669030\ttrain-auc:0.95749544576429557\ttrain-error:0.10287969334358384\n",
      "[282]\ttest-logloss:0.25866415537673665\ttest-auc:0.95453383379725787\ttest-error:0.10643450728165578\ttrain-logloss:0.25211658322720198\ttrain-auc:0.95753314305057913\ttrain-error:0.10285657189902205\n"
     ]
    },
    {
     "name": "stderr",
     "output_type": "stream",
     "text": [
      "[283]\ttest-logloss:0.25856896724538980\ttest-auc:0.95456273825019877\ttest-error:0.10644939565606863\ttrain-logloss:0.25200095752037033\ttrain-auc:0.95757082244408787\ttrain-error:0.10280207135112639\n",
      "[284]\ttest-logloss:0.25843026712636563\ttest-auc:0.95461535942521947\ttest-error:0.10635013982664969\ttrain-logloss:0.25183845526299536\ttrain-auc:0.95763208028302249\ttrain-error:0.10276738918428370\n"
     ]
    },
    {
     "name": "stderr",
     "output_type": "stream",
     "text": [
      "[285]\ttest-logloss:0.25831418201128042\ttest-auc:0.95466128623357438\ttest-error:0.10629306772473381\ttrain-logloss:0.25169940925687700\ttrain-auc:0.95768600810535764\ttrain-error:0.10271371440226525\n",
      "[286]\ttest-logloss:0.25823110667009957\ttest-auc:0.95468856601479435\ttest-error:0.10624592120575982\ttrain-logloss:0.25159868215749898\ttrain-auc:0.95772200119075634\ttrain-error:0.10265425925910635\n"
     ]
    },
    {
     "name": "stderr",
     "output_type": "stream",
     "text": [
      "[287]\ttest-logloss:0.25814763576356814\ttest-auc:0.95472120806240424\ttest-error:0.10618884910384394\ttrain-logloss:0.25149917737883887\ttrain-auc:0.95776033607761568\ttrain-error:0.10262948628279013\n",
      "[288]\ttest-logloss:0.25808288803372925\ttest-auc:0.95473516961166160\ttest-error:0.10612433281472163\ttrain-logloss:0.25141527601485103\ttrain-auc:0.95778040932572406\ttrain-error:0.10258406915954375\n"
     ]
    },
    {
     "name": "stderr",
     "output_type": "stream",
     "text": [
      "[289]\ttest-logloss:0.25799042431016245\ttest-auc:0.95477658292853518\ttest-error:0.10611440723177973\ttrain-logloss:0.25130067586788490\ttrain-auc:0.95783104437834687\ttrain-error:0.10252461401638485\n",
      "[290]\ttest-logloss:0.25791190951150811\ttest-auc:0.95479852363185047\ttest-error:0.10607966769148311\ttrain-logloss:0.25119852271987592\ttrain-auc:0.95786491194392831\ttrain-error:0.10248662878603333\n"
     ]
    },
    {
     "name": "stderr",
     "output_type": "stream",
     "text": [
      "[291]\ttest-logloss:0.25785025616708168\ttest-auc:0.95483267727806875\ttest-error:0.10609207467016048\ttrain-logloss:0.25111275479520812\ttrain-auc:0.95791274216362676\ttrain-error:0.10246185580971712\n",
      "[292]\ttest-logloss:0.25775506741114795\ttest-auc:0.95485606484187946\ttest-error:0.10608959327442499\ttrain-logloss:0.25099729039694041\ttrain-auc:0.95794181221668184\ttrain-error:0.10244946932155902\n"
     ]
    },
    {
     "name": "stderr",
     "output_type": "stream",
     "text": [
      "[293]\ttest-logloss:0.25771837891610822\ttest-auc:0.95487236219692795\ttest-error:0.10606477931707027\ttrain-logloss:0.25095391901230135\ttrain-auc:0.95795925673386506\ttrain-error:0.10243956013103253\n",
      "[294]\ttest-logloss:0.25755391970146996\ttest-auc:0.95494408961236688\ttest-error:0.10605733512986384\ttrain-logloss:0.25075990115410918\ttrain-auc:0.95804327735180939\ttrain-error:0.10239827183717218\n"
     ]
    },
    {
     "name": "stderr",
     "output_type": "stream",
     "text": [
      "[295]\ttest-logloss:0.25734986684483896\ttest-auc:0.95503090972688698\ttest-error:0.10600026302794796\ttrain-logloss:0.25052615243177279\ttrain-auc:0.95814134740519252\ttrain-error:0.10235368047980301\n",
      "[296]\ttest-logloss:0.25726284072307332\ttest-auc:0.95507366691684148\ttest-error:0.10597544907059323\ttrain-logloss:0.25042328890937365\ttrain-auc:0.95818983612537334\ttrain-error:0.10234211975752211\n"
     ]
    },
    {
     "name": "stderr",
     "output_type": "stream",
     "text": [
      "[297]\ttest-logloss:0.25718538730162172\ttest-auc:0.95509986426499138\ttest-error:0.10593326534309018\ttrain-logloss:0.25032409851419291\ttrain-auc:0.95822579477809067\ttrain-error:0.10231321795181987\n",
      "[298]\ttest-logloss:0.25707646900015835\ttest-auc:0.95512290157553847\ttest-error:0.10590348859426450\ttrain-logloss:0.25019480669314420\ttrain-auc:0.95825254733767440\ttrain-error:0.10226284623331024\n"
     ]
    },
    {
     "name": "stderr",
     "output_type": "stream",
     "text": [
      "[299]\ttest-logloss:0.25695228421884309\ttest-auc:0.95518065921553397\ttest-error:0.10588860021985166\ttrain-logloss:0.25005668218067506\ttrain-auc:0.95831368370621561\ttrain-error:0.10220669415366017\n",
      "[300]\ttest-logloss:0.25689417844484791\ttest-auc:0.95519386457141842\ttest-error:0.10588611882411619\ttrain-logloss:0.24998447353890818\ttrain-auc:0.95833172950655121\ttrain-error:0.10216045126453657\n"
     ]
    },
    {
     "name": "stderr",
     "output_type": "stream",
     "text": [
      "[301]\ttest-logloss:0.25675942938629698\ttest-auc:0.95525865977504931\ttest-error:0.10579926997337462\ttrain-logloss:0.24984009267395768\ttrain-auc:0.95839889203209738\ttrain-error:0.10212081450243064\n",
      "[302]\ttest-logloss:0.25671616823359356\ttest-auc:0.95526889281784921\ttest-error:0.10579182578616821\ttrain-logloss:0.24978287435977403\ttrain-auc:0.95841414451252727\ttrain-error:0.10210677648251812\n"
     ]
    },
    {
     "name": "stderr",
     "output_type": "stream",
     "text": [
      "[303]\ttest-logloss:0.25659995970970251\ttest-auc:0.95531555032825233\ttest-error:0.10575956764160706\ttrain-logloss:0.24965090286099792\ttrain-auc:0.95846568236065144\ttrain-error:0.10204732133935922\n",
      "[304]\ttest-logloss:0.25650143525007724\ttest-auc:0.95534054188748740\ttest-error:0.10572482810131043\ttrain-logloss:0.24953706950140758\ttrain-auc:0.95849558953508707\ttrain-error:0.10205145016874526\n"
     ]
    },
    {
     "name": "stderr",
     "output_type": "stream",
     "text": [
      "[305]\ttest-logloss:0.25647330890033437\ttest-auc:0.95534447704607972\ttest-error:0.10570001414395569\ttrain-logloss:0.24949995153023463\ttrain-auc:0.95850298610680829\ttrain-error:0.10203080602181508\n",
      "[306]\ttest-logloss:0.25641301592537186\ttest-auc:0.95535902089354319\ttest-error:0.10566775599939454\ttrain-logloss:0.24941911558380150\ttrain-auc:0.95852624151945942\ttrain-error:0.10201594223602536\n"
     ]
    },
    {
     "name": "stderr",
     "output_type": "stream",
     "text": [
      "[307]\ttest-logloss:0.25632703309152705\ttest-auc:0.95539236241324998\ttest-error:0.10568016297807191\ttrain-logloss:0.24930824184674810\ttrain-auc:0.95856970942882980\ttrain-error:0.10197547970804222\n",
      "[308]\ttest-logloss:0.25630122694854085\ttest-auc:0.95540165235092533\ttest-error:0.10567768158233644\ttrain-logloss:0.24926514589161847\ttrain-auc:0.95858846581507895\ttrain-error:0.10196557051751573\n"
     ]
    },
    {
     "name": "stderr",
     "output_type": "stream",
     "text": [
      "[309]\ttest-logloss:0.25623351790713994\ttest-auc:0.95541792767506561\ttest-error:0.10559331412733033\ttrain-logloss:0.24917944125479394\ttrain-auc:0.95861165427302120\ttrain-error:0.10190611537435683\n",
      "[310]\ttest-logloss:0.25621617395838681\ttest-auc:0.95542064624479539\ttest-error:0.10559827691880129\ttrain-logloss:0.24915431702762014\ttrain-auc:0.95861624418844615\ttrain-error:0.10189538041795314\n"
     ]
    },
    {
     "name": "stderr",
     "output_type": "stream",
     "text": [
      "[311]\ttest-logloss:0.25614130053519396\ttest-auc:0.95543835356564899\ttest-error:0.10564542343777528\ttrain-logloss:0.24906246944202431\ttrain-auc:0.95864004719501505\ttrain-error:0.10184666023119793\n",
      "[312]\ttest-logloss:0.25602613749895520\ttest-auc:0.95547321121575524\ttest-error:0.10564542343777528\ttrain-logloss:0.24892610748635413\ttrain-auc:0.95868319436003124\ttrain-error:0.10181362959610965\n"
     ]
    },
    {
     "name": "stderr",
     "output_type": "stream",
     "text": [
      "[313]\ttest-logloss:0.25596188791589064\ttest-auc:0.95548419842001087\ttest-error:0.10561564668894960\ttrain-logloss:0.24884859386128663\ttrain-auc:0.95869595645259775\ttrain-error:0.10178885661979345\n",
      "[314]\ttest-logloss:0.25594212835497310\ttest-auc:0.95548992685019185\ttest-error:0.10560820250174319\ttrain-logloss:0.24881793260086088\ttrain-auc:0.95870605568568046\ttrain-error:0.10176986400461768\n"
     ]
    },
    {
     "name": "stderr",
     "output_type": "stream",
     "text": [
      "[315]\ttest-logloss:0.25578442330890094\ttest-auc:0.95554951325259607\ttest-error:0.10551887225526614\ttrain-logloss:0.24864192362363816\ttrain-auc:0.95877011189595651\ttrain-error:0.10172444688137131\n",
      "[316]\ttest-logloss:0.25568854383535355\ttest-auc:0.95557333482160245\ttest-error:0.10546428154908573\ttrain-logloss:0.24853456027735921\ttrain-auc:0.95879666752591486\ttrain-error:0.10170049967093230\n"
     ]
    },
    {
     "name": "stderr",
     "output_type": "stream",
     "text": [
      "[317]\ttest-logloss:0.25558239800188332\ttest-auc:0.95561351088563129\ttest-error:0.10542706061305362\ttrain-logloss:0.24839952059185594\ttrain-auc:0.95884718549814740\ttrain-error:0.10163278686900133\n",
      "[318]\ttest-logloss:0.25551149450209265\ttest-auc:0.95562720975109827\ttest-error:0.10541217223864079\ttrain-logloss:0.24830156316001101\ttrain-auc:0.95887014751838739\ttrain-error:0.10159975623391305\n"
     ]
    },
    {
     "name": "stderr",
     "output_type": "stream",
     "text": [
      "[319]\ttest-logloss:0.25544367980176780\ttest-auc:0.95564527106886910\ttest-error:0.10540720944716984\ttrain-logloss:0.24821402866161277\ttrain-auc:0.95889708792073991\ttrain-error:0.10156011947180711\n",
      "[320]\ttest-logloss:0.25531632889264666\ttest-auc:0.95570084102367903\ttest-error:0.10537743269834417\ttrain-logloss:0.24806474999469696\ttrain-auc:0.95896096275937648\ttrain-error:0.10153699802724532\n"
     ]
    },
    {
     "name": "stderr",
     "output_type": "stream",
     "text": [
      "[321]\ttest-logloss:0.25526112604500134\ttest-auc:0.95571776759574845\ttest-error:0.10533028617937017\ttrain-logloss:0.24799399256421872\ttrain-auc:0.95898456050226910\ttrain-error:0.10151470234856073\n",
      "[322]\ttest-logloss:0.25517043252645555\ttest-auc:0.95573640766510637\ttest-error:0.10532284199216375\ttrain-logloss:0.24789510023495998\ttrain-auc:0.95900058542551714\ttrain-error:0.10148827784049011\n"
     ]
    },
    {
     "name": "stderr",
     "output_type": "stream",
     "text": [
      "[323]\ttest-logloss:0.25504781081909156\ttest-auc:0.95577769027428916\ttest-error:0.10528313966039618\ttrain-logloss:0.24774804629607858\ttrain-auc:0.95905011147931885\ttrain-error:0.10142964846320841\n",
      "[324]\ttest-logloss:0.25493162541009612\ttest-auc:0.95583444492301928\ttest-error:0.10521117918406746\ttrain-logloss:0.24761662384228428\ttrain-auc:0.95911215213260759\ttrain-error:0.10140652701864662\n"
     ]
    },
    {
     "name": "stderr",
     "output_type": "stream",
     "text": [
      "[325]\ttest-logloss:0.25483086711254177\ttest-auc:0.95586732183562617\ttest-error:0.10521117918406746\ttrain-logloss:0.24750488869974965\ttrain-auc:0.95914451117361710\ttrain-error:0.10137184485180392\n",
      "[326]\ttest-logloss:0.25472024143465938\ttest-auc:0.95589663195775409\ttest-error:0.10515162568641609\ttrain-logloss:0.24737974061593088\ttrain-auc:0.95917802568011101\ttrain-error:0.10132229889917151\n"
     ]
    },
    {
     "name": "stderr",
     "output_type": "stream",
     "text": [
      "[327]\ttest-logloss:0.25465630178668380\ttest-auc:0.95591658597559426\ttest-error:0.10513425591626778\ttrain-logloss:0.24729921664403537\ttrain-auc:0.95920293085978925\ttrain-error:0.10130578358162737\n",
      "[328]\ttest-logloss:0.25453452210976957\ttest-auc:0.95597307573621160\ttest-error:0.10509207218876473\ttrain-logloss:0.24715675128296608\ttrain-auc:0.95926653242720361\ttrain-error:0.10124963150197730\n"
     ]
    },
    {
     "name": "stderr",
     "output_type": "stream",
     "text": [
      "[329]\ttest-logloss:0.25446455724458189\ttest-auc:0.95599647247443631\ttest-error:0.10507222102288095\ttrain-logloss:0.24706531496766435\ttrain-auc:0.95929707298404787\ttrain-error:0.10123229041855596\n",
      "[330]\ttest-logloss:0.25442190197156472\ttest-auc:0.95600854171769312\ttest-error:0.10501763031670054\ttrain-logloss:0.24700500931700364\ttrain-auc:0.95931592520983600\ttrain-error:0.10118852482706397\n"
     ]
    },
    {
     "name": "stderr",
     "output_type": "stream",
     "text": [
      "[331]\ttest-logloss:0.25438754570400263\ttest-auc:0.95602218367716429\ttest-error:0.10499777915081675\ttrain-logloss:0.24695327953315604\ttrain-auc:0.95933781584835920\ttrain-error:0.10118026716829191\n",
      "[332]\ttest-logloss:0.25429759943848151\ttest-auc:0.95604954579413148\ttest-error:0.10498537217213938\ttrain-logloss:0.24685089294896340\ttrain-auc:0.95936738166901880\ttrain-error:0.10114723653320364\n"
     ]
    },
    {
     "name": "stderr",
     "output_type": "stream",
     "text": [
      "[333]\ttest-logloss:0.25418405298424540\ttest-auc:0.95610471626170856\ttest-error:0.10493822565316539\ttrain-logloss:0.24671754062854326\ttrain-auc:0.95943041860346601\ttrain-error:0.10109438751706239\n",
      "[334]\ttest-logloss:0.25412784682063516\ttest-auc:0.95611733531712584\ttest-error:0.10492085588301708\ttrain-logloss:0.24664277083293956\ttrain-auc:0.95944971165158377\ttrain-error:0.10107209183837780\n"
     ]
    },
    {
     "name": "stderr",
     "output_type": "stream",
     "text": [
      "[335]\ttest-logloss:0.25410781157624890\ttest-auc:0.95612105158282168\ttest-error:0.10490596750860424\ttrain-logloss:0.24661055419024919\ttrain-auc:0.95945829654494275\ttrain-error:0.10106383417960572\n",
      "[336]\ttest-logloss:0.25401309436553710\ttest-auc:0.95616666846839016\ttest-error:0.10488115355124951\ttrain-logloss:0.24650040146715943\ttrain-auc:0.95950991479736003\ttrain-error:0.10105640228671087\n"
     ]
    },
    {
     "name": "stderr",
     "output_type": "stream",
     "text": [
      "[337]\ttest-logloss:0.25395130170125579\ttest-auc:0.95617987802357018\ttest-error:0.10484641401095288\ttrain-logloss:0.24641652408885095\ttrain-auc:0.95953193107262014\ttrain-error:0.10102337165162259\n",
      "[338]\ttest-logloss:0.25380237634632857\ttest-auc:0.95624730795879631\ttest-error:0.10474219539006301\ttrain-logloss:0.24626092837303018\ttrain-auc:0.95960130456007475\ttrain-error:0.10098373488951666\n"
     ]
    },
    {
     "name": "stderr",
     "output_type": "stream",
     "text": [
      "[339]\ttest-logloss:0.25371900637472561\ttest-auc:0.95628280315062664\ttest-error:0.10472978841138564\ttrain-logloss:0.24616584167159025\ttrain-auc:0.95964157147793916\ttrain-error:0.10094079506390190\n",
      "[340]\ttest-logloss:0.25367535753304005\ttest-auc:0.95630300379395439\ttest-error:0.10470001166255996\ttrain-logloss:0.24610235913879508\ttrain-auc:0.95966909822052249\ttrain-error:0.10091024172644524\n"
     ]
    },
    {
     "name": "stderr",
     "output_type": "stream",
     "text": [
      "[341]\ttest-logloss:0.25361586310549389\ttest-auc:0.95631700138819109\ttest-error:0.10469504887108901\ttrain-logloss:0.24602186343606205\ttrain-auc:0.95968899881017256\ttrain-error:0.10088299145249741\n",
      "[342]\ttest-logloss:0.25355271444529293\ttest-auc:0.95632906308256771\ttest-error:0.10466030933079239\ttrain-logloss:0.24594273942489348\ttrain-auc:0.95970752633119349\ttrain-error:0.10085243811504074\n"
     ]
    },
    {
     "name": "stderr",
     "output_type": "stream",
     "text": [
      "[343]\ttest-logloss:0.25351101067256276\ttest-auc:0.95633953810823213\ttest-error:0.10463053258196671\ttrain-logloss:0.24588495807700939\ttrain-auc:0.95972299503189673\ttrain-error:0.10082188477758409\n",
      "[344]\ttest-logloss:0.25345026847289726\ttest-auc:0.95635587879853245\ttest-error:0.10464045816490859\ttrain-logloss:0.24581056105353230\ttrain-auc:0.95974318675281323\ttrain-error:0.10079628603539068\n"
     ]
    },
    {
     "name": "stderr",
     "output_type": "stream",
     "text": [
      "[345]\ttest-logloss:0.25338797243823108\ttest-auc:0.95637112977780481\ttest-error:0.10463549537343765\ttrain-logloss:0.24572826024074251\ttrain-auc:0.95976528299595731\ttrain-error:0.10077068729319726\n",
      "[346]\ttest-logloss:0.25335274904062138\ttest-auc:0.95638424680070777\ttest-error:0.10463301397770218\ttrain-logloss:0.24568058604729504\ttrain-auc:0.95978366095274625\ttrain-error:0.10075995233679357\n"
     ]
    },
    {
     "name": "stderr",
     "output_type": "stream",
     "text": [
      "[347]\ttest-logloss:0.25328058528444108\ttest-auc:0.95641693121071225\ttest-error:0.10463549537343765\ttrain-logloss:0.24558978855888960\ttrain-auc:0.95982577616015663\ttrain-error:0.10074839161451267\n",
      "[348]\ttest-logloss:0.25325760665580171\ttest-auc:0.95642510052758911\ttest-error:0.10463053258196671\ttrain-logloss:0.24555260772955079\ttrain-auc:0.95983787418529676\ttrain-error:0.10068976223723097\n"
     ]
    },
    {
     "name": "stderr",
     "output_type": "stream",
     "text": [
      "[349]\ttest-logloss:0.25323811722919609\ttest-auc:0.95642575145533737\ttest-error:0.10460075583314103\ttrain-logloss:0.24553089109080922\ttrain-auc:0.95983781444088512\ttrain-error:0.10068067881258171\n",
      "[350]\ttest-logloss:0.25315554879786795\ttest-auc:0.95645918746535052\ttest-error:0.10460075583314103\ttrain-logloss:0.24543232614477478\ttrain-auc:0.95987934871681058\ttrain-error:0.10063773898696694\n"
     ]
    },
    {
     "name": "stderr",
     "output_type": "stream",
     "text": [
      "[351]\ttest-logloss:0.25310788073966040\ttest-auc:0.95648307664178323\ttest-error:0.10458586745872818\ttrain-logloss:0.24536689811143181\ttrain-auc:0.95991097987510299\ttrain-error:0.10063113285994928\n",
      "[352]\ttest-logloss:0.25306400403922980\ttest-auc:0.95650065592722500\ttest-error:0.10455360931416703\ttrain-logloss:0.24529733662116870\ttrain-auc:0.95993937056322753\ttrain-error:0.10058736726845731\n"
     ]
    },
    {
     "name": "stderr",
     "output_type": "stream",
     "text": [
      "[353]\ttest-logloss:0.25300790128518896\ttest-auc:0.95651460937344301\ttest-error:0.10450894419092852\ttrain-logloss:0.24522129586357974\ttrain-auc:0.95996082284104123\ttrain-error:0.10056672312152713\n",
      "[354]\ttest-logloss:0.25297428474747558\ttest-auc:0.95652361261376118\ttest-error:0.10450646279519304\ttrain-logloss:0.24516666810213941\ttrain-auc:0.95997812793232240\ttrain-error:0.10056176852626390\n"
     ]
    },
    {
     "name": "stderr",
     "output_type": "stream",
     "text": [
      "[355]\ttest-logloss:0.25291405675380907\ttest-auc:0.95654665247344062\ttest-error:0.10443450231886431\ttrain-logloss:0.24509125926093273\ttrain-auc:0.96000567551889726\ttrain-error:0.10053616978407048\n",
      "[356]\ttest-logloss:0.25289012972171598\ttest-auc:0.95655221934773349\ttest-error:0.10442209534018695\ttrain-logloss:0.24505025915182221\ttrain-auc:0.96001902696155383\ttrain-error:0.10052213176415796\n"
     ]
    },
    {
     "name": "stderr",
     "output_type": "stream",
     "text": [
      "[357]\ttest-logloss:0.25281037383661897\ttest-auc:0.95657819604199201\ttest-error:0.10440968836150959\ttrain-logloss:0.24495428822237203\ttrain-auc:0.96004865671342532\ttrain-error:0.10050644221249103\n",
      "[358]\ttest-logloss:0.25277153455957035\ttest-auc:0.95659045087933292\ttest-error:0.10439728138283222\ttrain-logloss:0.24490154769940267\ttrain-auc:0.96006645334050600\ttrain-error:0.10046432815275347\n"
     ]
    },
    {
     "name": "stderr",
     "output_type": "stream",
     "text": [
      "[359]\ttest-logloss:0.25270249492184887\ttest-auc:0.95661313329399322\ttest-error:0.10438735579989032\ttrain-logloss:0.24480974348938325\ttrain-auc:0.96009734837613125\ttrain-error:0.10043707787880564\n",
      "[360]\ttest-logloss:0.25257860031936613\ttest-auc:0.95666249478126641\ttest-error:0.10433276509370991\ttrain-logloss:0.24467015465164760\ttrain-auc:0.96014908598235760\ttrain-error:0.10040982760485781\n"
     ]
    },
    {
     "name": "stderr",
     "output_type": "stream",
     "text": [
      "[361]\ttest-logloss:0.25253502538875533\ttest-auc:0.95667403864462763\ttest-error:0.10431787671929707\ttrain-logloss:0.24461156116049310\ttrain-auc:0.96016636821943746\ttrain-error:0.10036028165222539\n",
      "[362]\ttest-logloss:0.25249027336897051\ttest-auc:0.95669420185142051\ttest-error:0.10432780230223897\ttrain-logloss:0.24454399534645041\ttrain-auc:0.96019625779976581\ttrain-error:0.10034789516406729\n"
     ]
    },
    {
     "name": "stderr",
     "output_type": "stream",
     "text": [
      "[363]\ttest-logloss:0.25244955319231877\ttest-auc:0.95670550145370703\ttest-error:0.10429802555341329\ttrain-logloss:0.24449736530256541\ttrain-auc:0.96021015054659331\ttrain-error:0.10030495533845253\n",
      "[364]\ttest-logloss:0.25240459521106401\ttest-auc:0.95671624539437461\ttest-error:0.10430298834488423\ttrain-logloss:0.24443765804484685\ttrain-auc:0.96022503931682512\ttrain-error:0.10028431119152235\n"
     ]
    },
    {
     "name": "stderr",
     "output_type": "stream",
     "text": [
      "[365]\ttest-logloss:0.25233189471295953\ttest-auc:0.95675270892404640\ttest-error:0.10427321159605855\ttrain-logloss:0.24435067999506441\ttrain-auc:0.96026862508939470\ttrain-error:0.10023971983415318\n",
      "[366]\ttest-logloss:0.25228159053727911\ttest-auc:0.95677316819964486\ttest-error:0.10425087903443929\ttrain-logloss:0.24428106777811126\ttrain-auc:0.96029741593742701\ttrain-error:0.10020999226257372\n"
     ]
    },
    {
     "name": "stderr",
     "output_type": "stream",
     "text": [
      "[367]\ttest-logloss:0.25217594779489172\ttest-auc:0.95681528872221533\ttest-error:0.10416403018369773\ttrain-logloss:0.24416256403678674\ttrain-auc:0.96034126184121227\ttrain-error:0.10014310522651997\n",
      "[368]\ttest-logloss:0.25215628805197576\ttest-auc:0.95681844388321713\ttest-error:0.10412680924766562\ttrain-logloss:0.24412757852693928\ttrain-auc:0.96035000291722050\ttrain-error:0.10011255188906330\n"
     ]
    },
    {
     "name": "stderr",
     "output_type": "stream",
     "text": [
      "[369]\ttest-logloss:0.25210674091420132\ttest-auc:0.95683473075849879\ttest-error:0.10413673483060752\ttrain-logloss:0.24406220994320352\ttrain-auc:0.96037288755939199\ttrain-error:0.10009851386915079\n",
      "[370]\ttest-logloss:0.25203254360870864\ttest-auc:0.95686026679765090\ttest-error:0.10409951389457542\ttrain-logloss:0.24396573449189071\ttrain-auc:0.96040769905885526\ttrain-error:0.10006796053169413\n"
     ]
    },
    {
     "name": "stderr",
     "output_type": "stream",
     "text": [
      "[371]\ttest-logloss:0.25198275888678556\ttest-auc:0.95687706574069198\ttest-error:0.10412184645619468\ttrain-logloss:0.24389612365635432\ttrain-auc:0.96043154214551263\ttrain-error:0.10004318755537793\n",
      "[372]\ttest-logloss:0.25189562030239859\ttest-auc:0.95691794949068909\ttest-error:0.10410447668604637\ttrain-logloss:0.24379337640667983\ttrain-auc:0.96047864031069530\ttrain-error:0.10001676304730731\n"
     ]
    },
    {
     "name": "stderr",
     "output_type": "stream",
     "text": [
      "[373]\ttest-logloss:0.25183528741887612\ttest-auc:0.95693816323680392\ttest-error:0.10410447668604637\ttrain-logloss:0.24371672964275229\ttrain-auc:0.96050453622231702\ttrain-error:0.09998455817809623\n",
      "[374]\ttest-logloss:0.25179492214010479\ttest-auc:0.95695410570828032\ttest-error:0.10407966272869164\ttrain-logloss:0.24366963037360792\ttrain-auc:0.96052158707390578\ttrain-error:0.09997134592406091\n"
     ]
    },
    {
     "name": "stderr",
     "output_type": "stream",
     "text": [
      "[375]\ttest-logloss:0.25172847477039251\ttest-auc:0.95697160118021707\ttest-error:0.10403996039692406\ttrain-logloss:0.24358561569380582\ttrain-auc:0.96054400934468231\ttrain-error:0.09994987601125353\n",
      "[376]\ttest-logloss:0.25164064577287470\ttest-auc:0.95700043293978143\ttest-error:0.10404244179265953\ttrain-logloss:0.24348388526896991\ttrain-auc:0.96057664795757103\ttrain-error:0.09991601961028805\n"
     ]
    },
    {
     "name": "stderr",
     "output_type": "stream",
     "text": [
      "[377]\ttest-logloss:0.25156937195989454\ttest-auc:0.95702135559101476\ttest-error:0.10400273946089196\ttrain-logloss:0.24339620145484861\ttrain-auc:0.96060265551765289\ttrain-error:0.09990115582449832\n",
      "[378]\ttest-logloss:0.25153020661996445\ttest-auc:0.95703539118826020\ttest-error:0.10396055573338892\ttrain-logloss:0.24334321978190662\ttrain-auc:0.96062085227327465\ttrain-error:0.09985656446712915\n"
     ]
    },
    {
     "name": "stderr",
     "output_type": "stream",
     "text": [
      "[379]\ttest-logloss:0.25151196497502321\ttest-auc:0.95704111786976087\ttest-error:0.10396551852485986\ttrain-logloss:0.24331963404077986\ttrain-auc:0.96062787386180404\ttrain-error:0.09985078410598870\n",
      "[380]\ttest-logloss:0.25144609329927159\ttest-auc:0.95705205978073526\ttest-error:0.10386874409117640\ttrain-logloss:0.24323506890171867\ttrain-auc:0.96064266865814607\ttrain-error:0.09982270806616367\n"
     ]
    },
    {
     "name": "stderr",
     "output_type": "stream",
     "text": [
      "[381]\ttest-logloss:0.25141741319188582\ttest-auc:0.95706791353747600\ttest-error:0.10387618827838282\ttrain-logloss:0.24319624269801313\ttrain-auc:0.96066375831951212\ttrain-error:0.09982435959791808\n",
      "[382]\ttest-logloss:0.25138078441420469\ttest-auc:0.95707840975665226\ttest-error:0.10387370688264735\ttrain-logloss:0.24314580478152950\ttrain-auc:0.96067947331589754\ttrain-error:0.09981279887563718\n"
     ]
    },
    {
     "name": "stderr",
     "output_type": "stream",
     "text": [
      "[383]\ttest-logloss:0.25134233219402513\ttest-auc:0.95709408225406567\ttest-error:0.10386874409117640\ttrain-logloss:0.24308200372723388\ttrain-auc:0.96070890411702370\ttrain-error:0.09981362464151439\n",
      "[384]\ttest-logloss:0.25130240875059667\ttest-auc:0.95710854143831314\ttest-error:0.10384393013382168\ttrain-logloss:0.24302211895488360\ttrain-auc:0.96073050341971367\ttrain-error:0.09978472283581215\n"
     ]
    },
    {
     "name": "stderr",
     "output_type": "stream",
     "text": [
      "[385]\ttest-logloss:0.25125902719793680\ttest-auc:0.95712207399443727\ttest-error:0.10383896734235072\ttrain-logloss:0.24295938461822003\ttrain-auc:0.96075024156424327\ttrain-error:0.09972857075616207\n",
      "[386]\ttest-logloss:0.25121645436467410\ttest-auc:0.95713240423676638\ttest-error:0.10386129990396999\ttrain-logloss:0.24289203845883856\ttrain-auc:0.96077133147518090\ttrain-error:0.09972361616089882\n"
     ]
    },
    {
     "name": "stderr",
     "output_type": "stream",
     "text": [
      "[387]\ttest-logloss:0.25115011078024296\ttest-auc:0.95715915587960920\ttest-error:0.10385137432102809\ttrain-logloss:0.24281133432977450\ttrain-auc:0.96080498668270986\ttrain-error:0.09970132048221424\n",
      "[388]\ttest-logloss:0.25109040347341050\ttest-auc:0.95717879102191294\ttest-error:0.10383896734235072\ttrain-logloss:0.24273089024718869\ttrain-auc:0.96083198044017148\ttrain-error:0.09965177452958182\n"
     ]
    },
    {
     "name": "stderr",
     "output_type": "stream",
     "text": [
      "[389]\ttest-logloss:0.25100239047650985\ttest-auc:0.95722039517891133\ttest-error:0.10382904175940884\ttrain-logloss:0.24264051131668873\ttrain-auc:0.96087138939948269\ttrain-error:0.09960057704519500\n",
      "[390]\ttest-logloss:0.25094826984235674\ttest-auc:0.95723874124832475\ttest-error:0.10380174640631863\ttrain-logloss:0.24257154444198450\ttrain-auc:0.96089431206925580\ttrain-error:0.09955681145370303\n"
     ]
    },
    {
     "name": "stderr",
     "output_type": "stream",
     "text": [
      "[391]\ttest-logloss:0.25087139875760506\ttest-auc:0.95725887088538286\ttest-error:0.10379182082337673\ttrain-logloss:0.24247873176590917\ttrain-auc:0.96091645083365196\ttrain-error:0.09954690226317654\n",
      "[392]\ttest-logloss:0.25082875134200905\ttest-auc:0.95726934408847908\ttest-error:0.10369504638969328\ttrain-logloss:0.24243120229500656\ttrain-auc:0.96092853029776570\ttrain-error:0.09950561396931619\n"
     ]
    },
    {
     "name": "stderr",
     "output_type": "stream",
     "text": [
      "[393]\ttest-logloss:0.25079840191044250\ttest-auc:0.95727868334632604\ttest-error:0.10369008359822232\ttrain-logloss:0.24238973053666249\ttrain-auc:0.96094162163102703\ttrain-error:0.09948249252475440\n",
      "[394]\ttest-logloss:0.25078349035240177\ttest-auc:0.95728271449761204\ttest-error:0.10369256499395781\ttrain-logloss:0.24236873507891926\ttrain-auc:0.96094853370813726\ttrain-error:0.09947423486598232\n"
     ]
    },
    {
     "name": "stderr",
     "output_type": "stream",
     "text": [
      "[395]\ttest-logloss:0.25071669860022755\ttest-auc:0.95730428350785857\ttest-error:0.10361564172615813\ttrain-logloss:0.24228219593969116\ttrain-auc:0.96097952844824996\ttrain-error:0.09944368152852567\n",
      "[396]\ttest-logloss:0.25070136619484185\ttest-auc:0.95730905815611378\ttest-error:0.10359330916453886\ttrain-logloss:0.24224899290466656\ttrain-auc:0.96099091720488672\ttrain-error:0.09941065089343740\n"
     ]
    },
    {
     "name": "stderr",
     "output_type": "stream",
     "text": [
      "[397]\ttest-logloss:0.25066415001056885\ttest-auc:0.95732106320310228\ttest-error:0.10357842079012602\ttrain-logloss:0.24219803727070710\ttrain-auc:0.96100787472901672\ttrain-error:0.09937349142896308\n",
      "[398]\ttest-logloss:0.25060880195021651\ttest-auc:0.95734091684423372\ttest-error:0.10356105101997772\ttrain-logloss:0.24212789874438670\ttrain-auc:0.96103188138182050\ttrain-error:0.09935284728203291\n"
     ]
    },
    {
     "name": "stderr",
     "output_type": "stream",
     "text": [
      "[399]\ttest-logloss:0.25060434282836780\ttest-auc:0.95734131474287676\ttest-error:0.10356849520718414\ttrain-logloss:0.24211304588190896\ttrain-auc:0.96103498647650876\ttrain-error:0.09934293809150642\n",
      "[400]\ttest-logloss:0.25053249485894724\ttest-auc:0.95736650031941617\ttest-error:0.10355112543703582\ttrain-logloss:0.24202081410401735\ttrain-auc:0.96106741148485153\ttrain-error:0.09931486205168139\n"
     ]
    },
    {
     "name": "stderr",
     "output_type": "stream",
     "text": [
      "[401]\ttest-logloss:0.25050565393277430\ttest-auc:0.95737542729510927\ttest-error:0.10353871845835846\ttrain-logloss:0.24197643111738118\ttrain-auc:0.96108262083987550\ttrain-error:0.09927770258720707\n",
      "[402]\ttest-logloss:0.25043450362342035\ttest-auc:0.95739635982269167\ttest-error:0.10347668356497162\ttrain-logloss:0.24188606325078094\ttrain-auc:0.96111056016229812\ttrain-error:0.09922980816632906\n"
     ]
    },
    {
     "name": "stderr",
     "output_type": "stream",
     "text": [
      "[403]\ttest-logloss:0.25038775262518281\ttest-auc:0.95741427826589798\ttest-error:0.10346675798202973\ttrain-logloss:0.24181655032538371\ttrain-auc:0.96113617329988843\ttrain-error:0.09921907320992537\n",
      "[404]\ttest-logloss:0.25032633760387929\ttest-auc:0.95743899779452346\ttest-error:0.10342457425452668\ttrain-logloss:0.24173246793266251\ttrain-auc:0.96116768435292987\ttrain-error:0.09918604257483710\n"
     ]
    },
    {
     "name": "stderr",
     "output_type": "stream",
     "text": [
      "[405]\ttest-logloss:0.25024241434302491\ttest-auc:0.95748005264426206\ttest-error:0.10341216727584931\ttrain-logloss:0.24163089089280559\ttrain-auc:0.96121643990866179\ttrain-error:0.09914062545159072\n",
      "[406]\ttest-logloss:0.25019975056197652\ttest-auc:0.95749070461912644\ttest-error:0.10339976029717195\ttrain-logloss:0.24157080851724075\ttrain-auc:0.96123342445606408\ttrain-error:0.09912245860229216\n"
     ]
    },
    {
     "name": "stderr",
     "output_type": "stream",
     "text": [
      "[407]\ttest-logloss:0.25018132537423377\ttest-auc:0.95749639252179553\ttest-error:0.10339231610996553\ttrain-logloss:0.24154187580008377\ttrain-auc:0.96124198293575969\ttrain-error:0.09909190526483551\n",
      "[408]\ttest-logloss:0.25016305863219385\ttest-auc:0.95750137143314351\ttest-error:0.10335757656966890\ttrain-logloss:0.24150709517614655\ttrain-auc:0.96125258990087625\ttrain-error:0.09907126111790533\n"
     ]
    },
    {
     "name": "stderr",
     "output_type": "stream",
     "text": [
      "[409]\ttest-logloss:0.25007831463674457\ttest-auc:0.95753084564797719\ttest-error:0.10331787423790134\ttrain-logloss:0.24140679456727004\ttrain-auc:0.96128435630099818\ttrain-error:0.09904731390746632\n",
      "[410]\ttest-logloss:0.25005033110401664\ttest-auc:0.95754110336933485\ttest-error:0.10331787423790134\ttrain-logloss:0.24136780856072354\ttrain-auc:0.96130017356577468\ttrain-error:0.09904401084395750\n"
     ]
    },
    {
     "name": "stderr",
     "output_type": "stream",
     "text": [
      "[411]\ttest-logloss:0.25003891899857134\ttest-auc:0.95754446872909049\ttest-error:0.10332531842510775\ttrain-logloss:0.24134401451731743\ttrain-auc:0.96130932474090913\ttrain-error:0.09902419246290453\n",
      "[412]\ttest-logloss:0.25001105219307840\ttest-auc:0.95755143396878872\ttest-error:0.10331291144643039\ttrain-logloss:0.24130448270637425\ttrain-auc:0.96131954138032505\ttrain-error:0.09902419246290453\n"
     ]
    },
    {
     "name": "stderr",
     "output_type": "stream",
     "text": [
      "[413]\ttest-logloss:0.24989900524291139\ttest-auc:0.95759357852955529\ttest-error:0.10324343236583713\ttrain-logloss:0.24116389080620071\ttrain-auc:0.96136765992736106\ttrain-error:0.09898042687141256\n",
      "[414]\ttest-logloss:0.24983223719440079\ttest-auc:0.95762086689408599\ttest-error:0.10320869282554052\ttrain-logloss:0.24107512663807759\ttrain-auc:0.96140238060189920\ttrain-error:0.09893088091878015\n"
     ]
    },
    {
     "name": "stderr",
     "output_type": "stream",
     "text": [
      "[415]\ttest-logloss:0.24979221535918825\ttest-auc:0.95763538890767574\ttest-error:0.10319132305539219\ttrain-logloss:0.24101365093610369\ttrain-auc:0.96142476490508033\ttrain-error:0.09890528217658673\n",
      "[416]\ttest-logloss:0.24973616291152034\ttest-auc:0.95765757078108871\ttest-error:0.10320124863833409\ttrain-logloss:0.24093709613224407\ttrain-auc:0.96145222963119692\ttrain-error:0.09888959262491979\n"
     ]
    },
    {
     "name": "stderr",
     "output_type": "stream",
     "text": [
      "[417]\ttest-logloss:0.24966994218472333\ttest-auc:0.95768439424296792\ttest-error:0.10316899049377294\ttrain-logloss:0.24085401223769512\ttrain-auc:0.96148490424511235\ttrain-error:0.09885656198983152\n",
      "[418]\ttest-logloss:0.24966251941760090\ttest-auc:0.95768590513964125\ttest-error:0.10316154630656652\ttrain-logloss:0.24083221639017824\ttrain-auc:0.96149226285469325\ttrain-error:0.09884582703342783\n"
     ]
    },
    {
     "name": "stderr",
     "output_type": "stream",
     "text": [
      "[419]\ttest-logloss:0.24962529225286600\ttest-auc:0.95769927556108891\ttest-error:0.10313921374494726\ttrain-logloss:0.24077504465577906\ttrain-auc:0.96151388047020192\ttrain-error:0.09883178901351530\n",
      "[420]\ttest-logloss:0.24958816262633726\ttest-auc:0.95770334364400900\ttest-error:0.10310695560038610\ttrain-logloss:0.24072581531020046\ttrain-auc:0.96152074324262560\ttrain-error:0.09882270558886604\n"
     ]
    },
    {
     "name": "stderr",
     "output_type": "stream",
     "text": [
      "[421]\ttest-logloss:0.24952711581652298\ttest-auc:0.95773392902199017\ttest-error:0.10307221606008948\ttrain-logloss:0.24064980239089392\ttrain-auc:0.96155798672340742\ttrain-error:0.09879132648553217\n",
      "[422]\ttest-logloss:0.24945533556701346\ttest-auc:0.95775753189513446\ttest-error:0.10305236489420569\ttrain-logloss:0.24055547417002296\ttrain-auc:0.96159061557300540\ttrain-error:0.09877398540211083\n"
     ]
    },
    {
     "name": "stderr",
     "output_type": "stream",
     "text": [
      "[423]\ttest-logloss:0.24938501587916931\ttest-auc:0.95777537891337305\ttest-error:0.10305236489420569\ttrain-logloss:0.24046680311374294\ttrain-auc:0.96161459625401013\ttrain-error:0.09874095476702255\n",
      "[424]\ttest-logloss:0.24937570015869406\ttest-auc:0.95777695779922689\ttest-error:0.10303747651979285\ttrain-logloss:0.24044471563256431\ttrain-auc:0.96162107075185621\ttrain-error:0.09872691674711002\n"
     ]
    },
    {
     "name": "stderr",
     "output_type": "stream",
     "text": [
      "[425]\ttest-logloss:0.24936858224791694\ttest-auc:0.95777796465729226\ttest-error:0.10304988349847022\ttrain-logloss:0.24041822406879121\ttrain-auc:0.96162772486070358\ttrain-error:0.09867737079447761\n",
      "[426]\ttest-logloss:0.24929312741530349\ttest-auc:0.95780465324912922\ttest-error:0.10299777418802528\ttrain-logloss:0.24032370337981351\ttrain-auc:0.96166034815699519\ttrain-error:0.09863855979824888\n"
     ]
    },
    {
     "name": "stderr",
     "output_type": "stream",
     "text": [
      "[427]\ttest-logloss:0.24924429720930000\ttest-auc:0.95782007990919282\ttest-error:0.10297792302214150\ttrain-logloss:0.24025660272270799\ttrain-auc:0.96168272331194971\ttrain-error:0.09858075618684439\n",
      "[428]\ttest-logloss:0.24920100431322467\ttest-auc:0.95783728819118630\ttest-error:0.10295310906478676\ttrain-logloss:0.24019380636782045\ttrain-auc:0.96170736990420957\ttrain-error:0.09854772555175612\n"
     ]
    },
    {
     "name": "stderr",
     "output_type": "stream",
     "text": [
      "[429]\ttest-logloss:0.24915086271918832\ttest-auc:0.95785039124927651\ttest-error:0.10295807185625770\ttrain-logloss:0.24012779434890752\ttrain-auc:0.96172353259227727\ttrain-error:0.09851469491666784\n",
      "[430]\ttest-logloss:0.24908340474975968\ttest-auc:0.95787360800889743\ttest-error:0.10295310906478676\ttrain-logloss:0.24004317339218909\ttrain-auc:0.96175126052902160\ttrain-error:0.09849652806736928\n"
     ]
    },
    {
     "name": "stderr",
     "output_type": "stream",
     "text": [
      "[431]\ttest-logloss:0.24904641013047746\ttest-auc:0.95788584874596450\ttest-error:0.10293325789890298\ttrain-logloss:0.23998316372767992\ttrain-auc:0.96177284029012855\ttrain-error:0.09845771707114055\n",
      "[432]\ttest-logloss:0.24901979470555097\ttest-auc:0.95789184192879706\ttest-error:0.10292085092022561\ttrain-logloss:0.23994089770091134\ttrain-auc:0.96178454975156991\ttrain-error:0.09844698211473686\n"
     ]
    },
    {
     "name": "stderr",
     "output_type": "stream",
     "text": [
      "[433]\ttest-logloss:0.24892345038441185\ttest-auc:0.95792877055815473\ttest-error:0.10285137183963236\ttrain-logloss:0.23983719449550239\ttrain-auc:0.96182256451868564\ttrain-error:0.09839991345973607\n",
      "[434]\ttest-logloss:0.24890489247992204\ttest-auc:0.95793022677778394\ttest-error:0.10285385323536783\ttrain-logloss:0.23980318183770449\ttrain-auc:0.96182944995574526\ttrain-error:0.09837514048341986\n"
     ]
    },
    {
     "name": "stderr",
     "output_type": "stream",
     "text": [
      "[435]\ttest-logloss:0.24887459827529834\ttest-auc:0.95794105248772476\ttest-error:0.10285137183963236\ttrain-logloss:0.23974667817827527\ttrain-auc:0.96185158338503973\ttrain-error:0.09834789020947203\n",
      "[436]\ttest-logloss:0.24883288770813300\ttest-auc:0.95795662735459619\ttest-error:0.10281663229933573\ttrain-logloss:0.23968918727881197\ttrain-auc:0.96187307243850639\ttrain-error:0.09830742768148888\n"
     ]
    },
    {
     "name": "stderr",
     "output_type": "stream",
     "text": [
      "[437]\ttest-logloss:0.24881920403357896\ttest-auc:0.95795970114039342\ttest-error:0.10283400206948404\ttrain-logloss:0.23966348162558515\ttrain-auc:0.96187962397483995\ttrain-error:0.09830825344736610\n",
      "[438]\ttest-logloss:0.24877201653831973\ttest-auc:0.95797340909407169\ttest-error:0.10279429973771648\ttrain-logloss:0.23959274777810843\ttrain-auc:0.96190410072484434\ttrain-error:0.09828678353455872\n"
     ]
    },
    {
     "name": "stderr",
     "output_type": "stream",
     "text": [
      "[439]\ttest-logloss:0.24865636372654820\ttest-auc:0.95802489774002786\ttest-error:0.10279181834198099\ttrain-logloss:0.23945432061521196\ttrain-auc:0.96196336956637907\ttrain-error:0.09822154803025937\n",
      "[440]\ttest-logloss:0.24860422596434559\ttest-auc:0.95804873748545694\ttest-error:0.10273474624006511\ttrain-logloss:0.23938845121940938\ttrain-auc:0.96199167004055119\ttrain-error:0.09819182045867991\n"
     ]
    },
    {
     "name": "stderr",
     "output_type": "stream",
     "text": [
      "[441]\ttest-logloss:0.24857749499730711\ttest-auc:0.95805919419923735\ttest-error:0.10272730205285870\ttrain-logloss:0.23935562492792301\ttrain-auc:0.96200321244320919\ttrain-error:0.09818273703403063\n",
      "[442]\ttest-logloss:0.24855029250477798\ttest-auc:0.95806480779531089\ttest-error:0.10273970903153606\ttrain-logloss:0.23931772612420554\ttrain-auc:0.96201262994247771\ttrain-error:0.09816869901411812\n"
     ]
    },
    {
     "name": "stderr",
     "output_type": "stream",
     "text": [
      "[443]\ttest-logloss:0.24853981797805116\ttest-auc:0.95806902575983122\ttest-error:0.10272482065712323\ttrain-logloss:0.23928996647008294\ttrain-auc:0.96202555974025883\ttrain-error:0.09815713829183723\n",
      "[444]\ttest-logloss:0.24849484917487924\ttest-auc:0.95808485920971476\ttest-error:0.10272730205285870\ttrain-logloss:0.23922768851542472\ttrain-auc:0.96204769172122040\ttrain-error:0.09811419846622246\n"
     ]
    },
    {
     "name": "stderr",
     "output_type": "stream",
     "text": [
      "[445]\ttest-logloss:0.24846604953626841\ttest-auc:0.95809847604730070\ttest-error:0.10272482065712323\ttrain-logloss:0.23917815742398199\ttrain-auc:0.96206889608727442\ttrain-error:0.09807869053350256\n",
      "[446]\ttest-logloss:0.24840448667772844\ttest-auc:0.95811878896328873\ttest-error:0.10267022995094281\ttrain-logloss:0.23910090698309205\ttrain-auc:0.96209544609437370\ttrain-error:0.09805144025955473\n"
     ]
    },
    {
     "name": "stderr",
     "output_type": "stream",
     "text": [
      "[447]\ttest-logloss:0.24837198882494649\ttest-auc:0.95812509767207310\ttest-error:0.10263300901491071\ttrain-logloss:0.23906004072041875\ttrain-auc:0.96210288704617708\ttrain-error:0.09802914458087014\n",
      "[448]\ttest-logloss:0.24833618189284368\ttest-auc:0.95813416225166093\ttest-error:0.10260075087034956\ttrain-logloss:0.23900767731661177\ttrain-auc:0.96211776452295861\ttrain-error:0.09799198511639583\n"
     ]
    },
    {
     "name": "stderr",
     "output_type": "stream",
     "text": [
      "[449]\ttest-logloss:0.24831166299968016\ttest-auc:0.95813969000231203\ttest-error:0.10260323226608503\ttrain-logloss:0.23897391428646805\ttrain-auc:0.96212701349601792\ttrain-error:0.09798290169174655\n",
      "[450]\ttest-logloss:0.24826423776140844\ttest-auc:0.95815764809869008\ttest-error:0.10259082528740766\ttrain-logloss:0.23890344305653782\ttrain-auc:0.96215636438517504\ttrain-error:0.09796473484244800\n"
     ]
    },
    {
     "name": "stderr",
     "output_type": "stream",
     "text": [
      "[451]\ttest-logloss:0.24822295448793866\ttest-auc:0.95817457177681686\ttest-error:0.10256601133005293\ttrain-logloss:0.23885359968738623\ttrain-auc:0.96217591148478376\ttrain-error:0.09793005267560531\n",
      "[452]\ttest-logloss:0.24818782491706076\ttest-auc:0.95818225285478131\ttest-error:0.10255112295564009\ttrain-logloss:0.23880122064360615\ttrain-auc:0.96218866457368424\ttrain-error:0.09793170420735972\n"
     ]
    },
    {
     "name": "stderr",
     "output_type": "stream",
     "text": [
      "[453]\ttest-logloss:0.24812236543905022\ttest-auc:0.95820505616235674\ttest-error:0.10254616016416915\ttrain-logloss:0.23872137994398229\ttrain-auc:0.96221589998043433\ttrain-error:0.09789949933814865\n",
      "[454]\ttest-logloss:0.24809595560917755\ttest-auc:0.95821001753764368\ttest-error:0.10251638341534346\ttrain-logloss:0.23867551233307191\ttrain-auc:0.96222860015199874\ttrain-error:0.09787968095709568\n"
     ]
    },
    {
     "name": "stderr",
     "output_type": "stream",
     "text": [
      "[455]\ttest-logloss:0.24801139965188487\ttest-auc:0.95824099098717752\ttest-error:0.10249405085372421\ttrain-logloss:0.23858057694437274\ttrain-auc:0.96225971838771607\ttrain-error:0.09784004419498975\n",
      "[456]\ttest-logloss:0.24797430516143099\ttest-auc:0.95825318215777999\ttest-error:0.10247668108357590\ttrain-logloss:0.23852493767349797\ttrain-auc:0.96227868287157325\ttrain-error:0.09781692275042796\n"
     ]
    },
    {
     "name": "stderr",
     "output_type": "stream",
     "text": [
      "[457]\ttest-logloss:0.24790008683205930\ttest-auc:0.95828480041468123\ttest-error:0.10244690433475021\ttrain-logloss:0.23842518353868342\ttrain-auc:0.96231952547719402\ttrain-error:0.09778224058358526\n",
      "[458]\ttest-logloss:0.24785852995074192\ttest-auc:0.95829243372411999\ttest-error:0.10244442293901473\ttrain-logloss:0.23836446095515304\ttrain-auc:0.96233247762457830\ttrain-error:0.09776324796840950\n"
     ]
    },
    {
     "name": "stderr",
     "output_type": "stream",
     "text": [
      "[459]\ttest-logloss:0.24782838870422547\ttest-auc:0.95830917065058563\ttest-error:0.10241712758592453\ttrain-logloss:0.23830959653515343\ttrain-auc:0.96235930557656890\ttrain-error:0.09774260382147933\n",
      "[460]\ttest-logloss:0.24778052149898333\ttest-auc:0.95832247119871139\ttest-error:0.10239231362856979\ttrain-logloss:0.23824702442146070\ttrain-auc:0.96237891799844355\ttrain-error:0.09771783084516311\n"
     ]
    },
    {
     "name": "stderr",
     "output_type": "stream",
     "text": [
      "[461]\ttest-logloss:0.24774666538097970\ttest-auc:0.95833125633427063\ttest-error:0.10239231362856979\ttrain-logloss:0.23819843854625983\ttrain-auc:0.96239222038052985\ttrain-error:0.09768067138068881\n",
      "[462]\ttest-logloss:0.24772821572052997\ttest-auc:0.95833837035956526\ttest-error:0.10240720200298263\ttrain-logloss:0.23816488515791631\ttrain-auc:0.96240585153962610\ttrain-error:0.09767901984893439\n"
     ]
    },
    {
     "name": "stderr",
     "output_type": "stream",
     "text": [
      "[463]\ttest-logloss:0.24767761051942305\ttest-auc:0.95835326904134210\ttest-error:0.10243946014754379\ttrain-logloss:0.23809829975286223\ttrain-auc:0.96242737154131985\ttrain-error:0.09765589840437260\n",
      "[464]\ttest-logloss:0.24765044910315198\ttest-auc:0.95836450560493736\ttest-error:0.10244938573048569\ttrain-logloss:0.23805477711126555\ttrain-auc:0.96244476390897427\ttrain-error:0.09764433768209170\n"
     ]
    },
    {
     "name": "stderr",
     "output_type": "stream",
     "text": [
      "[465]\ttest-logloss:0.24762485800973069\ttest-auc:0.95837427395443475\ttest-error:0.10244442293901473\ttrain-logloss:0.23801500790225211\ttrain-auc:0.96246278164411070\ttrain-error:0.09764020885270566\n",
      "[466]\ttest-logloss:0.24759878012885614\ttest-auc:0.95838488015574652\ttest-error:0.10243449735607284\ttrain-logloss:0.23797150014119389\ttrain-auc:0.96248265391080756\ttrain-error:0.09762451930103873\n"
     ]
    },
    {
     "name": "stderr",
     "output_type": "stream",
     "text": [
      "[467]\ttest-logloss:0.24756875309262047\ttest-auc:0.95839638466148769\ttest-error:0.10247668108357590\ttrain-logloss:0.23792345361737807\ttrain-auc:0.96250096784910288\ttrain-error:0.09759644326121369\n",
      "[468]\ttest-logloss:0.24755078389156515\ttest-auc:0.95840130496741827\ttest-error:0.10248164387504684\ttrain-logloss:0.23789909751469859\ttrain-auc:0.96250662042351676\ttrain-error:0.09758653407068721\n"
     ]
    },
    {
     "name": "stderr",
     "output_type": "stream",
     "text": [
      "[469]\ttest-logloss:0.24753001938747216\ttest-auc:0.95840801975177303\ttest-error:0.10248660666651778\ttrain-logloss:0.23785588322382553\ttrain-auc:0.96252218543971768\ttrain-error:0.09757662488016072\n",
      "[470]\ttest-logloss:0.24744280544234024\ttest-auc:0.95844406454641484\ttest-error:0.10238983223283432\ttrain-logloss:0.23775191809614288\ttrain-auc:0.96256167770680656\ttrain-error:0.09752790469340551\n"
     ]
    },
    {
     "name": "stderr",
     "output_type": "stream",
     "text": [
      "[471]\ttest-logloss:0.24737791000817244\ttest-auc:0.95847007171943110\ttest-error:0.10234764850533128\ttrain-logloss:0.23766955116010641\ttrain-auc:0.96259246845973978\ttrain-error:0.09749652559007164\n",
      "[472]\ttest-logloss:0.24732013358754928\ttest-auc:0.95849130926856929\ttest-error:0.10232035315224107\ttrain-logloss:0.23759557615401000\ttrain-auc:0.96262009164192452\ttrain-error:0.09747175261375544\n"
     ]
    },
    {
     "name": "stderr",
     "output_type": "stream",
     "text": [
      "[473]\ttest-logloss:0.24723558451260744\ttest-auc:0.95852533081554125\ttest-error:0.10231042756929917\ttrain-logloss:0.23749938839829321\ttrain-auc:0.96265714939243052\ttrain-error:0.09741312323647375\n",
      "[474]\ttest-logloss:0.24723366693014409\ttest-auc:0.95852582726832503\ttest-error:0.10229802059062182\ttrain-logloss:0.23748234767038745\ttrain-auc:0.96266216923223058\ttrain-error:0.09738091836726268\n"
     ]
    },
    {
     "name": "stderr",
     "output_type": "stream",
     "text": [
      "[475]\ttest-logloss:0.24721507156267064\ttest-auc:0.95853043042276997\ttest-error:0.10228065082047350\ttrain-logloss:0.23745453574608807\ttrain-auc:0.96266903452764463\ttrain-error:0.09737183494261339\n",
      "[476]\ttest-logloss:0.24720171252549580\ttest-auc:0.95853334664262568\ttest-error:0.10227320663326708\ttrain-logloss:0.23742724736575962\ttrain-auc:0.96267709319204087\ttrain-error:0.09736770611322737\n"
     ]
    },
    {
     "name": "stderr",
     "output_type": "stream",
     "text": [
      "[477]\ttest-logloss:0.24718904774296230\ttest-auc:0.95853783976567652\ttest-error:0.10227320663326708\ttrain-logloss:0.23740229006281513\ttrain-auc:0.96268740592874991\ttrain-error:0.09735697115682368\n",
      "[478]\ttest-logloss:0.24714432695474164\ttest-auc:0.95855216049631864\ttest-error:0.10223102290576404\ttrain-logloss:0.23733709034209713\ttrain-auc:0.96271044677675499\ttrain-error:0.09733219818050746\n"
     ]
    },
    {
     "name": "stderr",
     "output_type": "stream",
     "text": [
      "[479]\ttest-logloss:0.24709515201170015\ttest-auc:0.95857371833717808\ttest-error:0.10220124615693836\ttrain-logloss:0.23726993608522776\ttrain-auc:0.96273957244879149\ttrain-error:0.09732146322410377\n",
      "[480]\ttest-logloss:0.24704490375822441\ttest-auc:0.95859024834058659\ttest-error:0.10220869034414477\ttrain-logloss:0.23719981269933541\ttrain-auc:0.96276233639928710\ttrain-error:0.09732641781936702\n"
     ]
    },
    {
     "name": "stderr",
     "output_type": "stream",
     "text": [
      "[481]\ttest-logloss:0.24701137698718684\ttest-auc:0.95859811602243639\ttest-error:0.10218883917826099\ttrain-logloss:0.23714330454718477\ttrain-auc:0.96277780603008734\ttrain-error:0.09730577367243684\n",
      "[482]\ttest-logloss:0.24691865068263852\ttest-auc:0.95863010620638467\ttest-error:0.10213424847208058\ttrain-logloss:0.23703967658963823\ttrain-auc:0.96281137382213766\ttrain-error:0.09728595529138388\n"
     ]
    },
    {
     "name": "stderr",
     "output_type": "stream",
     "text": [
      "[483]\ttest-logloss:0.24687586578774856\ttest-auc:0.95864946514341254\ttest-error:0.10212680428487415\ttrain-logloss:0.23698406161500168\ttrain-auc:0.96283391966761789\ttrain-error:0.09727109150559415\n",
      "[484]\ttest-logloss:0.24686346083815500\ttest-auc:0.95864836830220257\ttest-error:0.10212680428487415\ttrain-logloss:0.23695371306479543\ttrain-auc:0.96283927732627994\ttrain-error:0.09724549276340073\n"
     ]
    },
    {
     "name": "stderr",
     "output_type": "stream",
     "text": [
      "[485]\ttest-logloss:0.24680673472168069\ttest-auc:0.95866465559618219\ttest-error:0.10211439730619679\ttrain-logloss:0.23687899568495158\ttrain-auc:0.96286227453337070\ttrain-error:0.09722484861647056\n",
      "[486]\ttest-logloss:0.24679065272594836\ttest-auc:0.95866804120122184\ttest-error:0.10212680428487415\ttrain-logloss:0.23684313529951007\ttrain-auc:0.96287481961876376\ttrain-error:0.09721576519182129\n"
     ]
    },
    {
     "name": "stderr",
     "output_type": "stream",
     "text": [
      "[487]\ttest-logloss:0.24670110640933585\ttest-auc:0.95870277984255436\ttest-error:0.10207469497442921\ttrain-logloss:0.23673828655935503\ttrain-auc:0.96291465292459577\ttrain-error:0.09713896896524103\n",
      "[488]\ttest-logloss:0.24668524808585007\ttest-auc:0.95870847472762988\ttest-error:0.10207717637016470\ttrain-logloss:0.23670965772307093\ttrain-auc:0.96292462899074449\ttrain-error:0.09711667328655645\n"
     ]
    },
    {
     "name": "stderr",
     "output_type": "stream",
     "text": [
      "[489]\ttest-logloss:0.24665053763859704\ttest-auc:0.95871401447274962\ttest-error:0.10207965776590017\ttrain-logloss:0.23665671809390015\ttrain-auc:0.96293658098111157\ttrain-error:0.09709685490550349\n",
      "[490]\ttest-logloss:0.24660578728118515\ttest-auc:0.95873119619204406\ttest-error:0.10206973218295827\ttrain-logloss:0.23659705920430030\ttrain-auc:0.96295922950957169\ttrain-error:0.09705556661164313\n"
     ]
    },
    {
     "name": "stderr",
     "output_type": "stream",
     "text": [
      "[491]\ttest-logloss:0.24657966074263787\ttest-auc:0.95873830791449921\ttest-error:0.10206725078722280\ttrain-logloss:0.23656020026901195\ttrain-auc:0.96296957182118281\ttrain-error:0.09705886967515197\n",
      "[492]\ttest-logloss:0.24654378395300638\ttest-auc:0.95874982681606569\ttest-error:0.10205236241280996\ttrain-logloss:0.23650653887814424\ttrain-auc:0.96298953875456905\ttrain-error:0.09703987705997620\n"
     ]
    },
    {
     "name": "stderr",
     "output_type": "stream",
     "text": [
      "[493]\ttest-logloss:0.24652303914042631\ttest-auc:0.95875267137697540\ttest-error:0.10204491822560353\ttrain-logloss:0.23646840525204382\ttrain-auc:0.96299815742872319\ttrain-error:0.09701592984953721\n",
      "[494]\ttest-logloss:0.24649769379337924\ttest-auc:0.95875824719170388\ttest-error:0.10203002985119070\ttrain-logloss:0.23642970340898062\ttrain-auc:0.96300708242390931\ttrain-error:0.09699528570260703\n"
     ]
    },
    {
     "name": "stderr",
     "output_type": "stream",
     "text": [
      "[495]\ttest-logloss:0.24647042376660161\ttest-auc:0.95876516711349158\ttest-error:0.10200769728957144\ttrain-logloss:0.23639382528910738\ttrain-auc:0.96301616186429095\ttrain-error:0.09696720966278199\n",
      "[496]\ttest-logloss:0.24644210187106025\ttest-auc:0.95877767618677334\ttest-error:0.10198536472795218\ttrain-logloss:0.23634282523962397\ttrain-auc:0.96303772029862855\ttrain-error:0.09694656551585182\n"
     ]
    },
    {
     "name": "stderr",
     "output_type": "stream",
     "text": [
      "[497]\ttest-logloss:0.24642529255367285\ttest-auc:0.95878086162949849\ttest-error:0.10200273449810049\ttrain-logloss:0.23631640728594519\ttrain-auc:0.96304331392507758\ttrain-error:0.09693335326181650\n",
      "[498]\ttest-logloss:0.24640902847485191\ttest-auc:0.95878770629646248\ttest-error:0.10199777170662955\ttrain-logloss:0.23628677705378182\ttrain-auc:0.96305693961269423\ttrain-error:0.09692509560304444\n"
     ]
    },
    {
     "name": "stderr",
     "output_type": "stream",
     "text": [
      "[499]\ttest-logloss:0.24636790499575201\ttest-auc:0.95880594711256595\ttest-error:0.10198536472795218\ttrain-logloss:0.23622673825919008\ttrain-auc:0.96308348828192669\ttrain-error:0.09690362569023706\n",
      "[500]\ttest-logloss:0.24634840544345965\ttest-auc:0.95881188909108539\ttest-error:0.10195062518765555\ttrain-logloss:0.23619035953524681\ttrain-auc:0.96309465384801785\ttrain-error:0.09686316316225391\n"
     ]
    },
    {
     "data": {
      "text/plain": [
       "Booster(Ptr{Nothing} @0x0000000020a2c150)"
      ]
     },
     "metadata": {},
     "output_type": "display_data"
    }
   ],
   "source": [
    "model = fit_xgb_clf(X_train, y_train, X_val, val_labels)"
   ]
  },
  {
   "cell_type": "code",
   "execution_count": 18,
   "metadata": {},
   "outputs": [
    {
     "data": {
      "text/plain": [
       "403997-element Vector{Float32}:\n",
       " 0.00077848166\n",
       " 0.14187185\n",
       " 0.002530643\n",
       " 0.43887255\n",
       " 0.0033585855\n",
       " 0.12748805\n",
       " 0.7721033\n",
       " 0.003029308\n",
       " 0.83401877\n",
       " 0.00046503125\n",
       " ⋮\n",
       " 0.86056775\n",
       " 0.75044924\n",
       " 0.8752506\n",
       " 0.738889\n",
       " 0.67851615\n",
       " 0.3130518\n",
       " 0.9806183\n",
       " 0.9518672\n",
       " 0.8244352"
      ]
     },
     "metadata": {},
     "output_type": "display_data"
    }
   ],
   "source": [
    "xgb_probas = predict(model, X_test)"
   ]
  },
  {
   "cell_type": "code",
   "execution_count": 19,
   "metadata": {},
   "outputs": [],
   "source": [
    "writedlm( \"../foo/lab_xgb_test_probas2.csv\",  xgb_probas, ',')"
   ]
  },
  {
   "cell_type": "code",
   "execution_count": 20,
   "metadata": {},
   "outputs": [],
   "source": []
  }
 ],
 "metadata": {
  "kernelspec": {
   "display_name": "Julia 1.7.3",
   "language": "julia",
   "name": "julia-1.7"
  },
  "language_info": {
   "file_extension": ".jl",
   "mimetype": "application/julia",
   "name": "julia",
   "version": "1.7.3"
  },
  "orig_nbformat": 4,
  "vscode": {
   "interpreter": {
    "hash": "f075184c5ef2f0b32d809a510d5efd6bb855cd1f11e474e44795b0201961dbbc"
   }
  }
 },
 "nbformat": 4,
 "nbformat_minor": 2
}
